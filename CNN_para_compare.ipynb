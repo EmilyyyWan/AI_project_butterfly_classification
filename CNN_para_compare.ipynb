{
 "cells": [
  {
   "cell_type": "markdown",
   "metadata": {},
   "source": [
    "## Convolutional Neural Network - with parameter comparisons and history"
   ]
  },
  {
   "cell_type": "code",
   "execution_count": 2,
   "metadata": {},
   "outputs": [],
   "source": [
    "import numpy as np\n",
    "import matplotlib.pyplot as plt\n",
    "import seaborn as sns\n",
    "import torch\n",
    "import torch.nn as nn\n",
    "import torch.optim as optim\n",
    "from torch.utils.data import DataLoader\n",
    "from torch.utils.data import ConcatDataset\n",
    "from torchvision import datasets, transforms, models\n",
    "from tqdm import tqdm\n",
    "import time\n",
    "from sklearn.metrics import roc_curve, auc\n",
    "from sklearn.metrics import classification_report\n",
    "from sklearn.metrics import confusion_matrix\n",
    "from sklearn.metrics import precision_score, recall_score, f1_score, accuracy_score\n",
    "from sklearn.preprocessing import label_binarize\n"
   ]
  },
  {
   "cell_type": "markdown",
   "metadata": {},
   "source": [
    "### Define Simple CNN Model"
   ]
  },
  {
   "cell_type": "code",
   "execution_count": 3,
   "metadata": {},
   "outputs": [],
   "source": [
    "# CNN Model\n",
    "class SimpleCNN(nn.Module):\n",
    "    def __init__(self, num_classes):\n",
    "        super(SimpleCNN, self).__init__()\n",
    "        self.conv_layers = nn.Sequential(\n",
    "            nn.Conv2d(3, 32, kernel_size=3, stride=1, padding=1),\n",
    "            nn.ReLU(),\n",
    "            nn.MaxPool2d(kernel_size=2, stride=2),\n",
    "\n",
    "            nn.Conv2d(32, 64, kernel_size=3, stride=1, padding=1),\n",
    "            nn.ReLU(),\n",
    "            nn.MaxPool2d(kernel_size=2, stride=2),\n",
    "\n",
    "            nn.Conv2d(64, 128, kernel_size=3, stride=1, padding=1),\n",
    "            nn.ReLU(),\n",
    "            nn.MaxPool2d(kernel_size=2, stride=2)\n",
    "        )\n",
    "        self.fc_layers = nn.Sequential(\n",
    "            nn.Flatten(),\n",
    "            nn.Linear(128 * 8 * 8, 256),\n",
    "            nn.ReLU(),\n",
    "            nn.Dropout(0.5),\n",
    "            nn.Linear(256, num_classes)\n",
    "        )\n",
    "\n",
    "    def forward(self, x):\n",
    "        x = self.conv_layers(x)\n",
    "        x = self.fc_layers(x)\n",
    "        return x"
   ]
  },
  {
   "cell_type": "markdown",
   "metadata": {},
   "source": [
    "### Define training process"
   ]
  },
  {
   "cell_type": "code",
   "execution_count": 17,
   "metadata": {},
   "outputs": [],
   "source": [
    "def trainingCNN(model, tr_loader, va_loader,learning_rate, num_epoch=10):\n",
    "    device = torch.device(\"mps\" if torch.backends.mps.is_available() else \"cpu\")\n",
    "    model.to(device)\n",
    "\n",
    "    criterion = nn.CrossEntropyLoss()\n",
    "    optimizer = optim.Adam(model.parameters(), lr=learning_rate)\n",
    "\n",
    "    history = {\"train_loss\": [], \"valid_loss\": [], \"valid_accuracy\": [], \n",
    "               \"valid_f1\":[], \"valid_precision\":[], \"valid_recall\":[], \"total_duration\":0}\n",
    "    total_duration = 0\n",
    "\n",
    "    # Training and Validation Loop\n",
    "    epochs = num_epoch\n",
    "    for epoch in range(epochs):\n",
    "        start_time = time.time()\n",
    "        model.train()\n",
    "        train_loss = 0\n",
    "        train_preds = []\n",
    "        train_labels = []\n",
    "        for images, labels in tqdm(tr_loader, desc=f\"Epoch {epoch+1}/{epochs} - Training\", leave=False):\n",
    "            images, labels = images.to(device), labels.to(device)\n",
    "\n",
    "            # Forward pass\n",
    "            outputs = model(images)\n",
    "            loss = criterion(outputs, labels)\n",
    "\n",
    "            # Backward pass and optimization\n",
    "            optimizer.zero_grad()\n",
    "            loss.backward()\n",
    "            optimizer.step()\n",
    "\n",
    "            train_loss += loss.item()\n",
    "            _, preds = torch.max(outputs, 1)\n",
    "            train_preds.extend(preds.cpu().numpy())\n",
    "            train_labels.extend(labels.cpu().numpy())\n",
    "\n",
    "        train_loss /= len(tr_loader)\n",
    "        train_precision = precision_score(train_labels, train_preds, average='macro', zero_division=1)\n",
    "        train_recall = recall_score(train_labels, train_preds, average='macro', zero_division=1)\n",
    "\n",
    "        # Validation\n",
    "        model.eval()\n",
    "        valid_loss = 0\n",
    "        all_labels = []\n",
    "        all_preds = []\n",
    "        with torch.no_grad():\n",
    "            for images, labels in va_loader:\n",
    "                images, labels = images.to(device), labels.to(device)\n",
    "                outputs = model(images)\n",
    "                loss = criterion(outputs, labels)\n",
    "\n",
    "                valid_loss += loss.item()\n",
    "\n",
    "                _, preds = torch.max(outputs, 1)\n",
    "                all_labels.extend(labels.cpu().numpy())\n",
    "                all_preds.extend(preds.cpu().numpy())\n",
    "\n",
    "        valid_loss /= len(va_loader)\n",
    "        valid_accuracy = (torch.tensor(all_preds) == torch.tensor(all_labels)).float().mean().item()\n",
    "        valid_f1 = f1_score(all_labels, all_preds, average='macro')\n",
    "        valid_precision = precision_score(all_labels, all_preds, average='macro', zero_division=1)\n",
    "        valid_recall = recall_score(all_labels, all_preds, average='macro', zero_division=1)\n",
    "\n",
    "        epoch_duration = time.time() - start_time\n",
    "        total_duration += epoch_duration\n",
    "\n",
    "        # Store in history\n",
    "        history[\"train_loss\"].append(train_loss)\n",
    "        history[\"valid_loss\"].append(valid_loss)\n",
    "        history[\"valid_accuracy\"].append(valid_accuracy)\n",
    "        history[\"valid_f1\"].append(valid_f1)\n",
    "        history[\"valid_precision\"].append(valid_precision)\n",
    "        history[\"valid_recall\"].append(valid_recall)\n",
    "\n",
    "        print(f\"Epoch {epoch+1}/{epochs} - Duration: {epoch_duration:.2f}s\")\n",
    "        print(f\"Train Loss: {train_loss:.4f}, Train Precision: {train_precision:.4f}, Train Recall: {train_recall:.4f}\")\n",
    "        print(f\"Valid Loss: {valid_loss:.4f}, Valid Accuracy: {valid_accuracy:.4f}, Valid F1 Score: {valid_f1:.4f}, Valid Precision: {valid_precision:.4f}, Valid Recall: {valid_recall:.4f}\")\n",
    "    \n",
    "    history[\"total_duration\"] = total_duration\n",
    "\n",
    "    return model, history"
   ]
  },
  {
   "cell_type": "markdown",
   "metadata": {},
   "source": [
    "### Define training Dataloader"
   ]
  },
  {
   "cell_type": "code",
   "execution_count": 5,
   "metadata": {},
   "outputs": [],
   "source": [
    "def loadTrainingData(i_size, b_size, original=True):\n",
    "    # Data transformations with augmentation\n",
    "    train_transforms = transforms.Compose([\n",
    "        transforms.Resize((i_size, i_size)),\n",
    "        transforms.RandomHorizontalFlip(),\n",
    "        transforms.RandomRotation(45),\n",
    "        transforms.ToTensor(),\n",
    "        transforms.Normalize(mean=[0.485, 0.456, 0.406], std=[0.229, 0.224, 0.225])  # Normalize\n",
    "    ])\n",
    "\n",
    "    valid_test_transforms = transforms.Compose([\n",
    "        transforms.Resize((i_size, i_size)),\n",
    "        transforms.ToTensor(),\n",
    "        transforms.Normalize(mean=[0.485, 0.456, 0.406], std=[0.229, 0.224, 0.225])  # Normalize\n",
    "    ])\n",
    "\n",
    "    # Datasets\n",
    "    train_dataset = datasets.ImageFolder(\"butterfly_and_moth_classification/train\", transform=train_transforms)\n",
    "    valid_dataset = datasets.ImageFolder(\"butterfly_and_moth_classification/valid\", transform=valid_test_transforms)\n",
    "    test_dataset = datasets.ImageFolder(\"butterfly_and_moth_classification/test\", transform=valid_test_transforms)\n",
    "\n",
    "    # DataLoaders\n",
    "    batch_size = b_size\n",
    "    train_loader = DataLoader(train_dataset, batch_size=batch_size, shuffle=True)\n",
    "    valid_loader = DataLoader(valid_dataset, batch_size=batch_size, shuffle=False)\n",
    "    test_loader = DataLoader(test_dataset, batch_size=batch_size, shuffle=False)\n",
    "\n",
    "    if(original == False):\n",
    "        train_original = datasets.ImageFolder(\"butterfly_and_moth_classification/train\", transform=valid_test_transforms) # original training set\n",
    "        augmented_dataset = datasets.ImageFolder(\"butterfly_and_moth_classification/train\", transform=train_transforms) # trainsformed training set\n",
    "        train_combined = ConcatDataset([train_original, augmented_dataset])\n",
    "        train_loader = DataLoader(train_combined, batch_size=batch_size, shuffle=True)\n",
    "\n",
    "    print(f\"Training set size: {len(train_loader.dataset)}\")\n",
    "    print(f\"Validation set size: {len(valid_loader.dataset)}\")\n",
    "    print(f\"Test set size: {len(test_loader.dataset)}\")\n",
    "    \n",
    "    return train_dataset, valid_dataset, test_dataset, train_loader, valid_loader, test_loader"
   ]
  },
  {
   "cell_type": "code",
   "execution_count": 6,
   "metadata": {},
   "outputs": [],
   "source": [
    "# Set seed for reproducibility\n",
    "torch.manual_seed(42)\n",
    "np.random.seed(42)\n",
    "\n",
    "# Set CUDA seed (if using GPU)\n",
    "if torch.cuda.is_available():\n",
    "    torch.cuda.manual_seed_all(42)  # for all GPUs\n",
    "\n",
    "# Ensure deterministic behavior\n",
    "torch.backends.cudnn.deterministic = True\n",
    "torch.backends.cudnn.benchmark = False"
   ]
  },
  {
   "cell_type": "markdown",
   "metadata": {},
   "source": [
    "**Sub-model 1:**<br>\n",
    "input size 64 x 64, batch_size = 64, learning rate = 0.001, original training set"
   ]
  },
  {
   "cell_type": "code",
   "execution_count": 18,
   "metadata": {},
   "outputs": [
    {
     "name": "stdout",
     "output_type": "stream",
     "text": [
      "Training set size: 12594\n",
      "Validation set size: 500\n",
      "Test set size: 500\n"
     ]
    },
    {
     "name": "stderr",
     "output_type": "stream",
     "text": [
      "                                                                        \r"
     ]
    },
    {
     "name": "stdout",
     "output_type": "stream",
     "text": [
      "Epoch 1/10 - Duration: 19.71s\n",
      "Train Loss: 3.9093, Train Precision: 0.0915, Train Recall: 0.0911\n",
      "Valid Loss: 2.8170, Valid Accuracy: 0.3140, Valid F1 Score: 0.2625, Valid Precision: 0.5513, Valid Recall: 0.3140\n"
     ]
    },
    {
     "name": "stderr",
     "output_type": "stream",
     "text": [
      "                                                                        \r"
     ]
    },
    {
     "name": "stdout",
     "output_type": "stream",
     "text": [
      "Epoch 2/10 - Duration: 18.96s\n",
      "Train Loss: 2.8007, Train Precision: 0.2586, Train Recall: 0.2737\n",
      "Valid Loss: 2.0746, Valid Accuracy: 0.4760, Valid F1 Score: 0.4445, Valid Precision: 0.5924, Valid Recall: 0.4760\n"
     ]
    },
    {
     "name": "stderr",
     "output_type": "stream",
     "text": [
      "                                                                        \r"
     ]
    },
    {
     "name": "stdout",
     "output_type": "stream",
     "text": [
      "Epoch 3/10 - Duration: 18.81s\n",
      "Train Loss: 2.3069, Train Precision: 0.3672, Train Recall: 0.3777\n",
      "Valid Loss: 1.7507, Valid Accuracy: 0.5460, Valid F1 Score: 0.5272, Valid Precision: 0.6524, Valid Recall: 0.5460\n"
     ]
    },
    {
     "name": "stderr",
     "output_type": "stream",
     "text": [
      "                                                                        \r"
     ]
    },
    {
     "name": "stdout",
     "output_type": "stream",
     "text": [
      "Epoch 4/10 - Duration: 18.90s\n",
      "Train Loss: 2.0422, Train Precision: 0.4297, Train Recall: 0.4365\n",
      "Valid Loss: 1.4717, Valid Accuracy: 0.6120, Valid F1 Score: 0.5891, Valid Precision: 0.6833, Valid Recall: 0.6120\n"
     ]
    },
    {
     "name": "stderr",
     "output_type": "stream",
     "text": [
      "                                                                        \r"
     ]
    },
    {
     "name": "stdout",
     "output_type": "stream",
     "text": [
      "Epoch 5/10 - Duration: 18.89s\n",
      "Train Loss: 1.8496, Train Precision: 0.4839, Train Recall: 0.4892\n",
      "Valid Loss: 1.2861, Valid Accuracy: 0.6660, Valid F1 Score: 0.6492, Valid Precision: 0.7140, Valid Recall: 0.6660\n"
     ]
    },
    {
     "name": "stderr",
     "output_type": "stream",
     "text": [
      "                                                                        \r"
     ]
    },
    {
     "name": "stdout",
     "output_type": "stream",
     "text": [
      "Epoch 6/10 - Duration: 18.79s\n",
      "Train Loss: 1.7186, Train Precision: 0.5157, Train Recall: 0.5187\n",
      "Valid Loss: 1.1897, Valid Accuracy: 0.6820, Valid F1 Score: 0.6654, Valid Precision: 0.7075, Valid Recall: 0.6820\n"
     ]
    },
    {
     "name": "stderr",
     "output_type": "stream",
     "text": [
      "                                                                        \r"
     ]
    },
    {
     "name": "stdout",
     "output_type": "stream",
     "text": [
      "Epoch 7/10 - Duration: 19.12s\n",
      "Train Loss: 1.6263, Train Precision: 0.5401, Train Recall: 0.5441\n",
      "Valid Loss: 1.1719, Valid Accuracy: 0.6920, Valid F1 Score: 0.6811, Valid Precision: 0.7728, Valid Recall: 0.6920\n"
     ]
    },
    {
     "name": "stderr",
     "output_type": "stream",
     "text": [
      "                                                                        \r"
     ]
    },
    {
     "name": "stdout",
     "output_type": "stream",
     "text": [
      "Epoch 8/10 - Duration: 19.49s\n",
      "Train Loss: 1.5341, Train Precision: 0.5616, Train Recall: 0.5633\n",
      "Valid Loss: 1.0805, Valid Accuracy: 0.7020, Valid F1 Score: 0.6859, Valid Precision: 0.7642, Valid Recall: 0.7020\n"
     ]
    },
    {
     "name": "stderr",
     "output_type": "stream",
     "text": [
      "                                                                        \r"
     ]
    },
    {
     "name": "stdout",
     "output_type": "stream",
     "text": [
      "Epoch 9/10 - Duration: 18.55s\n",
      "Train Loss: 1.4675, Train Precision: 0.5769, Train Recall: 0.5789\n",
      "Valid Loss: 0.9849, Valid Accuracy: 0.7460, Valid F1 Score: 0.7329, Valid Precision: 0.7732, Valid Recall: 0.7460\n"
     ]
    },
    {
     "name": "stderr",
     "output_type": "stream",
     "text": [
      "                                                                         \r"
     ]
    },
    {
     "name": "stdout",
     "output_type": "stream",
     "text": [
      "Epoch 10/10 - Duration: 18.61s\n",
      "Train Loss: 1.4154, Train Precision: 0.5930, Train Recall: 0.5934\n",
      "Valid Loss: 1.0143, Valid Accuracy: 0.7220, Valid F1 Score: 0.7118, Valid Precision: 0.7780, Valid Recall: 0.7220\n"
     ]
    }
   ],
   "source": [
    "train_dataset, valid_dataset, test_dataset, train_loader, valid_loader, test_loader = loadTrainingData(64,64);\n",
    "num_classes = len(train_dataset.classes)\n",
    "model = SimpleCNN(num_classes=num_classes)\n",
    "model_1, history_1 = trainingCNN(model, train_loader, valid_loader, learning_rate=0.001)"
   ]
  },
  {
   "cell_type": "markdown",
   "metadata": {},
   "source": [
    "**Sub-model 2:**<br>\n",
    "input size 64 x 64, batch_size = 64, learning rate = 0.0001, original training set"
   ]
  },
  {
   "cell_type": "code",
   "execution_count": 25,
   "metadata": {},
   "outputs": [
    {
     "name": "stdout",
     "output_type": "stream",
     "text": [
      "Training set size: 12594\n",
      "Validation set size: 500\n",
      "Test set size: 500\n"
     ]
    },
    {
     "name": "stderr",
     "output_type": "stream",
     "text": [
      "                                                                        \r"
     ]
    },
    {
     "name": "stdout",
     "output_type": "stream",
     "text": [
      "Epoch 1/10 - Duration: 20.07s\n",
      "Train Loss: 4.4869, Train Precision: 0.0504, Train Recall: 0.0276\n",
      "Valid Loss: 4.1222, Valid Accuracy: 0.0780, Valid F1 Score: 0.0336, Valid Precision: 0.6508, Valid Recall: 0.0780\n"
     ]
    },
    {
     "name": "stderr",
     "output_type": "stream",
     "text": [
      "                                                                        \r"
     ]
    },
    {
     "name": "stdout",
     "output_type": "stream",
     "text": [
      "Epoch 2/10 - Duration: 19.06s\n",
      "Train Loss: 4.0733, Train Precision: 0.0589, Train Recall: 0.0662\n",
      "Valid Loss: 3.6208, Valid Accuracy: 0.1560, Valid F1 Score: 0.1026, Valid Precision: 0.6005, Valid Recall: 0.1560\n"
     ]
    },
    {
     "name": "stderr",
     "output_type": "stream",
     "text": [
      "                                                                        \r"
     ]
    },
    {
     "name": "stdout",
     "output_type": "stream",
     "text": [
      "Epoch 3/10 - Duration: 18.99s\n",
      "Train Loss: 3.7095, Train Precision: 0.1001, Train Recall: 0.1131\n",
      "Valid Loss: 3.1933, Valid Accuracy: 0.2440, Valid F1 Score: 0.1958, Valid Precision: 0.5049, Valid Recall: 0.2440\n"
     ]
    },
    {
     "name": "stderr",
     "output_type": "stream",
     "text": [
      "                                                                        \r"
     ]
    },
    {
     "name": "stdout",
     "output_type": "stream",
     "text": [
      "Epoch 4/10 - Duration: 19.61s\n",
      "Train Loss: 3.4061, Train Precision: 0.1462, Train Recall: 0.1571\n",
      "Valid Loss: 2.8893, Valid Accuracy: 0.3240, Valid F1 Score: 0.2704, Valid Precision: 0.4882, Valid Recall: 0.3240\n"
     ]
    },
    {
     "name": "stderr",
     "output_type": "stream",
     "text": [
      "                                                                        \r"
     ]
    },
    {
     "name": "stdout",
     "output_type": "stream",
     "text": [
      "Epoch 5/10 - Duration: 18.66s\n",
      "Train Loss: 3.1748, Train Precision: 0.1869, Train Recall: 0.2015\n",
      "Valid Loss: 2.6590, Valid Accuracy: 0.3860, Valid F1 Score: 0.3329, Valid Precision: 0.5283, Valid Recall: 0.3860\n"
     ]
    },
    {
     "name": "stderr",
     "output_type": "stream",
     "text": [
      "                                                                        \r"
     ]
    },
    {
     "name": "stdout",
     "output_type": "stream",
     "text": [
      "Epoch 6/10 - Duration: 19.29s\n",
      "Train Loss: 2.9939, Train Precision: 0.2175, Train Recall: 0.2297\n",
      "Valid Loss: 2.4533, Valid Accuracy: 0.4220, Valid F1 Score: 0.3756, Valid Precision: 0.4898, Valid Recall: 0.4220\n"
     ]
    },
    {
     "name": "stderr",
     "output_type": "stream",
     "text": [
      "                                                                        \r"
     ]
    },
    {
     "name": "stdout",
     "output_type": "stream",
     "text": [
      "Epoch 7/10 - Duration: 18.96s\n",
      "Train Loss: 2.8275, Train Precision: 0.2604, Train Recall: 0.2712\n",
      "Valid Loss: 2.3130, Valid Accuracy: 0.4720, Valid F1 Score: 0.4284, Valid Precision: 0.5564, Valid Recall: 0.4720\n"
     ]
    },
    {
     "name": "stderr",
     "output_type": "stream",
     "text": [
      "                                                                        \r"
     ]
    },
    {
     "name": "stdout",
     "output_type": "stream",
     "text": [
      "Epoch 8/10 - Duration: 18.62s\n",
      "Train Loss: 2.6904, Train Precision: 0.2877, Train Recall: 0.2992\n",
      "Valid Loss: 2.1650, Valid Accuracy: 0.4820, Valid F1 Score: 0.4500, Valid Precision: 0.5263, Valid Recall: 0.4820\n"
     ]
    },
    {
     "name": "stderr",
     "output_type": "stream",
     "text": [
      "                                                                        \r"
     ]
    },
    {
     "name": "stdout",
     "output_type": "stream",
     "text": [
      "Epoch 9/10 - Duration: 18.57s\n",
      "Train Loss: 2.5888, Train Precision: 0.3054, Train Recall: 0.3181\n",
      "Valid Loss: 2.0465, Valid Accuracy: 0.5160, Valid F1 Score: 0.4864, Valid Precision: 0.5650, Valid Recall: 0.5160\n"
     ]
    },
    {
     "name": "stderr",
     "output_type": "stream",
     "text": [
      "                                                                         \r"
     ]
    },
    {
     "name": "stdout",
     "output_type": "stream",
     "text": [
      "Epoch 10/10 - Duration: 18.58s\n",
      "Train Loss: 2.5005, Train Precision: 0.3299, Train Recall: 0.3390\n",
      "Valid Loss: 1.9606, Valid Accuracy: 0.5260, Valid F1 Score: 0.4883, Valid Precision: 0.5646, Valid Recall: 0.5260\n"
     ]
    }
   ],
   "source": [
    "train_dataset, valid_dataset, test_dataset, train_loader, valid_loader, test_loader = loadTrainingData(64,64);\n",
    "num_classes = len(train_dataset.classes)\n",
    "model = SimpleCNN(num_classes=num_classes)\n",
    "model_2, history_2 = trainingCNN(model, train_loader, valid_loader, learning_rate=0.0001, num_epoch=10)"
   ]
  },
  {
   "cell_type": "markdown",
   "metadata": {},
   "source": [
    "**Sub-model 3:**<br>\n",
    "input size 64 x 64, batch_size = 128, learning rate = 0.001, original training set"
   ]
  },
  {
   "cell_type": "code",
   "execution_count": 26,
   "metadata": {},
   "outputs": [
    {
     "name": "stdout",
     "output_type": "stream",
     "text": [
      "Training set size: 12594\n",
      "Validation set size: 500\n",
      "Test set size: 500\n"
     ]
    },
    {
     "name": "stderr",
     "output_type": "stream",
     "text": [
      "                                                                      \r"
     ]
    },
    {
     "name": "stdout",
     "output_type": "stream",
     "text": [
      "Epoch 1/10 - Duration: 17.71s\n",
      "Train Loss: 4.1588, Train Precision: 0.0569, Train Recall: 0.0568\n",
      "Valid Loss: 3.3943, Valid Accuracy: 0.1940, Valid F1 Score: 0.1512, Valid Precision: 0.5395, Valid Recall: 0.1940\n"
     ]
    },
    {
     "name": "stderr",
     "output_type": "stream",
     "text": [
      "                                                                      \r"
     ]
    },
    {
     "name": "stdout",
     "output_type": "stream",
     "text": [
      "Epoch 2/10 - Duration: 17.10s\n",
      "Train Loss: 3.2614, Train Precision: 0.1707, Train Recall: 0.1863\n",
      "Valid Loss: 2.5659, Valid Accuracy: 0.3740, Valid F1 Score: 0.3397, Valid Precision: 0.5144, Valid Recall: 0.3740\n"
     ]
    },
    {
     "name": "stderr",
     "output_type": "stream",
     "text": [
      "                                                                      \r"
     ]
    },
    {
     "name": "stdout",
     "output_type": "stream",
     "text": [
      "Epoch 3/10 - Duration: 17.04s\n",
      "Train Loss: 2.7008, Train Precision: 0.2840, Train Recall: 0.2967\n",
      "Valid Loss: 2.0838, Valid Accuracy: 0.4620, Valid F1 Score: 0.4288, Valid Precision: 0.5690, Valid Recall: 0.4620\n"
     ]
    },
    {
     "name": "stderr",
     "output_type": "stream",
     "text": [
      "                                                                      \r"
     ]
    },
    {
     "name": "stdout",
     "output_type": "stream",
     "text": [
      "Epoch 4/10 - Duration: 17.13s\n",
      "Train Loss: 2.3098, Train Precision: 0.3719, Train Recall: 0.3822\n",
      "Valid Loss: 1.7620, Valid Accuracy: 0.5540, Valid F1 Score: 0.5324, Valid Precision: 0.6157, Valid Recall: 0.5540\n"
     ]
    },
    {
     "name": "stderr",
     "output_type": "stream",
     "text": [
      "                                                                      \r"
     ]
    },
    {
     "name": "stdout",
     "output_type": "stream",
     "text": [
      "Epoch 5/10 - Duration: 17.31s\n",
      "Train Loss: 2.1148, Train Precision: 0.4144, Train Recall: 0.4229\n",
      "Valid Loss: 1.6239, Valid Accuracy: 0.5920, Valid F1 Score: 0.5650, Valid Precision: 0.6428, Valid Recall: 0.5920\n"
     ]
    },
    {
     "name": "stderr",
     "output_type": "stream",
     "text": [
      "                                                                      \r"
     ]
    },
    {
     "name": "stdout",
     "output_type": "stream",
     "text": [
      "Epoch 6/10 - Duration: 17.35s\n",
      "Train Loss: 1.9418, Train Precision: 0.4562, Train Recall: 0.4629\n",
      "Valid Loss: 1.4153, Valid Accuracy: 0.6400, Valid F1 Score: 0.6257, Valid Precision: 0.6881, Valid Recall: 0.6400\n"
     ]
    },
    {
     "name": "stderr",
     "output_type": "stream",
     "text": [
      "                                                                      \r"
     ]
    },
    {
     "name": "stdout",
     "output_type": "stream",
     "text": [
      "Epoch 7/10 - Duration: 17.17s\n",
      "Train Loss: 1.8072, Train Precision: 0.4924, Train Recall: 0.4988\n",
      "Valid Loss: 1.3640, Valid Accuracy: 0.6560, Valid F1 Score: 0.6412, Valid Precision: 0.6790, Valid Recall: 0.6560\n"
     ]
    },
    {
     "name": "stderr",
     "output_type": "stream",
     "text": [
      "                                                                      \r"
     ]
    },
    {
     "name": "stdout",
     "output_type": "stream",
     "text": [
      "Epoch 8/10 - Duration: 17.11s\n",
      "Train Loss: 1.7538, Train Precision: 0.5084, Train Recall: 0.5129\n",
      "Valid Loss: 1.2663, Valid Accuracy: 0.6480, Valid F1 Score: 0.6327, Valid Precision: 0.6623, Valid Recall: 0.6480\n"
     ]
    },
    {
     "name": "stderr",
     "output_type": "stream",
     "text": [
      "                                                                      \r"
     ]
    },
    {
     "name": "stdout",
     "output_type": "stream",
     "text": [
      "Epoch 9/10 - Duration: 17.07s\n",
      "Train Loss: 1.6530, Train Precision: 0.5295, Train Recall: 0.5324\n",
      "Valid Loss: 1.2269, Valid Accuracy: 0.6780, Valid F1 Score: 0.6652, Valid Precision: 0.7163, Valid Recall: 0.6780\n"
     ]
    },
    {
     "name": "stderr",
     "output_type": "stream",
     "text": [
      "                                                                       \r"
     ]
    },
    {
     "name": "stdout",
     "output_type": "stream",
     "text": [
      "Epoch 10/10 - Duration: 17.18s\n",
      "Train Loss: 1.6005, Train Precision: 0.5454, Train Recall: 0.5488\n",
      "Valid Loss: 1.1406, Valid Accuracy: 0.6920, Valid F1 Score: 0.6779, Valid Precision: 0.7270, Valid Recall: 0.6920\n"
     ]
    }
   ],
   "source": [
    "train_dataset, valid_dataset, test_dataset, train_loader, valid_loader, test_loader = loadTrainingData(64,b_size=128);\n",
    "num_classes = len(train_dataset.classes)\n",
    "model = SimpleCNN(num_classes=num_classes)\n",
    "model_3 ,history_3 = trainingCNN(model, train_loader, valid_loader, learning_rate=0.001)"
   ]
  },
  {
   "cell_type": "markdown",
   "metadata": {},
   "source": [
    "**Sub-model 4:**<br>\n",
    "input size 64 x 64, batch_size = 64, learning rate = 0.001, expanded training set"
   ]
  },
  {
   "cell_type": "code",
   "execution_count": 27,
   "metadata": {},
   "outputs": [
    {
     "name": "stdout",
     "output_type": "stream",
     "text": [
      "Training set size: 25188\n",
      "Validation set size: 500\n",
      "Test set size: 500\n"
     ]
    },
    {
     "name": "stderr",
     "output_type": "stream",
     "text": [
      "                                                                        \r"
     ]
    },
    {
     "name": "stdout",
     "output_type": "stream",
     "text": [
      "Epoch 1/10 - Duration: 34.44s\n",
      "Train Loss: 3.4288, Train Precision: 0.1637, Train Recall: 0.1683\n",
      "Valid Loss: 2.0746, Valid Accuracy: 0.4420, Valid F1 Score: 0.4101, Valid Precision: 0.5257, Valid Recall: 0.4420\n"
     ]
    },
    {
     "name": "stderr",
     "output_type": "stream",
     "text": [
      "                                                                        \r"
     ]
    },
    {
     "name": "stdout",
     "output_type": "stream",
     "text": [
      "Epoch 2/10 - Duration: 33.97s\n",
      "Train Loss: 2.2306, Train Precision: 0.3859, Train Recall: 0.3956\n",
      "Valid Loss: 1.4548, Valid Accuracy: 0.6360, Valid F1 Score: 0.6212, Valid Precision: 0.7039, Valid Recall: 0.6360\n"
     ]
    },
    {
     "name": "stderr",
     "output_type": "stream",
     "text": [
      "                                                                        \r"
     ]
    },
    {
     "name": "stdout",
     "output_type": "stream",
     "text": [
      "Epoch 3/10 - Duration: 35.31s\n",
      "Train Loss: 1.7969, Train Precision: 0.4957, Train Recall: 0.5016\n",
      "Valid Loss: 1.2524, Valid Accuracy: 0.6980, Valid F1 Score: 0.6808, Valid Precision: 0.7286, Valid Recall: 0.6980\n"
     ]
    },
    {
     "name": "stderr",
     "output_type": "stream",
     "text": [
      "                                                                        \r"
     ]
    },
    {
     "name": "stdout",
     "output_type": "stream",
     "text": [
      "Epoch 4/10 - Duration: 33.56s\n",
      "Train Loss: 1.5641, Train Precision: 0.5532, Train Recall: 0.5564\n",
      "Valid Loss: 1.0489, Valid Accuracy: 0.7220, Valid F1 Score: 0.7122, Valid Precision: 0.7659, Valid Recall: 0.7220\n"
     ]
    },
    {
     "name": "stderr",
     "output_type": "stream",
     "text": [
      "                                                                        \r"
     ]
    },
    {
     "name": "stdout",
     "output_type": "stream",
     "text": [
      "Epoch 5/10 - Duration: 33.76s\n",
      "Train Loss: 1.4076, Train Precision: 0.5934, Train Recall: 0.5958\n",
      "Valid Loss: 0.9134, Valid Accuracy: 0.7600, Valid F1 Score: 0.7481, Valid Precision: 0.8030, Valid Recall: 0.7600\n"
     ]
    },
    {
     "name": "stderr",
     "output_type": "stream",
     "text": [
      "                                                                        \r"
     ]
    },
    {
     "name": "stdout",
     "output_type": "stream",
     "text": [
      "Epoch 6/10 - Duration: 33.79s\n",
      "Train Loss: 1.2756, Train Precision: 0.6271, Train Recall: 0.6290\n",
      "Valid Loss: 0.8519, Valid Accuracy: 0.7480, Valid F1 Score: 0.7374, Valid Precision: 0.7879, Valid Recall: 0.7480\n"
     ]
    },
    {
     "name": "stderr",
     "output_type": "stream",
     "text": [
      "                                                                        \r"
     ]
    },
    {
     "name": "stdout",
     "output_type": "stream",
     "text": [
      "Epoch 7/10 - Duration: 33.68s\n",
      "Train Loss: 1.1865, Train Precision: 0.6497, Train Recall: 0.6508\n",
      "Valid Loss: 0.8358, Valid Accuracy: 0.7840, Valid F1 Score: 0.7753, Valid Precision: 0.8174, Valid Recall: 0.7840\n"
     ]
    },
    {
     "name": "stderr",
     "output_type": "stream",
     "text": [
      "                                                                        \r"
     ]
    },
    {
     "name": "stdout",
     "output_type": "stream",
     "text": [
      "Epoch 8/10 - Duration: 33.66s\n",
      "Train Loss: 1.0840, Train Precision: 0.6769, Train Recall: 0.6785\n",
      "Valid Loss: 0.7996, Valid Accuracy: 0.7880, Valid F1 Score: 0.7820, Valid Precision: 0.8196, Valid Recall: 0.7880\n"
     ]
    },
    {
     "name": "stderr",
     "output_type": "stream",
     "text": [
      "                                                                        \r"
     ]
    },
    {
     "name": "stdout",
     "output_type": "stream",
     "text": [
      "Epoch 9/10 - Duration: 33.87s\n",
      "Train Loss: 1.0245, Train Precision: 0.6922, Train Recall: 0.6925\n",
      "Valid Loss: 0.7490, Valid Accuracy: 0.7920, Valid F1 Score: 0.7865, Valid Precision: 0.8203, Valid Recall: 0.7920\n"
     ]
    },
    {
     "name": "stderr",
     "output_type": "stream",
     "text": [
      "                                                                         \r"
     ]
    },
    {
     "name": "stdout",
     "output_type": "stream",
     "text": [
      "Epoch 10/10 - Duration: 33.88s\n",
      "Train Loss: 0.9712, Train Precision: 0.7084, Train Recall: 0.7096\n",
      "Valid Loss: 0.7745, Valid Accuracy: 0.7860, Valid F1 Score: 0.7779, Valid Precision: 0.8158, Valid Recall: 0.7860\n"
     ]
    }
   ],
   "source": [
    "train_dataset, valid_dataset, test_dataset, train_loader, valid_loader, test_loader = loadTrainingData(64,64,False);\n",
    "num_classes = len(train_dataset.classes)\n",
    "model = SimpleCNN(num_classes=num_classes)\n",
    "model_4, history_4 = trainingCNN(model, train_loader, valid_loader, learning_rate=0.001)"
   ]
  },
  {
   "cell_type": "markdown",
   "metadata": {},
   "source": [
    "**Sub-model 5:**<br>\n",
    "input size 128 x 128, batch_size = 64, learning rate = 0.001, original training set"
   ]
  },
  {
   "cell_type": "code",
   "execution_count": 28,
   "metadata": {},
   "outputs": [],
   "source": [
    "# CNN Model\n",
    "class SimpleCNN_2(nn.Module):\n",
    "    def __init__(self, num_classes):\n",
    "        super(SimpleCNN_2, self).__init__()\n",
    "        self.conv_layers = nn.Sequential(\n",
    "            nn.Conv2d(3, 32, kernel_size=3, stride=1, padding=1),\n",
    "            nn.ReLU(),\n",
    "            nn.MaxPool2d(kernel_size=2, stride=2),\n",
    "\n",
    "            nn.Conv2d(32, 64, kernel_size=3, stride=1, padding=1),\n",
    "            nn.ReLU(),\n",
    "            nn.MaxPool2d(kernel_size=2, stride=2),\n",
    "\n",
    "            nn.Conv2d(64, 128, kernel_size=3, stride=1, padding=1),\n",
    "            nn.ReLU(),\n",
    "            nn.MaxPool2d(kernel_size=2, stride=2)\n",
    "        )\n",
    "        self.fc_layers = nn.Sequential(\n",
    "            nn.Flatten(),\n",
    "            nn.Linear(128 * 16 * 16, 256),\n",
    "            nn.ReLU(),\n",
    "            nn.Dropout(0.5),\n",
    "            nn.Linear(256, num_classes)\n",
    "        )\n",
    "\n",
    "    def forward(self, x):\n",
    "        x = self.conv_layers(x)\n",
    "        x = self.fc_layers(x)\n",
    "        return x"
   ]
  },
  {
   "cell_type": "code",
   "execution_count": 29,
   "metadata": {},
   "outputs": [
    {
     "name": "stdout",
     "output_type": "stream",
     "text": [
      "Training set size: 12594\n",
      "Validation set size: 500\n",
      "Test set size: 500\n"
     ]
    },
    {
     "name": "stderr",
     "output_type": "stream",
     "text": [
      "                                                                        \r"
     ]
    },
    {
     "name": "stdout",
     "output_type": "stream",
     "text": [
      "Epoch 1/10 - Duration: 39.19s\n",
      "Train Loss: 4.0843, Train Precision: 0.0717, Train Recall: 0.0706\n",
      "Valid Loss: 3.1621, Valid Accuracy: 0.2620, Valid F1 Score: 0.2101, Valid Precision: 0.5111, Valid Recall: 0.2620\n"
     ]
    },
    {
     "name": "stderr",
     "output_type": "stream",
     "text": [
      "                                                                        \r"
     ]
    },
    {
     "name": "stdout",
     "output_type": "stream",
     "text": [
      "Epoch 2/10 - Duration: 43.34s\n",
      "Train Loss: 3.0913, Train Precision: 0.1919, Train Recall: 0.2053\n",
      "Valid Loss: 2.3349, Valid Accuracy: 0.4140, Valid F1 Score: 0.3893, Valid Precision: 0.5418, Valid Recall: 0.4140\n"
     ]
    },
    {
     "name": "stderr",
     "output_type": "stream",
     "text": [
      "                                                                        \r"
     ]
    },
    {
     "name": "stdout",
     "output_type": "stream",
     "text": [
      "Epoch 3/10 - Duration: 43.26s\n",
      "Train Loss: 2.5557, Train Precision: 0.3126, Train Recall: 0.3240\n",
      "Valid Loss: 1.9189, Valid Accuracy: 0.5160, Valid F1 Score: 0.4918, Valid Precision: 0.5806, Valid Recall: 0.5160\n"
     ]
    },
    {
     "name": "stderr",
     "output_type": "stream",
     "text": [
      "                                                                        \r"
     ]
    },
    {
     "name": "stdout",
     "output_type": "stream",
     "text": [
      "Epoch 4/10 - Duration: 43.30s\n",
      "Train Loss: 2.3033, Train Precision: 0.3622, Train Recall: 0.3733\n",
      "Valid Loss: 1.6516, Valid Accuracy: 0.5860, Valid F1 Score: 0.5666, Valid Precision: 0.6545, Valid Recall: 0.5860\n"
     ]
    },
    {
     "name": "stderr",
     "output_type": "stream",
     "text": [
      "                                                                        \r"
     ]
    },
    {
     "name": "stdout",
     "output_type": "stream",
     "text": [
      "Epoch 5/10 - Duration: 43.44s\n",
      "Train Loss: 2.1076, Train Precision: 0.4080, Train Recall: 0.4157\n",
      "Valid Loss: 1.4843, Valid Accuracy: 0.5980, Valid F1 Score: 0.5841, Valid Precision: 0.6753, Valid Recall: 0.5980\n"
     ]
    },
    {
     "name": "stderr",
     "output_type": "stream",
     "text": [
      "                                                                        \r"
     ]
    },
    {
     "name": "stdout",
     "output_type": "stream",
     "text": [
      "Epoch 6/10 - Duration: 43.37s\n",
      "Train Loss: 1.9733, Train Precision: 0.4425, Train Recall: 0.4484\n",
      "Valid Loss: 1.3262, Valid Accuracy: 0.6420, Valid F1 Score: 0.6301, Valid Precision: 0.6886, Valid Recall: 0.6420\n"
     ]
    },
    {
     "name": "stderr",
     "output_type": "stream",
     "text": [
      "                                                                        \r"
     ]
    },
    {
     "name": "stdout",
     "output_type": "stream",
     "text": [
      "Epoch 7/10 - Duration: 43.37s\n",
      "Train Loss: 1.8824, Train Precision: 0.4668, Train Recall: 0.4728\n",
      "Valid Loss: 1.3295, Valid Accuracy: 0.6560, Valid F1 Score: 0.6449, Valid Precision: 0.7374, Valid Recall: 0.6560\n"
     ]
    },
    {
     "name": "stderr",
     "output_type": "stream",
     "text": [
      "                                                                        \r"
     ]
    },
    {
     "name": "stdout",
     "output_type": "stream",
     "text": [
      "Epoch 8/10 - Duration: 44.73s\n",
      "Train Loss: 1.7957, Train Precision: 0.4902, Train Recall: 0.4947\n",
      "Valid Loss: 1.1427, Valid Accuracy: 0.6760, Valid F1 Score: 0.6563, Valid Precision: 0.6923, Valid Recall: 0.6760\n"
     ]
    },
    {
     "name": "stderr",
     "output_type": "stream",
     "text": [
      "                                                                        \r"
     ]
    },
    {
     "name": "stdout",
     "output_type": "stream",
     "text": [
      "Epoch 9/10 - Duration: 43.26s\n",
      "Train Loss: 1.6987, Train Precision: 0.5129, Train Recall: 0.5179\n",
      "Valid Loss: 1.1830, Valid Accuracy: 0.6760, Valid F1 Score: 0.6530, Valid Precision: 0.7265, Valid Recall: 0.6760\n"
     ]
    },
    {
     "name": "stderr",
     "output_type": "stream",
     "text": [
      "                                                                         \r"
     ]
    },
    {
     "name": "stdout",
     "output_type": "stream",
     "text": [
      "Epoch 10/10 - Duration: 44.14s\n",
      "Train Loss: 1.6564, Train Precision: 0.5224, Train Recall: 0.5266\n",
      "Valid Loss: 1.0537, Valid Accuracy: 0.7260, Valid F1 Score: 0.7079, Valid Precision: 0.7596, Valid Recall: 0.7260\n"
     ]
    }
   ],
   "source": [
    "train_dataset, valid_dataset, test_dataset, train_loader, valid_loader, test_loader = loadTrainingData(i_size=128,b_size=64);\n",
    "num_classes = len(train_dataset.classes)\n",
    "model = SimpleCNN_2(num_classes=num_classes)\n",
    "model_5, history_5 = trainingCNN(model, train_loader, valid_loader, learning_rate=0.001)"
   ]
  },
  {
   "cell_type": "markdown",
   "metadata": {},
   "source": [
    "=================================================================="
   ]
  },
  {
   "cell_type": "markdown",
   "metadata": {},
   "source": [
    "### Evaluation"
   ]
  },
  {
   "cell_type": "code",
   "execution_count": 33,
   "metadata": {},
   "outputs": [],
   "source": [
    "models_list = [(\"model_1\", model_1), (\"model_2\", model_2), (\"model_3\", model_3), (\"model_4\", model_4), (\"model_5\", model_5)]\n",
    "models_histories = [(\"model_1\", history_1), (\"model_2\", history_2), (\"model_3\", history_3), (\"model_4\", history_4), (\"model_5\", history_5)]"
   ]
  },
  {
   "cell_type": "code",
   "execution_count": 34,
   "metadata": {},
   "outputs": [
    {
     "data": {
      "image/png": "[encoded data removed]",
      "text/plain": [
       "<Figure size 800x500 with 1 Axes>"
      ]
     },
     "metadata": {},
     "output_type": "display_data"
    }
   ],
   "source": [
    "# Plot Validation Accuracy\n",
    "plt.figure(figsize=(8, 5))\n",
    "for name, history in models_histories:\n",
    "    plt.plot(range(1, 11), history[\"valid_accuracy\"], label=name)\n",
    "plt.title(\"Validation Accuracy over Epochs\")\n",
    "plt.xlabel(\"Epochs\")\n",
    "plt.ylabel(\"Accuracy\")\n",
    "plt.legend()\n",
    "plt.grid(True)\n",
    "plt.show()"
   ]
  }
 ],
 "metadata": {
  "kernelspec": {
   "display_name": "Python 3",
   "language": "python",
   "name": "python3"
  },
  "language_info": {
   "codemirror_mode": {
    "name": "ipython",
    "version": 3
   },
   "file_extension": ".py",
   "mimetype": "text/x-python",
   "name": "python",
   "nbconvert_exporter": "python",
   "pygments_lexer": "ipython3",
   "version": "3.11.9"
  }
 },
 "nbformat": 4,
 "nbformat_minor": 2
}

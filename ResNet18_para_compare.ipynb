{
 "cells": [
  {
   "cell_type": "markdown",
   "metadata": {},
   "source": [
    "## ResNet18 - with parameter comparisons"
   ]
  },
  {
   "cell_type": "code",
   "execution_count": 1,
   "metadata": {},
   "outputs": [],
   "source": [
    "import numpy as np\n",
    "import matplotlib.pyplot as plt\n",
    "import seaborn as sns\n",
    "import torch\n",
    "import torch.nn as nn\n",
    "import torch.optim as optim\n",
    "from torch.utils.data import DataLoader\n",
    "from torch.utils.data import ConcatDataset\n",
    "from torchvision import datasets, transforms, models\n",
    "from tqdm import tqdm\n",
    "import time\n",
    "from sklearn.metrics import f1_score\n",
    "from sklearn.metrics import classification_report\n",
    "from sklearn.metrics import confusion_matrix\n",
    "from sklearn.metrics import precision_score, recall_score"
   ]
  },
  {
   "cell_type": "markdown",
   "metadata": {},
   "source": [
    "### Define training process"
   ]
  },
  {
   "cell_type": "code",
   "execution_count": 2,
   "metadata": {},
   "outputs": [],
   "source": [
    "def trainingResNet(model, tr_loader, va_loader,learning_rate, num_epoch=10):\n",
    "    device = torch.device(\"mps\" if torch.backends.mps.is_available() else \"cpu\")\n",
    "    model = model.to(device)\n",
    "\n",
    "    # Optimizer and Loss Function\n",
    "    optimizer = optim.Adam(model.parameters(), lr=learning_rate)\n",
    "    criterion = nn.CrossEntropyLoss()\n",
    "\n",
    "    history = {\"train_loss\": [], \"valid_loss\": [], \"valid_accuracy\": [], \n",
    "               \"valid_f1\":[], \"valid_precision\":[], \"valid_recall\":[], \"total_duration\":0}\n",
    "    total_duration = 0\n",
    "\n",
    "    # Training and Validation Loop with Progress Updates\n",
    "    epochs = num_epoch\n",
    "    for epoch in range(epochs):\n",
    "        start_time = time.time()\n",
    "        \n",
    "        # Training Phase\n",
    "        model.train()\n",
    "        train_loss = 0\n",
    "        train_preds = []\n",
    "        train_labels = []\n",
    "        \n",
    "        # Use tqdm for batch-level progress\n",
    "        for images, labels in tqdm(tr_loader, desc=f\"Epoch {epoch+1}/{epochs} - Training\", leave=False):\n",
    "            images, labels = images.to(device), labels.to(device)\n",
    "\n",
    "            # Forward pass\n",
    "            outputs = model(images)\n",
    "            loss = criterion(outputs, labels)\n",
    "\n",
    "            # Backward pass and optimization\n",
    "            optimizer.zero_grad()\n",
    "            loss.backward()\n",
    "            optimizer.step()\n",
    "\n",
    "            train_loss += loss.item()\n",
    "            _, preds = torch.max(outputs, 1)\n",
    "            train_preds.extend(preds.cpu().numpy())\n",
    "            train_labels.extend(labels.cpu().numpy())\n",
    "\n",
    "        train_loss /= len(tr_loader)\n",
    "        train_precision = precision_score(train_labels, train_preds, average='macro', zero_division=1)\n",
    "        train_recall = recall_score(train_labels, train_preds, average='macro', zero_division=1)\n",
    "        \n",
    "        # Validation Phase\n",
    "        model.eval()\n",
    "        valid_loss = 0\n",
    "        all_labels = []\n",
    "        all_preds = []\n",
    "        \n",
    "        with torch.no_grad():\n",
    "            # Use tqdm for validation progress\n",
    "            for images, labels in tqdm(va_loader, desc=f\"Epoch {epoch+1}/{epochs} - Validation\", leave=False):\n",
    "                images, labels = images.to(device), labels.to(device)\n",
    "                outputs = model(images)\n",
    "                loss = criterion(outputs, labels)\n",
    "\n",
    "                valid_loss += loss.item()\n",
    "\n",
    "                _, preds = torch.max(outputs, 1)\n",
    "                all_labels.extend(labels.cpu().numpy())\n",
    "                all_preds.extend(preds.cpu().numpy())\n",
    "\n",
    "        valid_loss /= len(va_loader)\n",
    "        valid_accuracy = (torch.tensor(all_preds) == torch.tensor(all_labels)).float().mean().item()\n",
    "        valid_f1 = f1_score(all_labels, all_preds, average='macro')\n",
    "        valid_precision = precision_score(all_labels, all_preds, average='macro', zero_division=1)\n",
    "        valid_recall = recall_score(all_labels, all_preds, average='macro', zero_division=1)\n",
    "\n",
    "        epoch_duration = time.time() - start_time\n",
    "        total_duration += epoch_duration\n",
    "\n",
    "        history[\"train_loss\"].append(train_loss)\n",
    "        history[\"valid_loss\"].append(valid_loss)\n",
    "        history[\"valid_accuracy\"].append(valid_accuracy)\n",
    "        history[\"valid_f1\"].append(valid_f1)\n",
    "        history[\"valid_precision\"].append(valid_precision)\n",
    "        history[\"valid_recall\"].append(valid_recall)\n",
    "\n",
    "        # Print the progress with more metrics and time per epoch\n",
    "        print(f\"Epoch {epoch+1}/{epochs} - Duration: {epoch_duration:.2f}s\")\n",
    "        print(f\"Train Loss: {train_loss:.4f}, Train Precision: {train_precision:.4f}, Train Recall: {train_recall:.4f}\")\n",
    "        print(f\"Valid Loss: {valid_loss:.4f}, Valid Accuracy: {valid_accuracy:.4f}, Valid F1 Score: {valid_f1:.4f}, Valid Precision: {valid_precision:.4f}, Valid Recall: {valid_recall:.4f}\")\n",
    "\n",
    "    return model, history"
   ]
  },
  {
   "cell_type": "markdown",
   "metadata": {},
   "source": [
    "### Define training Dataloader"
   ]
  },
  {
   "cell_type": "code",
   "execution_count": 3,
   "metadata": {},
   "outputs": [],
   "source": [
    "def loadTrainingData(i_size, b_size, original=True):\n",
    "    # Data transformations with augmentation\n",
    "    train_transforms = transforms.Compose([\n",
    "        transforms.Resize((i_size, i_size)),\n",
    "        transforms.RandomHorizontalFlip(),\n",
    "        transforms.RandomRotation(45),\n",
    "        transforms.ToTensor(),\n",
    "        transforms.Normalize(mean=[0.485, 0.456, 0.406], std=[0.229, 0.224, 0.225])  # Normalize\n",
    "    ])\n",
    "\n",
    "    valid_test_transforms = transforms.Compose([\n",
    "        transforms.Resize((i_size, i_size)),\n",
    "        transforms.ToTensor(),\n",
    "        transforms.Normalize(mean=[0.485, 0.456, 0.406], std=[0.229, 0.224, 0.225])  # Normalize\n",
    "    ])\n",
    "\n",
    "    # Datasets\n",
    "    train_dataset = datasets.ImageFolder(\"butterfly_and_moth_classification/train\", transform=train_transforms)\n",
    "    valid_dataset = datasets.ImageFolder(\"butterfly_and_moth_classification/valid\", transform=valid_test_transforms)\n",
    "    test_dataset = datasets.ImageFolder(\"butterfly_and_moth_classification/test\", transform=valid_test_transforms)\n",
    "\n",
    "    # DataLoaders\n",
    "    batch_size = b_size\n",
    "    train_loader = DataLoader(train_dataset, batch_size=batch_size, shuffle=True)\n",
    "    valid_loader = DataLoader(valid_dataset, batch_size=batch_size, shuffle=False)\n",
    "    test_loader = DataLoader(test_dataset, batch_size=batch_size, shuffle=False)\n",
    "\n",
    "    if(original == False):\n",
    "        train_original = datasets.ImageFolder(\"butterfly_and_moth_classification/train\", transform=valid_test_transforms) # original training set\n",
    "        augmented_dataset = datasets.ImageFolder(\"butterfly_and_moth_classification/train\", transform=train_transforms) # trainsformed training set\n",
    "        train_combined = ConcatDataset([train_original, augmented_dataset])\n",
    "        train_loader = DataLoader(train_combined, batch_size=batch_size, shuffle=True)\n",
    "\n",
    "    print(f\"Training set size: {len(train_loader.dataset)}\")\n",
    "    print(f\"Validation set size: {len(valid_loader.dataset)}\")\n",
    "    print(f\"Test set size: {len(test_loader.dataset)}\")\n",
    "    \n",
    "    return train_dataset, valid_dataset, test_dataset, train_loader, valid_loader, test_loader"
   ]
  },
  {
   "cell_type": "code",
   "execution_count": 6,
   "metadata": {},
   "outputs": [],
   "source": [
    "# Set seed for reproducibility\n",
    "torch.manual_seed(42)\n",
    "np.random.seed(42)\n",
    "\n",
    "# Set CUDA seed (if using GPU)\n",
    "if torch.cuda.is_available():\n",
    "    torch.cuda.manual_seed_all(42)  # for all GPUs\n",
    "\n",
    "# Ensure deterministic behavior\n",
    "torch.backends.cudnn.deterministic = True\n",
    "torch.backends.cudnn.benchmark = False"
   ]
  },
  {
   "cell_type": "markdown",
   "metadata": {},
   "source": [
    "**Sub-model 1:**<br>\n",
    "input size 64 x 64, batch_size = 64, learning rate = 0.001, original training set"
   ]
  },
  {
   "cell_type": "code",
   "execution_count": 7,
   "metadata": {},
   "outputs": [
    {
     "name": "stdout",
     "output_type": "stream",
     "text": [
      "Training set size: 12594\n",
      "Validation set size: 500\n",
      "Test set size: 500\n"
     ]
    },
    {
     "name": "stderr",
     "output_type": "stream",
     "text": [
      "/Library/Frameworks/Python.framework/Versions/3.11/lib/python3.11/site-packages/torchvision/models/_utils.py:208: UserWarning: The parameter 'pretrained' is deprecated since 0.13 and may be removed in the future, please use 'weights' instead.\n",
      "  warnings.warn(\n",
      "/Library/Frameworks/Python.framework/Versions/3.11/lib/python3.11/site-packages/torchvision/models/_utils.py:223: UserWarning: Arguments other than a weight enum or `None` for 'weights' are deprecated since 0.13 and may be removed in the future. The current behavior is equivalent to passing `weights=ResNet18_Weights.IMAGENET1K_V1`. You can also use `weights=ResNet18_Weights.DEFAULT` to get the most up-to-date weights.\n",
      "  warnings.warn(msg)\n",
      "                                                                        \r"
     ]
    },
    {
     "name": "stdout",
     "output_type": "stream",
     "text": [
      "Epoch 1/10 - Duration: 33.33s\n",
      "Train Loss: 1.7858, Train Precision: 0.5308, Train Recall: 0.5293\n",
      "Valid Loss: 1.0539, Valid Accuracy: 0.7000, Valid F1 Score: 0.6850, Valid Precision: 0.7641, Valid Recall: 0.7000\n"
     ]
    },
    {
     "name": "stderr",
     "output_type": "stream",
     "text": [
      "                                                                        \r"
     ]
    },
    {
     "name": "stdout",
     "output_type": "stream",
     "text": [
      "Epoch 2/10 - Duration: 30.96s\n",
      "Train Loss: 0.9734, Train Precision: 0.7173, Train Recall: 0.7175\n",
      "Valid Loss: 0.9991, Valid Accuracy: 0.7340, Valid F1 Score: 0.7197, Valid Precision: 0.8049, Valid Recall: 0.7340\n"
     ]
    },
    {
     "name": "stderr",
     "output_type": "stream",
     "text": [
      "                                                                        \r"
     ]
    },
    {
     "name": "stdout",
     "output_type": "stream",
     "text": [
      "Epoch 3/10 - Duration: 30.94s\n",
      "Train Loss: 0.7776, Train Precision: 0.7701, Train Recall: 0.7696\n",
      "Valid Loss: 0.6415, Valid Accuracy: 0.8120, Valid F1 Score: 0.8050, Valid Precision: 0.8469, Valid Recall: 0.8120\n"
     ]
    },
    {
     "name": "stderr",
     "output_type": "stream",
     "text": [
      "                                                                        \r"
     ]
    },
    {
     "name": "stdout",
     "output_type": "stream",
     "text": [
      "Epoch 4/10 - Duration: 31.03s\n",
      "Train Loss: 0.6536, Train Precision: 0.8033, Train Recall: 0.8029\n",
      "Valid Loss: 0.6466, Valid Accuracy: 0.8240, Valid F1 Score: 0.8212, Valid Precision: 0.8638, Valid Recall: 0.8240\n"
     ]
    },
    {
     "name": "stderr",
     "output_type": "stream",
     "text": [
      "                                                                        \r"
     ]
    },
    {
     "name": "stdout",
     "output_type": "stream",
     "text": [
      "Epoch 5/10 - Duration: 30.90s\n",
      "Train Loss: 0.5832, Train Precision: 0.8217, Train Recall: 0.8213\n",
      "Valid Loss: 0.8380, Valid Accuracy: 0.7800, Valid F1 Score: 0.7789, Valid Precision: 0.8533, Valid Recall: 0.7800\n"
     ]
    },
    {
     "name": "stderr",
     "output_type": "stream",
     "text": [
      "                                                                        \r"
     ]
    },
    {
     "name": "stdout",
     "output_type": "stream",
     "text": [
      "Epoch 6/10 - Duration: 30.93s\n",
      "Train Loss: 0.5378, Train Precision: 0.8386, Train Recall: 0.8379\n",
      "Valid Loss: 0.5250, Valid Accuracy: 0.8400, Valid F1 Score: 0.8318, Valid Precision: 0.8736, Valid Recall: 0.8400\n"
     ]
    },
    {
     "name": "stderr",
     "output_type": "stream",
     "text": [
      "                                                                        \r"
     ]
    },
    {
     "name": "stdout",
     "output_type": "stream",
     "text": [
      "Epoch 7/10 - Duration: 31.02s\n",
      "Train Loss: 0.4878, Train Precision: 0.8490, Train Recall: 0.8490\n",
      "Valid Loss: 0.5100, Valid Accuracy: 0.8660, Valid F1 Score: 0.8613, Valid Precision: 0.8851, Valid Recall: 0.8660\n"
     ]
    },
    {
     "name": "stderr",
     "output_type": "stream",
     "text": [
      "                                                                        \r"
     ]
    },
    {
     "name": "stdout",
     "output_type": "stream",
     "text": [
      "Epoch 8/10 - Duration: 31.13s\n",
      "Train Loss: 0.4460, Train Precision: 0.8646, Train Recall: 0.8642\n",
      "Valid Loss: 0.5395, Valid Accuracy: 0.8700, Valid F1 Score: 0.8652, Valid Precision: 0.8956, Valid Recall: 0.8700\n"
     ]
    },
    {
     "name": "stderr",
     "output_type": "stream",
     "text": [
      "                                                                        \r"
     ]
    },
    {
     "name": "stdout",
     "output_type": "stream",
     "text": [
      "Epoch 9/10 - Duration: 31.05s\n",
      "Train Loss: 0.4017, Train Precision: 0.8754, Train Recall: 0.8751\n",
      "Valid Loss: 0.4560, Valid Accuracy: 0.8780, Valid F1 Score: 0.8772, Valid Precision: 0.9037, Valid Recall: 0.8780\n"
     ]
    },
    {
     "name": "stderr",
     "output_type": "stream",
     "text": [
      "                                                                         "
     ]
    },
    {
     "name": "stdout",
     "output_type": "stream",
     "text": [
      "Epoch 10/10 - Duration: 30.98s\n",
      "Train Loss: 0.3636, Train Precision: 0.8858, Train Recall: 0.8853\n",
      "Valid Loss: 0.5080, Valid Accuracy: 0.8580, Valid F1 Score: 0.8532, Valid Precision: 0.8829, Valid Recall: 0.8580\n"
     ]
    },
    {
     "name": "stderr",
     "output_type": "stream",
     "text": [
      "\r"
     ]
    }
   ],
   "source": [
    "train_dataset, valid_dataset, test_dataset, train_loader, valid_loader, test_loader = loadTrainingData(64,64);\n",
    "num_classes = len(train_dataset.classes)\n",
    "model = models.resnet18(pretrained=True)\n",
    "model.fc = torch.nn.Linear(model.fc.in_features, len(train_dataset.classes))\n",
    "model_1, history_1 = trainingResNet(model, train_loader, valid_loader, learning_rate=0.001)"
   ]
  },
  {
   "cell_type": "markdown",
   "metadata": {},
   "source": [
    "**Sub-model 2:**<br>\n",
    "input size 64 x 64, batch_size = 64, learning rate = 0.0001, original training set"
   ]
  },
  {
   "cell_type": "code",
   "execution_count": 8,
   "metadata": {},
   "outputs": [
    {
     "name": "stderr",
     "output_type": "stream",
     "text": [
      "/Library/Frameworks/Python.framework/Versions/3.11/lib/python3.11/site-packages/torchvision/models/_utils.py:208: UserWarning: The parameter 'pretrained' is deprecated since 0.13 and may be removed in the future, please use 'weights' instead.\n",
      "  warnings.warn(\n",
      "/Library/Frameworks/Python.framework/Versions/3.11/lib/python3.11/site-packages/torchvision/models/_utils.py:223: UserWarning: Arguments other than a weight enum or `None` for 'weights' are deprecated since 0.13 and may be removed in the future. The current behavior is equivalent to passing `weights=ResNet18_Weights.IMAGENET1K_V1`. You can also use `weights=ResNet18_Weights.DEFAULT` to get the most up-to-date weights.\n",
      "  warnings.warn(msg)\n"
     ]
    },
    {
     "name": "stdout",
     "output_type": "stream",
     "text": [
      "Training set size: 12594\n",
      "Validation set size: 500\n",
      "Test set size: 500\n"
     ]
    },
    {
     "name": "stderr",
     "output_type": "stream",
     "text": [
      "                                                                        \r"
     ]
    },
    {
     "name": "stdout",
     "output_type": "stream",
     "text": [
      "Epoch 1/10 - Duration: 30.59s\n",
      "Train Loss: 2.7499, Train Precision: 0.4561, Train Recall: 0.4087\n",
      "Valid Loss: 1.2200, Valid Accuracy: 0.7280, Valid F1 Score: 0.7193, Valid Precision: 0.7695, Valid Recall: 0.7280\n"
     ]
    },
    {
     "name": "stderr",
     "output_type": "stream",
     "text": [
      "                                                                        \r"
     ]
    },
    {
     "name": "stdout",
     "output_type": "stream",
     "text": [
      "Epoch 2/10 - Duration: 30.48s\n",
      "Train Loss: 0.9585, Train Precision: 0.7726, Train Recall: 0.7678\n",
      "Valid Loss: 0.6130, Valid Accuracy: 0.8480, Valid F1 Score: 0.8446, Valid Precision: 0.8705, Valid Recall: 0.8480\n"
     ]
    },
    {
     "name": "stderr",
     "output_type": "stream",
     "text": [
      "                                                                        \r"
     ]
    },
    {
     "name": "stdout",
     "output_type": "stream",
     "text": [
      "Epoch 3/10 - Duration: 30.83s\n",
      "Train Loss: 0.6132, Train Precision: 0.8418, Train Recall: 0.8406\n",
      "Valid Loss: 0.4375, Valid Accuracy: 0.8960, Valid F1 Score: 0.8946, Valid Precision: 0.9100, Valid Recall: 0.8960\n"
     ]
    },
    {
     "name": "stderr",
     "output_type": "stream",
     "text": [
      "                                                                        \r"
     ]
    },
    {
     "name": "stdout",
     "output_type": "stream",
     "text": [
      "Epoch 4/10 - Duration: 30.56s\n",
      "Train Loss: 0.4604, Train Precision: 0.8775, Train Recall: 0.8760\n",
      "Valid Loss: 0.3404, Valid Accuracy: 0.9100, Valid F1 Score: 0.9076, Valid Precision: 0.9199, Valid Recall: 0.9100\n"
     ]
    },
    {
     "name": "stderr",
     "output_type": "stream",
     "text": [
      "                                                                        \r"
     ]
    },
    {
     "name": "stdout",
     "output_type": "stream",
     "text": [
      "Epoch 5/10 - Duration: 30.64s\n",
      "Train Loss: 0.3604, Train Precision: 0.9023, Train Recall: 0.9012\n",
      "Valid Loss: 0.3316, Valid Accuracy: 0.9220, Valid F1 Score: 0.9208, Valid Precision: 0.9321, Valid Recall: 0.9220\n"
     ]
    },
    {
     "name": "stderr",
     "output_type": "stream",
     "text": [
      "                                                                        \r"
     ]
    },
    {
     "name": "stdout",
     "output_type": "stream",
     "text": [
      "Epoch 6/10 - Duration: 30.74s\n",
      "Train Loss: 0.2924, Train Precision: 0.9190, Train Recall: 0.9182\n",
      "Valid Loss: 0.3387, Valid Accuracy: 0.9020, Valid F1 Score: 0.8977, Valid Precision: 0.9140, Valid Recall: 0.9020\n"
     ]
    },
    {
     "name": "stderr",
     "output_type": "stream",
     "text": [
      "                                                                        \r"
     ]
    },
    {
     "name": "stdout",
     "output_type": "stream",
     "text": [
      "Epoch 7/10 - Duration: 30.54s\n",
      "Train Loss: 0.2405, Train Precision: 0.9366, Train Recall: 0.9362\n",
      "Valid Loss: 0.3121, Valid Accuracy: 0.9220, Valid F1 Score: 0.9192, Valid Precision: 0.9344, Valid Recall: 0.9220\n"
     ]
    },
    {
     "name": "stderr",
     "output_type": "stream",
     "text": [
      "                                                                        \r"
     ]
    },
    {
     "name": "stdout",
     "output_type": "stream",
     "text": [
      "Epoch 8/10 - Duration: 30.59s\n",
      "Train Loss: 0.2128, Train Precision: 0.9418, Train Recall: 0.9412\n",
      "Valid Loss: 0.3220, Valid Accuracy: 0.9040, Valid F1 Score: 0.9025, Valid Precision: 0.9191, Valid Recall: 0.9040\n"
     ]
    },
    {
     "name": "stderr",
     "output_type": "stream",
     "text": [
      "                                                                        \r"
     ]
    },
    {
     "name": "stdout",
     "output_type": "stream",
     "text": [
      "Epoch 9/10 - Duration: 30.47s\n",
      "Train Loss: 0.1771, Train Precision: 0.9471, Train Recall: 0.9468\n",
      "Valid Loss: 0.3146, Valid Accuracy: 0.9140, Valid F1 Score: 0.9109, Valid Precision: 0.9277, Valid Recall: 0.9140\n"
     ]
    },
    {
     "name": "stderr",
     "output_type": "stream",
     "text": [
      "                                                                         "
     ]
    },
    {
     "name": "stdout",
     "output_type": "stream",
     "text": [
      "Epoch 10/10 - Duration: 30.75s\n",
      "Train Loss: 0.1550, Train Precision: 0.9557, Train Recall: 0.9550\n",
      "Valid Loss: 0.3166, Valid Accuracy: 0.9180, Valid F1 Score: 0.9169, Valid Precision: 0.9293, Valid Recall: 0.9180\n"
     ]
    },
    {
     "name": "stderr",
     "output_type": "stream",
     "text": [
      "\r"
     ]
    }
   ],
   "source": [
    "train_dataset, valid_dataset, test_dataset, train_loader, valid_loader, test_loader = loadTrainingData(64,64);\n",
    "num_classes = len(train_dataset.classes)\n",
    "model = models.resnet18(pretrained=True)\n",
    "model.fc = torch.nn.Linear(model.fc.in_features, len(train_dataset.classes))\n",
    "model_2, history_2 = trainingResNet(model, train_loader, valid_loader, learning_rate=0.0001)"
   ]
  },
  {
   "cell_type": "markdown",
   "metadata": {},
   "source": [
    "**Sub-model 3:**<br>\n",
    "input size 64 x 64, batch_size = 128, learning rate = 0.001, original training set"
   ]
  },
  {
   "cell_type": "code",
   "execution_count": 9,
   "metadata": {},
   "outputs": [
    {
     "name": "stderr",
     "output_type": "stream",
     "text": [
      "/Library/Frameworks/Python.framework/Versions/3.11/lib/python3.11/site-packages/torchvision/models/_utils.py:208: UserWarning: The parameter 'pretrained' is deprecated since 0.13 and may be removed in the future, please use 'weights' instead.\n",
      "  warnings.warn(\n",
      "/Library/Frameworks/Python.framework/Versions/3.11/lib/python3.11/site-packages/torchvision/models/_utils.py:223: UserWarning: Arguments other than a weight enum or `None` for 'weights' are deprecated since 0.13 and may be removed in the future. The current behavior is equivalent to passing `weights=ResNet18_Weights.IMAGENET1K_V1`. You can also use `weights=ResNet18_Weights.DEFAULT` to get the most up-to-date weights.\n",
      "  warnings.warn(msg)\n"
     ]
    },
    {
     "name": "stdout",
     "output_type": "stream",
     "text": [
      "Training set size: 12594\n",
      "Validation set size: 500\n",
      "Test set size: 500\n"
     ]
    },
    {
     "name": "stderr",
     "output_type": "stream",
     "text": [
      "                                                                      \r"
     ]
    },
    {
     "name": "stdout",
     "output_type": "stream",
     "text": [
      "Epoch 1/10 - Duration: 31.76s\n",
      "Train Loss: 1.7006, Train Precision: 0.5680, Train Recall: 0.5627\n",
      "Valid Loss: 0.9822, Valid Accuracy: 0.7380, Valid F1 Score: 0.7203, Valid Precision: 0.7979, Valid Recall: 0.7380\n"
     ]
    },
    {
     "name": "stderr",
     "output_type": "stream",
     "text": [
      "                                                                      \r"
     ]
    },
    {
     "name": "stdout",
     "output_type": "stream",
     "text": [
      "Epoch 2/10 - Duration: 28.22s\n",
      "Train Loss: 0.8025, Train Precision: 0.7610, Train Recall: 0.7610\n",
      "Valid Loss: 0.8775, Valid Accuracy: 0.7500, Valid F1 Score: 0.7328, Valid Precision: 0.8216, Valid Recall: 0.7500\n"
     ]
    },
    {
     "name": "stderr",
     "output_type": "stream",
     "text": [
      "                                                                      \r"
     ]
    },
    {
     "name": "stdout",
     "output_type": "stream",
     "text": [
      "Epoch 3/10 - Duration: 28.51s\n",
      "Train Loss: 0.6539, Train Precision: 0.8052, Train Recall: 0.8042\n",
      "Valid Loss: 0.6571, Valid Accuracy: 0.8000, Valid F1 Score: 0.7903, Valid Precision: 0.8425, Valid Recall: 0.8000\n"
     ]
    },
    {
     "name": "stderr",
     "output_type": "stream",
     "text": [
      "                                                                      \r"
     ]
    },
    {
     "name": "stdout",
     "output_type": "stream",
     "text": [
      "Epoch 4/10 - Duration: 28.58s\n",
      "Train Loss: 0.5453, Train Precision: 0.8335, Train Recall: 0.8328\n",
      "Valid Loss: 0.4928, Valid Accuracy: 0.8380, Valid F1 Score: 0.8334, Valid Precision: 0.8729, Valid Recall: 0.8380\n"
     ]
    },
    {
     "name": "stderr",
     "output_type": "stream",
     "text": [
      "                                                                      \r"
     ]
    },
    {
     "name": "stdout",
     "output_type": "stream",
     "text": [
      "Epoch 5/10 - Duration: 28.31s\n",
      "Train Loss: 0.4877, Train Precision: 0.8518, Train Recall: 0.8510\n",
      "Valid Loss: 0.5581, Valid Accuracy: 0.8540, Valid F1 Score: 0.8486, Valid Precision: 0.8808, Valid Recall: 0.8540\n"
     ]
    },
    {
     "name": "stderr",
     "output_type": "stream",
     "text": [
      "                                                                      \r"
     ]
    },
    {
     "name": "stdout",
     "output_type": "stream",
     "text": [
      "Epoch 6/10 - Duration: 28.46s\n",
      "Train Loss: 0.4110, Train Precision: 0.8708, Train Recall: 0.8701\n",
      "Valid Loss: 0.5122, Valid Accuracy: 0.8540, Valid F1 Score: 0.8529, Valid Precision: 0.8895, Valid Recall: 0.8540\n"
     ]
    },
    {
     "name": "stderr",
     "output_type": "stream",
     "text": [
      "                                                                      \r"
     ]
    },
    {
     "name": "stdout",
     "output_type": "stream",
     "text": [
      "Epoch 7/10 - Duration: 28.43s\n",
      "Train Loss: 0.3674, Train Precision: 0.8862, Train Recall: 0.8857\n",
      "Valid Loss: 0.5114, Valid Accuracy: 0.8700, Valid F1 Score: 0.8633, Valid Precision: 0.9036, Valid Recall: 0.8700\n"
     ]
    },
    {
     "name": "stderr",
     "output_type": "stream",
     "text": [
      "                                                                      \r"
     ]
    },
    {
     "name": "stdout",
     "output_type": "stream",
     "text": [
      "Epoch 8/10 - Duration: 28.21s\n",
      "Train Loss: 0.3223, Train Precision: 0.8978, Train Recall: 0.8977\n",
      "Valid Loss: 0.5255, Valid Accuracy: 0.8840, Valid F1 Score: 0.8789, Valid Precision: 0.9105, Valid Recall: 0.8840\n"
     ]
    },
    {
     "name": "stderr",
     "output_type": "stream",
     "text": [
      "                                                                      \r"
     ]
    },
    {
     "name": "stdout",
     "output_type": "stream",
     "text": [
      "Epoch 9/10 - Duration: 28.28s\n",
      "Train Loss: 0.2947, Train Precision: 0.9073, Train Recall: 0.9064\n",
      "Valid Loss: 0.4179, Valid Accuracy: 0.9000, Valid F1 Score: 0.8982, Valid Precision: 0.9174, Valid Recall: 0.9000\n"
     ]
    },
    {
     "name": "stderr",
     "output_type": "stream",
     "text": [
      "                                                                       "
     ]
    },
    {
     "name": "stdout",
     "output_type": "stream",
     "text": [
      "Epoch 10/10 - Duration: 28.24s\n",
      "Train Loss: 0.2887, Train Precision: 0.9092, Train Recall: 0.9089\n",
      "Valid Loss: 0.4440, Valid Accuracy: 0.8980, Valid F1 Score: 0.8966, Valid Precision: 0.9161, Valid Recall: 0.8980\n"
     ]
    },
    {
     "name": "stderr",
     "output_type": "stream",
     "text": [
      "\r"
     ]
    }
   ],
   "source": [
    "train_dataset, valid_dataset, test_dataset, train_loader, valid_loader, test_loader = loadTrainingData(64,128);\n",
    "num_classes = len(train_dataset.classes)\n",
    "model = models.resnet18(pretrained=True)\n",
    "model.fc = torch.nn.Linear(model.fc.in_features, len(train_dataset.classes))\n",
    "model_3, history_3 = trainingResNet(model, train_loader, valid_loader, learning_rate=0.001)"
   ]
  },
  {
   "cell_type": "markdown",
   "metadata": {},
   "source": [
    "**Sub-model 4:**<br>\n",
    "input size 64 x 64, batch_size = 64, learning rate = 0.001, expanded training set"
   ]
  },
  {
   "cell_type": "code",
   "execution_count": 10,
   "metadata": {},
   "outputs": [
    {
     "name": "stdout",
     "output_type": "stream",
     "text": [
      "Training set size: 25188\n",
      "Validation set size: 500\n",
      "Test set size: 500\n"
     ]
    },
    {
     "name": "stderr",
     "output_type": "stream",
     "text": [
      "/Library/Frameworks/Python.framework/Versions/3.11/lib/python3.11/site-packages/torchvision/models/_utils.py:208: UserWarning: The parameter 'pretrained' is deprecated since 0.13 and may be removed in the future, please use 'weights' instead.\n",
      "  warnings.warn(\n",
      "/Library/Frameworks/Python.framework/Versions/3.11/lib/python3.11/site-packages/torchvision/models/_utils.py:223: UserWarning: Arguments other than a weight enum or `None` for 'weights' are deprecated since 0.13 and may be removed in the future. The current behavior is equivalent to passing `weights=ResNet18_Weights.IMAGENET1K_V1`. You can also use `weights=ResNet18_Weights.DEFAULT` to get the most up-to-date weights.\n",
      "  warnings.warn(msg)\n",
      "                                                                        \r"
     ]
    },
    {
     "name": "stdout",
     "output_type": "stream",
     "text": [
      "Epoch 1/10 - Duration: 61.64s\n",
      "Train Loss: 1.2891, Train Precision: 0.6528, Train Recall: 0.6509\n",
      "Valid Loss: 0.6614, Valid Accuracy: 0.8340, Valid F1 Score: 0.8265, Valid Precision: 0.8783, Valid Recall: 0.8340\n"
     ]
    },
    {
     "name": "stderr",
     "output_type": "stream",
     "text": [
      "                                                                        \r"
     ]
    },
    {
     "name": "stdout",
     "output_type": "stream",
     "text": [
      "Epoch 2/10 - Duration: 59.97s\n",
      "Train Loss: 0.6423, Train Precision: 0.8082, Train Recall: 0.8077\n",
      "Valid Loss: 0.5307, Valid Accuracy: 0.8680, Valid F1 Score: 0.8611, Valid Precision: 0.8939, Valid Recall: 0.8680\n"
     ]
    },
    {
     "name": "stderr",
     "output_type": "stream",
     "text": [
      "                                                                        \r"
     ]
    },
    {
     "name": "stdout",
     "output_type": "stream",
     "text": [
      "Epoch 3/10 - Duration: 59.73s\n",
      "Train Loss: 0.4800, Train Precision: 0.8569, Train Recall: 0.8567\n",
      "Valid Loss: 0.4808, Valid Accuracy: 0.8660, Valid F1 Score: 0.8605, Valid Precision: 0.8915, Valid Recall: 0.8660\n"
     ]
    },
    {
     "name": "stderr",
     "output_type": "stream",
     "text": [
      "                                                                        \r"
     ]
    },
    {
     "name": "stdout",
     "output_type": "stream",
     "text": [
      "Epoch 4/10 - Duration: 60.49s\n",
      "Train Loss: 0.3861, Train Precision: 0.8836, Train Recall: 0.8833\n",
      "Valid Loss: 0.4669, Valid Accuracy: 0.8900, Valid F1 Score: 0.8878, Valid Precision: 0.9025, Valid Recall: 0.8900\n"
     ]
    },
    {
     "name": "stderr",
     "output_type": "stream",
     "text": [
      "                                                                        \r"
     ]
    },
    {
     "name": "stdout",
     "output_type": "stream",
     "text": [
      "Epoch 5/10 - Duration: 60.55s\n",
      "Train Loss: 0.3185, Train Precision: 0.9034, Train Recall: 0.9031\n",
      "Valid Loss: 0.5007, Valid Accuracy: 0.8760, Valid F1 Score: 0.8718, Valid Precision: 0.8965, Valid Recall: 0.8760\n"
     ]
    },
    {
     "name": "stderr",
     "output_type": "stream",
     "text": [
      "                                                                        \r"
     ]
    },
    {
     "name": "stdout",
     "output_type": "stream",
     "text": [
      "Epoch 6/10 - Duration: 61.60s\n",
      "Train Loss: 0.2973, Train Precision: 0.9101, Train Recall: 0.9098\n",
      "Valid Loss: 0.4723, Valid Accuracy: 0.8840, Valid F1 Score: 0.8808, Valid Precision: 0.9006, Valid Recall: 0.8840\n"
     ]
    },
    {
     "name": "stderr",
     "output_type": "stream",
     "text": [
      "                                                                        \r"
     ]
    },
    {
     "name": "stdout",
     "output_type": "stream",
     "text": [
      "Epoch 7/10 - Duration: 60.34s\n",
      "Train Loss: 0.2524, Train Precision: 0.9231, Train Recall: 0.9228\n",
      "Valid Loss: 0.5176, Valid Accuracy: 0.8800, Valid F1 Score: 0.8762, Valid Precision: 0.9038, Valid Recall: 0.8800\n"
     ]
    },
    {
     "name": "stderr",
     "output_type": "stream",
     "text": [
      "                                                                        \r"
     ]
    },
    {
     "name": "stdout",
     "output_type": "stream",
     "text": [
      "Epoch 8/10 - Duration: 60.74s\n",
      "Train Loss: 0.2479, Train Precision: 0.9238, Train Recall: 0.9237\n",
      "Valid Loss: 0.4284, Valid Accuracy: 0.8960, Valid F1 Score: 0.8919, Valid Precision: 0.9169, Valid Recall: 0.8960\n"
     ]
    },
    {
     "name": "stderr",
     "output_type": "stream",
     "text": [
      "                                                                        \r"
     ]
    },
    {
     "name": "stdout",
     "output_type": "stream",
     "text": [
      "Epoch 9/10 - Duration: 60.48s\n",
      "Train Loss: 0.2129, Train Precision: 0.9350, Train Recall: 0.9347\n",
      "Valid Loss: 0.5549, Valid Accuracy: 0.8820, Valid F1 Score: 0.8780, Valid Precision: 0.9011, Valid Recall: 0.8820\n"
     ]
    },
    {
     "name": "stderr",
     "output_type": "stream",
     "text": [
      "                                                                         "
     ]
    },
    {
     "name": "stdout",
     "output_type": "stream",
     "text": [
      "Epoch 10/10 - Duration: 60.73s\n",
      "Train Loss: 0.2181, Train Precision: 0.9332, Train Recall: 0.9331\n",
      "Valid Loss: 0.4478, Valid Accuracy: 0.9040, Valid F1 Score: 0.9021, Valid Precision: 0.9209, Valid Recall: 0.9040\n"
     ]
    },
    {
     "name": "stderr",
     "output_type": "stream",
     "text": [
      "\r"
     ]
    }
   ],
   "source": [
    "train_dataset, valid_dataset, test_dataset, train_loader, valid_loader, test_loader = loadTrainingData(64,64,original=False);\n",
    "num_classes = len(train_dataset.classes)\n",
    "model = models.resnet18(pretrained=True)\n",
    "model.fc = torch.nn.Linear(model.fc.in_features, len(train_dataset.classes))\n",
    "model_4, history_4 = trainingResNet(model, train_loader, valid_loader, learning_rate=0.001)"
   ]
  },
  {
   "cell_type": "markdown",
   "metadata": {},
   "source": [
    "**Sub-model 5:**<br>\n",
    "input size 128 x 128, batch_size = 64, learning rate = 0.001, original training set"
   ]
  },
  {
   "cell_type": "code",
   "execution_count": 11,
   "metadata": {},
   "outputs": [
    {
     "name": "stderr",
     "output_type": "stream",
     "text": [
      "/Library/Frameworks/Python.framework/Versions/3.11/lib/python3.11/site-packages/torchvision/models/_utils.py:208: UserWarning: The parameter 'pretrained' is deprecated since 0.13 and may be removed in the future, please use 'weights' instead.\n",
      "  warnings.warn(\n",
      "/Library/Frameworks/Python.framework/Versions/3.11/lib/python3.11/site-packages/torchvision/models/_utils.py:223: UserWarning: Arguments other than a weight enum or `None` for 'weights' are deprecated since 0.13 and may be removed in the future. The current behavior is equivalent to passing `weights=ResNet18_Weights.IMAGENET1K_V1`. You can also use `weights=ResNet18_Weights.DEFAULT` to get the most up-to-date weights.\n",
      "  warnings.warn(msg)\n"
     ]
    },
    {
     "name": "stdout",
     "output_type": "stream",
     "text": [
      "Training set size: 12594\n",
      "Validation set size: 500\n",
      "Test set size: 500\n"
     ]
    },
    {
     "name": "stderr",
     "output_type": "stream",
     "text": [
      "                                                                        \r"
     ]
    },
    {
     "name": "stdout",
     "output_type": "stream",
     "text": [
      "Epoch 1/10 - Duration: 70.97s\n",
      "Train Loss: 1.2472, Train Precision: 0.6714, Train Recall: 0.6683\n",
      "Valid Loss: 0.8435, Valid Accuracy: 0.7640, Valid F1 Score: 0.7503, Valid Precision: 0.8286, Valid Recall: 0.7640\n"
     ]
    },
    {
     "name": "stderr",
     "output_type": "stream",
     "text": [
      "                                                                        \r"
     ]
    },
    {
     "name": "stdout",
     "output_type": "stream",
     "text": [
      "Epoch 2/10 - Duration: 71.61s\n",
      "Train Loss: 0.6274, Train Precision: 0.8123, Train Recall: 0.8118\n",
      "Valid Loss: 0.6791, Valid Accuracy: 0.8280, Valid F1 Score: 0.8134, Valid Precision: 0.8765, Valid Recall: 0.8280\n"
     ]
    },
    {
     "name": "stderr",
     "output_type": "stream",
     "text": [
      "                                                                        \r"
     ]
    },
    {
     "name": "stdout",
     "output_type": "stream",
     "text": [
      "Epoch 3/10 - Duration: 72.32s\n",
      "Train Loss: 0.4891, Train Precision: 0.8553, Train Recall: 0.8549\n",
      "Valid Loss: 0.5934, Valid Accuracy: 0.8280, Valid F1 Score: 0.8221, Valid Precision: 0.8846, Valid Recall: 0.8280\n"
     ]
    },
    {
     "name": "stderr",
     "output_type": "stream",
     "text": [
      "                                                                        \r"
     ]
    },
    {
     "name": "stdout",
     "output_type": "stream",
     "text": [
      "Epoch 4/10 - Duration: 76.35s\n",
      "Train Loss: 0.4274, Train Precision: 0.8716, Train Recall: 0.8707\n",
      "Valid Loss: 0.4821, Valid Accuracy: 0.8620, Valid F1 Score: 0.8593, Valid Precision: 0.8943, Valid Recall: 0.8620\n"
     ]
    },
    {
     "name": "stderr",
     "output_type": "stream",
     "text": [
      "                                                                        \r"
     ]
    },
    {
     "name": "stdout",
     "output_type": "stream",
     "text": [
      "Epoch 5/10 - Duration: 78.01s\n",
      "Train Loss: 0.3688, Train Precision: 0.8874, Train Recall: 0.8867\n",
      "Valid Loss: 0.3750, Valid Accuracy: 0.9060, Valid F1 Score: 0.9040, Valid Precision: 0.9297, Valid Recall: 0.9060\n"
     ]
    },
    {
     "name": "stderr",
     "output_type": "stream",
     "text": [
      "                                                                        \r"
     ]
    },
    {
     "name": "stdout",
     "output_type": "stream",
     "text": [
      "Epoch 6/10 - Duration: 79.90s\n",
      "Train Loss: 0.3090, Train Precision: 0.9038, Train Recall: 0.9031\n",
      "Valid Loss: 0.3965, Valid Accuracy: 0.8900, Valid F1 Score: 0.8868, Valid Precision: 0.9093, Valid Recall: 0.8900\n"
     ]
    },
    {
     "name": "stderr",
     "output_type": "stream",
     "text": [
      "                                                                        \r"
     ]
    },
    {
     "name": "stdout",
     "output_type": "stream",
     "text": [
      "Epoch 7/10 - Duration: 82.40s\n",
      "Train Loss: 0.3179, Train Precision: 0.9020, Train Recall: 0.9017\n",
      "Valid Loss: 0.5304, Valid Accuracy: 0.8840, Valid F1 Score: 0.8783, Valid Precision: 0.9146, Valid Recall: 0.8840\n"
     ]
    },
    {
     "name": "stderr",
     "output_type": "stream",
     "text": [
      "                                                                        \r"
     ]
    },
    {
     "name": "stdout",
     "output_type": "stream",
     "text": [
      "Epoch 8/10 - Duration: 86.71s\n",
      "Train Loss: 0.2754, Train Precision: 0.9143, Train Recall: 0.9142\n",
      "Valid Loss: 0.4474, Valid Accuracy: 0.8900, Valid F1 Score: 0.8870, Valid Precision: 0.9208, Valid Recall: 0.8900\n"
     ]
    },
    {
     "name": "stderr",
     "output_type": "stream",
     "text": [
      "                                                                        \r"
     ]
    },
    {
     "name": "stdout",
     "output_type": "stream",
     "text": [
      "Epoch 9/10 - Duration: 83.71s\n",
      "Train Loss: 0.2435, Train Precision: 0.9239, Train Recall: 0.9235\n",
      "Valid Loss: 0.4427, Valid Accuracy: 0.8960, Valid F1 Score: 0.8870, Valid Precision: 0.9250, Valid Recall: 0.8960\n"
     ]
    },
    {
     "name": "stderr",
     "output_type": "stream",
     "text": [
      "                                                                         "
     ]
    },
    {
     "name": "stdout",
     "output_type": "stream",
     "text": [
      "Epoch 10/10 - Duration: 82.73s\n",
      "Train Loss: 0.2326, Train Precision: 0.9271, Train Recall: 0.9269\n",
      "Valid Loss: 0.3584, Valid Accuracy: 0.9180, Valid F1 Score: 0.9147, Valid Precision: 0.9330, Valid Recall: 0.9180\n"
     ]
    },
    {
     "name": "stderr",
     "output_type": "stream",
     "text": [
      "\r"
     ]
    }
   ],
   "source": [
    "train_dataset, valid_dataset, test_dataset, train_loader, valid_loader, test_loader = loadTrainingData(128,64);\n",
    "num_classes = len(train_dataset.classes)\n",
    "model = models.resnet18(pretrained=True)\n",
    "model.fc = torch.nn.Linear(model.fc.in_features, len(train_dataset.classes))\n",
    "model_5, history_5 = trainingResNet(model, train_loader, valid_loader, learning_rate=0.001)"
   ]
  },
  {
   "cell_type": "markdown",
   "metadata": {},
   "source": [
    "=================================================================="
   ]
  },
  {
   "cell_type": "markdown",
   "metadata": {},
   "source": [
    "### Evaluation"
   ]
  },
  {
   "cell_type": "code",
   "execution_count": 14,
   "metadata": {},
   "outputs": [],
   "source": [
    "models_list = [(\"model_1\", model_1), (\"model_2\", model_2), (\"model_3\", model_3), (\"model_4\", model_4), (\"model_5\", model_5)]\n",
    "models_histories = [(\"model_1\", history_1), (\"model_2\", history_2), (\"model_3\", history_3), (\"model_4\", history_4), (\"model_5\", history_5)]"
   ]
  },
  {
   "cell_type": "code",
   "execution_count": 15,
   "metadata": {},
   "outputs": [
    {
     "data": {
      "image/png": "[encoded data removed]",
      "text/plain": [
       "<Figure size 800x500 with 1 Axes>"
      ]
     },
     "metadata": {},
     "output_type": "display_data"
    }
   ],
   "source": [
    "# Plot Validation Accuracy\n",
    "plt.figure(figsize=(8, 5))\n",
    "for name, history in models_histories:\n",
    "    plt.plot(range(1, 11), history[\"valid_accuracy\"], label=name)\n",
    "plt.title(\"Validation Accuracy over Epochs\")\n",
    "plt.xlabel(\"Epochs\")\n",
    "plt.ylabel(\"Accuracy\")\n",
    "plt.legend()\n",
    "plt.grid(True)\n",
    "plt.show()"
   ]
  }
 ],
 "metadata": {
  "kernelspec": {
   "display_name": "Python 3",
   "language": "python",
   "name": "python3"
  },
  "language_info": {
   "codemirror_mode": {
    "name": "ipython",
    "version": 3
   },
   "file_extension": ".py",
   "mimetype": "text/x-python",
   "name": "python",
   "nbconvert_exporter": "python",
   "pygments_lexer": "ipython3",
   "version": "3.11.9"
  }
 },
 "nbformat": 4,
 "nbformat_minor": 2
}

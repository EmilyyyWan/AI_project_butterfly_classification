{
 "cells": [
  {
   "cell_type": "markdown",
   "metadata": {},
   "source": [
    "## Model Comparison"
   ]
  },
  {
   "cell_type": "code",
   "execution_count": 5,
   "metadata": {},
   "outputs": [],
   "source": [
    "import numpy as np\n",
    "import matplotlib.pyplot as plt\n",
    "import seaborn as sns\n",
    "import torch\n",
    "import torch.nn as nn\n",
    "import torch.optim as optim\n",
    "from torch.utils.data import DataLoader\n",
    "from torch.utils.data import ConcatDataset\n",
    "from torchvision import datasets, transforms, models\n",
    "from tqdm import tqdm\n",
    "import time\n",
    "from sklearn.metrics import roc_curve, auc\n",
    "from sklearn.metrics import classification_report\n",
    "from sklearn.metrics import confusion_matrix\n",
    "from sklearn.metrics import precision_score, recall_score, f1_score, accuracy_score\n",
    "from sklearn.preprocessing import label_binarize\n"
   ]
  },
  {
   "cell_type": "markdown",
   "metadata": {},
   "source": [
    "### Define Simple CNN Model"
   ]
  },
  {
   "cell_type": "code",
   "execution_count": 2,
   "metadata": {},
   "outputs": [],
   "source": [
    "# CNN Model\n",
    "class SimpleCNN(nn.Module):\n",
    "    def __init__(self, num_classes):\n",
    "        super(SimpleCNN, self).__init__()\n",
    "        self.conv_layers = nn.Sequential(\n",
    "            nn.Conv2d(3, 32, kernel_size=3, stride=1, padding=1),\n",
    "            nn.ReLU(),\n",
    "            nn.MaxPool2d(kernel_size=2, stride=2),\n",
    "\n",
    "            nn.Conv2d(32, 64, kernel_size=3, stride=1, padding=1),\n",
    "            nn.ReLU(),\n",
    "            nn.MaxPool2d(kernel_size=2, stride=2),\n",
    "\n",
    "            nn.Conv2d(64, 128, kernel_size=3, stride=1, padding=1),\n",
    "            nn.ReLU(),\n",
    "            nn.MaxPool2d(kernel_size=2, stride=2)\n",
    "        )\n",
    "        self.fc_layers = nn.Sequential(\n",
    "            nn.Flatten(),\n",
    "            nn.Linear(128 * 8 * 8, 256),\n",
    "            nn.ReLU(),\n",
    "            nn.Dropout(0.5),\n",
    "            nn.Linear(256, num_classes)\n",
    "        )\n",
    "\n",
    "    def forward(self, x):\n",
    "        x = self.conv_layers(x)\n",
    "        x = self.fc_layers(x)\n",
    "        return x"
   ]
  },
  {
   "cell_type": "markdown",
   "metadata": {},
   "source": [
    "### Define training process"
   ]
  },
  {
   "cell_type": "code",
   "execution_count": 6,
   "metadata": {},
   "outputs": [],
   "source": [
    "def trainingModel(model, tr_loader, va_loader,learning_rate, num_epoch=10):\n",
    "    device = torch.device(\"mps\" if torch.backends.mps.is_available() else \"cpu\")\n",
    "    model = model.to(device)\n",
    "\n",
    "    # Optimizer and Loss Function\n",
    "    optimizer = optim.Adam(model.parameters(), lr=learning_rate)\n",
    "    criterion = nn.CrossEntropyLoss()\n",
    "\n",
    "    # History\n",
    "    history = {\"train_loss\": [], \"valid_loss\": [], \"valid_accuracy\": []}\n",
    "\n",
    "    # Track the best model\n",
    "    best_valid_loss = float('inf')  # Initialize to infinity\n",
    "    best_model_wts = None\n",
    "\n",
    "    # Training and Validation Loop with Progress Updates\n",
    "    epochs = num_epoch\n",
    "    for epoch in range(epochs):\n",
    "        start_time = time.time()\n",
    "        \n",
    "        # Training Phase\n",
    "        model.train()\n",
    "        train_loss = 0\n",
    "        train_preds = []\n",
    "        train_labels = []\n",
    "        \n",
    "        # Use tqdm for batch-level progress\n",
    "        for images, labels in tqdm(tr_loader, desc=f\"Epoch {epoch+1}/{epochs} - Training\", leave=False):\n",
    "            images, labels = images.to(device), labels.to(device)\n",
    "\n",
    "            # Forward pass\n",
    "            outputs = model(images)\n",
    "            loss = criterion(outputs, labels)\n",
    "\n",
    "            # Backward pass and optimization\n",
    "            optimizer.zero_grad()\n",
    "            loss.backward()\n",
    "            optimizer.step()\n",
    "\n",
    "            train_loss += loss.item()\n",
    "            _, preds = torch.max(outputs, 1)\n",
    "            train_preds.extend(preds.cpu().numpy())\n",
    "            train_labels.extend(labels.cpu().numpy())\n",
    "\n",
    "        train_loss /= len(tr_loader)\n",
    "        train_precision = precision_score(train_labels, train_preds, average='macro', zero_division=1)\n",
    "        train_recall = recall_score(train_labels, train_preds, average='macro', zero_division=1)\n",
    "        \n",
    "        # Validation Phase\n",
    "        model.eval()\n",
    "        valid_loss = 0\n",
    "        all_labels = []\n",
    "        all_preds = []\n",
    "        \n",
    "        with torch.no_grad():\n",
    "            # Use tqdm for validation progress\n",
    "            for images, labels in tqdm(va_loader, desc=f\"Epoch {epoch+1}/{epochs} - Validation\", leave=False):\n",
    "                images, labels = images.to(device), labels.to(device)\n",
    "                outputs = model(images)\n",
    "                loss = criterion(outputs, labels)\n",
    "\n",
    "                valid_loss += loss.item()\n",
    "\n",
    "                _, preds = torch.max(outputs, 1)\n",
    "                all_labels.extend(labels.cpu().numpy())\n",
    "                all_preds.extend(preds.cpu().numpy())\n",
    "\n",
    "        valid_loss /= len(va_loader)\n",
    "        valid_accuracy = (torch.tensor(all_preds) == torch.tensor(all_labels)).float().mean().item()\n",
    "        valid_f1 = f1_score(all_labels, all_preds, average='macro')\n",
    "        valid_precision = precision_score(all_labels, all_preds, average='macro', zero_division=1)\n",
    "        valid_recall = recall_score(all_labels, all_preds, average='macro', zero_division=1)\n",
    "\n",
    "        epoch_duration = time.time() - start_time\n",
    "\n",
    "        # Store in history\n",
    "        history[\"train_loss\"].append(train_loss)\n",
    "        history[\"valid_loss\"].append(valid_loss)\n",
    "        history[\"valid_accuracy\"].append(valid_accuracy)\n",
    "\n",
    "        # Print the progress with more metrics and time per epoch\n",
    "        print(f\"Epoch {epoch+1}/{epochs} - Duration: {epoch_duration:.2f}s\")\n",
    "        print(f\"Train Loss: {train_loss:.4f}, Train Precision: {train_precision:.4f}, Train Recall: {train_recall:.4f}\")\n",
    "        print(f\"Valid Loss: {valid_loss:.4f}, Valid Accuracy: {valid_accuracy:.4f}, Valid F1 Score: {valid_f1:.4f}, Valid Precision: {valid_precision:.4f}, Valid Recall: {valid_recall:.4f}\")\n",
    "\n",
    "        # Save the best model weights\n",
    "        if valid_loss < best_valid_loss:\n",
    "            best_valid_loss = valid_loss\n",
    "            best_model_wts = model.state_dict()\n",
    "\n",
    "    return model, history, best_model_wts"
   ]
  },
  {
   "cell_type": "markdown",
   "metadata": {},
   "source": [
    "### Define training Dataloader"
   ]
  },
  {
   "cell_type": "code",
   "execution_count": 7,
   "metadata": {},
   "outputs": [],
   "source": [
    "def loadTrainingData(i_size, b_size, original=True):\n",
    "    # Data transformations with augmentation\n",
    "    train_transforms = transforms.Compose([\n",
    "        transforms.Resize((i_size, i_size)),\n",
    "        transforms.RandomHorizontalFlip(),\n",
    "        transforms.RandomRotation(45),\n",
    "        transforms.ToTensor(),\n",
    "        transforms.Normalize(mean=[0.485, 0.456, 0.406], std=[0.229, 0.224, 0.225])  # Normalize\n",
    "    ])\n",
    "\n",
    "    valid_test_transforms = transforms.Compose([\n",
    "        transforms.Resize((i_size, i_size)),\n",
    "        transforms.ToTensor(),\n",
    "        transforms.Normalize(mean=[0.485, 0.456, 0.406], std=[0.229, 0.224, 0.225])  # Normalize\n",
    "    ])\n",
    "\n",
    "    # Datasets\n",
    "    train_dataset = datasets.ImageFolder(\"archive/train\", transform=train_transforms)\n",
    "    valid_dataset = datasets.ImageFolder(\"archive/valid\", transform=valid_test_transforms)\n",
    "    test_dataset = datasets.ImageFolder(\"archive/test\", transform=valid_test_transforms)\n",
    "\n",
    "    # DataLoaders\n",
    "    batch_size = b_size\n",
    "    train_loader = DataLoader(train_dataset, batch_size=batch_size, shuffle=True)\n",
    "    valid_loader = DataLoader(valid_dataset, batch_size=batch_size, shuffle=False)\n",
    "    test_loader = DataLoader(test_dataset, batch_size=batch_size, shuffle=False)\n",
    "\n",
    "    if(original == False):\n",
    "        train_original = datasets.ImageFolder(\"archive/train\", transform=valid_test_transforms) # original training set\n",
    "        augmented_dataset = datasets.ImageFolder(\"archive/train\", transform=train_transforms) # trainsformed training set\n",
    "        train_combined = ConcatDataset([train_original, augmented_dataset])\n",
    "        train_loader = DataLoader(train_combined, batch_size=batch_size, shuffle=True)\n",
    "\n",
    "    print(f\"Training set size: {len(train_loader.dataset)}\")\n",
    "    print(f\"Validation set size: {len(valid_loader.dataset)}\")\n",
    "    print(f\"Test set size: {len(test_loader.dataset)}\")\n",
    "    \n",
    "    return train_dataset, valid_dataset, test_dataset, train_loader, valid_loader, test_loader"
   ]
  },
  {
   "cell_type": "code",
   "execution_count": 8,
   "metadata": {},
   "outputs": [],
   "source": [
    "# Set seed for reproducibility\n",
    "torch.manual_seed(42)\n",
    "np.random.seed(42)\n",
    "\n",
    "# Set CUDA seed (if using GPU)\n",
    "if torch.cuda.is_available():\n",
    "    torch.cuda.manual_seed_all(42)  # for all GPUs\n",
    "\n",
    "# Ensure deterministic behavior\n",
    "torch.backends.cudnn.deterministic = True\n",
    "torch.backends.cudnn.benchmark = False"
   ]
  },
  {
   "cell_type": "markdown",
   "metadata": {},
   "source": [
    "============================================================================================================"
   ]
  },
  {
   "cell_type": "markdown",
   "metadata": {},
   "source": [
    "### Final CNN Model\n",
    "Compared with the baseline parameters:\n",
    "- Larger batch size doesn't make a big difference. \n",
    "- Larger input size also has similar performance but much slower. We don't choose it.\n",
    "- Smaller learning rate is not considered since it might need too many epoch to achieve a similar performance.\n",
    "- Using expanded training set has the best result. \n",
    "- Considering some other models do not have the best performance on expanded training set, we would not choose it as well in simple CNN. \n",
    "\n",
    "Thus, we stay on the baseline group of parameters.<br>\n",
    "Final CNN Model parameters:<br>\n",
    "input size 64 x 64, batch_size = 64, learning rate = 0.001, original training set, num_epoch = 20"
   ]
  },
  {
   "cell_type": "code",
   "execution_count": 22,
   "metadata": {},
   "outputs": [
    {
     "name": "stdout",
     "output_type": "stream",
     "text": [
      "Training set size: 12594\n",
      "Validation set size: 500\n",
      "Test set size: 500\n"
     ]
    },
    {
     "name": "stderr",
     "output_type": "stream",
     "text": [
      "                                                                        \r"
     ]
    },
    {
     "name": "stdout",
     "output_type": "stream",
     "text": [
      "Epoch 1/20 - Duration: 19.81s\n",
      "Train Loss: 4.0082, Train Precision: 0.0707, Train Recall: 0.0717\n",
      "Valid Loss: 3.1074, Valid Accuracy: 0.2340, Valid F1 Score: 0.1877, Valid Precision: 0.5644, Valid Recall: 0.2340\n"
     ]
    },
    {
     "name": "stderr",
     "output_type": "stream",
     "text": [
      "                                                                        \r"
     ]
    },
    {
     "name": "stdout",
     "output_type": "stream",
     "text": [
      "Epoch 2/20 - Duration: 18.79s\n",
      "Train Loss: 3.0045, Train Precision: 0.2131, Train Recall: 0.2260\n",
      "Valid Loss: 2.3507, Valid Accuracy: 0.4140, Valid F1 Score: 0.3833, Valid Precision: 0.5208, Valid Recall: 0.4140\n"
     ]
    },
    {
     "name": "stderr",
     "output_type": "stream",
     "text": [
      "                                                                        \r"
     ]
    },
    {
     "name": "stdout",
     "output_type": "stream",
     "text": [
      "Epoch 3/20 - Duration: 19.10s\n",
      "Train Loss: 2.4838, Train Precision: 0.3282, Train Recall: 0.3409\n",
      "Valid Loss: 1.8782, Valid Accuracy: 0.5400, Valid F1 Score: 0.5250, Valid Precision: 0.6190, Valid Recall: 0.5400\n"
     ]
    },
    {
     "name": "stderr",
     "output_type": "stream",
     "text": [
      "                                                                        \r"
     ]
    },
    {
     "name": "stdout",
     "output_type": "stream",
     "text": [
      "Epoch 4/20 - Duration: 18.73s\n",
      "Train Loss: 2.1917, Train Precision: 0.3947, Train Recall: 0.4029\n",
      "Valid Loss: 1.5543, Valid Accuracy: 0.6040, Valid F1 Score: 0.5866, Valid Precision: 0.6534, Valid Recall: 0.6040\n"
     ]
    },
    {
     "name": "stderr",
     "output_type": "stream",
     "text": [
      "                                                                        \r"
     ]
    },
    {
     "name": "stdout",
     "output_type": "stream",
     "text": [
      "Epoch 5/20 - Duration: 18.95s\n",
      "Train Loss: 2.0153, Train Precision: 0.4367, Train Recall: 0.4435\n",
      "Valid Loss: 1.4344, Valid Accuracy: 0.6320, Valid F1 Score: 0.6109, Valid Precision: 0.6882, Valid Recall: 0.6320\n"
     ]
    },
    {
     "name": "stderr",
     "output_type": "stream",
     "text": [
      "                                                                        \r"
     ]
    },
    {
     "name": "stdout",
     "output_type": "stream",
     "text": [
      "Epoch 6/20 - Duration: 18.81s\n",
      "Train Loss: 1.8560, Train Precision: 0.4758, Train Recall: 0.4809\n",
      "Valid Loss: 1.3021, Valid Accuracy: 0.6740, Valid F1 Score: 0.6525, Valid Precision: 0.7140, Valid Recall: 0.6740\n"
     ]
    },
    {
     "name": "stderr",
     "output_type": "stream",
     "text": [
      "                                                                        \r"
     ]
    },
    {
     "name": "stdout",
     "output_type": "stream",
     "text": [
      "Epoch 7/20 - Duration: 18.90s\n",
      "Train Loss: 1.7448, Train Precision: 0.5048, Train Recall: 0.5087\n",
      "Valid Loss: 1.1934, Valid Accuracy: 0.6800, Valid F1 Score: 0.6700, Valid Precision: 0.7199, Valid Recall: 0.6800\n"
     ]
    },
    {
     "name": "stderr",
     "output_type": "stream",
     "text": [
      "                                                                        \r"
     ]
    },
    {
     "name": "stdout",
     "output_type": "stream",
     "text": [
      "Epoch 8/20 - Duration: 18.70s\n",
      "Train Loss: 1.6508, Train Precision: 0.5359, Train Recall: 0.5386\n",
      "Valid Loss: 1.1383, Valid Accuracy: 0.6800, Valid F1 Score: 0.6623, Valid Precision: 0.7367, Valid Recall: 0.6800\n"
     ]
    },
    {
     "name": "stderr",
     "output_type": "stream",
     "text": [
      "                                                                        \r"
     ]
    },
    {
     "name": "stdout",
     "output_type": "stream",
     "text": [
      "Epoch 9/20 - Duration: 19.05s\n",
      "Train Loss: 1.5802, Train Precision: 0.5499, Train Recall: 0.5528\n",
      "Valid Loss: 1.0884, Valid Accuracy: 0.7040, Valid F1 Score: 0.6893, Valid Precision: 0.7428, Valid Recall: 0.7040\n"
     ]
    },
    {
     "name": "stderr",
     "output_type": "stream",
     "text": [
      "                                                                         \r"
     ]
    },
    {
     "name": "stdout",
     "output_type": "stream",
     "text": [
      "Epoch 10/20 - Duration: 19.12s\n",
      "Train Loss: 1.5089, Train Precision: 0.5697, Train Recall: 0.5703\n",
      "Valid Loss: 1.0465, Valid Accuracy: 0.7320, Valid F1 Score: 0.7212, Valid Precision: 0.7829, Valid Recall: 0.7320\n"
     ]
    },
    {
     "name": "stderr",
     "output_type": "stream",
     "text": [
      "                                                                         \r"
     ]
    },
    {
     "name": "stdout",
     "output_type": "stream",
     "text": [
      "Epoch 11/20 - Duration: 19.22s\n",
      "Train Loss: 1.4539, Train Precision: 0.5844, Train Recall: 0.5861\n",
      "Valid Loss: 0.9803, Valid Accuracy: 0.7380, Valid F1 Score: 0.7257, Valid Precision: 0.7799, Valid Recall: 0.7380\n"
     ]
    },
    {
     "name": "stderr",
     "output_type": "stream",
     "text": [
      "                                                                         \r"
     ]
    },
    {
     "name": "stdout",
     "output_type": "stream",
     "text": [
      "Epoch 12/20 - Duration: 18.93s\n",
      "Train Loss: 1.4102, Train Precision: 0.5966, Train Recall: 0.5984\n",
      "Valid Loss: 1.0048, Valid Accuracy: 0.7180, Valid F1 Score: 0.7118, Valid Precision: 0.7794, Valid Recall: 0.7180\n"
     ]
    },
    {
     "name": "stderr",
     "output_type": "stream",
     "text": [
      "                                                                         \r"
     ]
    },
    {
     "name": "stdout",
     "output_type": "stream",
     "text": [
      "Epoch 13/20 - Duration: 20.55s\n",
      "Train Loss: 1.3594, Train Precision: 0.6032, Train Recall: 0.6041\n",
      "Valid Loss: 0.9095, Valid Accuracy: 0.7540, Valid F1 Score: 0.7467, Valid Precision: 0.8012, Valid Recall: 0.7540\n"
     ]
    },
    {
     "name": "stderr",
     "output_type": "stream",
     "text": [
      "                                                                         \r"
     ]
    },
    {
     "name": "stdout",
     "output_type": "stream",
     "text": [
      "Epoch 14/20 - Duration: 19.01s\n",
      "Train Loss: 1.3213, Train Precision: 0.6127, Train Recall: 0.6140\n",
      "Valid Loss: 0.8539, Valid Accuracy: 0.7500, Valid F1 Score: 0.7312, Valid Precision: 0.7975, Valid Recall: 0.7500\n"
     ]
    },
    {
     "name": "stderr",
     "output_type": "stream",
     "text": [
      "                                                                         \r"
     ]
    },
    {
     "name": "stdout",
     "output_type": "stream",
     "text": [
      "Epoch 15/20 - Duration: 18.97s\n",
      "Train Loss: 1.2932, Train Precision: 0.6228, Train Recall: 0.6248\n",
      "Valid Loss: 0.8412, Valid Accuracy: 0.7620, Valid F1 Score: 0.7508, Valid Precision: 0.8012, Valid Recall: 0.7620\n"
     ]
    },
    {
     "name": "stderr",
     "output_type": "stream",
     "text": [
      "                                                                         \r"
     ]
    },
    {
     "name": "stdout",
     "output_type": "stream",
     "text": [
      "Epoch 16/20 - Duration: 19.04s\n",
      "Train Loss: 1.2568, Train Precision: 0.6320, Train Recall: 0.6329\n",
      "Valid Loss: 0.8589, Valid Accuracy: 0.7540, Valid F1 Score: 0.7385, Valid Precision: 0.7972, Valid Recall: 0.7540\n"
     ]
    },
    {
     "name": "stderr",
     "output_type": "stream",
     "text": [
      "                                                                         \r"
     ]
    },
    {
     "name": "stdout",
     "output_type": "stream",
     "text": [
      "Epoch 17/20 - Duration: 18.80s\n",
      "Train Loss: 1.2051, Train Precision: 0.6509, Train Recall: 0.6524\n",
      "Valid Loss: 0.8286, Valid Accuracy: 0.7700, Valid F1 Score: 0.7602, Valid Precision: 0.8072, Valid Recall: 0.7700\n"
     ]
    },
    {
     "name": "stderr",
     "output_type": "stream",
     "text": [
      "                                                                         \r"
     ]
    },
    {
     "name": "stdout",
     "output_type": "stream",
     "text": [
      "Epoch 18/20 - Duration: 18.55s\n",
      "Train Loss: 1.1867, Train Precision: 0.6491, Train Recall: 0.6505\n",
      "Valid Loss: 0.8314, Valid Accuracy: 0.7800, Valid F1 Score: 0.7729, Valid Precision: 0.8172, Valid Recall: 0.7800\n"
     ]
    },
    {
     "name": "stderr",
     "output_type": "stream",
     "text": [
      "                                                                         \r"
     ]
    },
    {
     "name": "stdout",
     "output_type": "stream",
     "text": [
      "Epoch 19/20 - Duration: 19.06s\n",
      "Train Loss: 1.1496, Train Precision: 0.6632, Train Recall: 0.6639\n",
      "Valid Loss: 0.8213, Valid Accuracy: 0.7860, Valid F1 Score: 0.7703, Valid Precision: 0.8196, Valid Recall: 0.7860\n"
     ]
    },
    {
     "name": "stderr",
     "output_type": "stream",
     "text": [
      "                                                                         "
     ]
    },
    {
     "name": "stdout",
     "output_type": "stream",
     "text": [
      "Epoch 20/20 - Duration: 18.61s\n",
      "Train Loss: 1.1272, Train Precision: 0.6708, Train Recall: 0.6705\n",
      "Valid Loss: 0.7780, Valid Accuracy: 0.7920, Valid F1 Score: 0.7785, Valid Precision: 0.8350, Valid Recall: 0.7920\n"
     ]
    },
    {
     "name": "stderr",
     "output_type": "stream",
     "text": [
      "\r"
     ]
    }
   ],
   "source": [
    "train_dataset, valid_dataset, test_dataset, train_loader, valid_loader, test_loader = loadTrainingData(64,64);\n",
    "num_classes = len(train_dataset.classes)\n",
    "model = SimpleCNN(num_classes=num_classes)\n",
    "model_cnn, history_cnn, best_wts_cnn = trainingModel(model, train_loader, valid_loader, learning_rate=0.001, num_epoch=20)"
   ]
  },
  {
   "cell_type": "markdown",
   "metadata": {},
   "source": [
    "### Final ResNet18 Model\n",
    "Compared with the baseline parameters:\n",
    "- All the other grouops give similar results\n",
    "- Using smaller learning rate, the performance improved even with the same number of epoch.\n",
    "\n",
    "We assume this group of paramters can give the best performance.\n",
    "<br>\n",
    "Final ResNet18 Model parameters:<br>\n",
    "input size 64 x 64, batch_size = 64, learning rate = 0.0001, original training set, num_epoch = 20"
   ]
  },
  {
   "cell_type": "code",
   "execution_count": 23,
   "metadata": {},
   "outputs": [
    {
     "name": "stdout",
     "output_type": "stream",
     "text": [
      "Training set size: 12594\n",
      "Validation set size: 500\n",
      "Test set size: 500\n"
     ]
    },
    {
     "name": "stderr",
     "output_type": "stream",
     "text": [
      "/Library/Frameworks/Python.framework/Versions/3.11/lib/python3.11/site-packages/torchvision/models/_utils.py:208: UserWarning: The parameter 'pretrained' is deprecated since 0.13 and may be removed in the future, please use 'weights' instead.\n",
      "  warnings.warn(\n",
      "/Library/Frameworks/Python.framework/Versions/3.11/lib/python3.11/site-packages/torchvision/models/_utils.py:223: UserWarning: Arguments other than a weight enum or `None` for 'weights' are deprecated since 0.13 and may be removed in the future. The current behavior is equivalent to passing `weights=ResNet18_Weights.IMAGENET1K_V1`. You can also use `weights=ResNet18_Weights.DEFAULT` to get the most up-to-date weights.\n",
      "  warnings.warn(msg)\n",
      "                                                                        \r"
     ]
    },
    {
     "name": "stdout",
     "output_type": "stream",
     "text": [
      "Epoch 1/20 - Duration: 31.09s\n",
      "Train Loss: 2.7482, Train Precision: 0.4377, Train Recall: 0.4122\n",
      "Valid Loss: 1.1863, Valid Accuracy: 0.7280, Valid F1 Score: 0.7148, Valid Precision: 0.7629, Valid Recall: 0.7280\n"
     ]
    },
    {
     "name": "stderr",
     "output_type": "stream",
     "text": [
      "                                                                        \r"
     ]
    },
    {
     "name": "stdout",
     "output_type": "stream",
     "text": [
      "Epoch 2/20 - Duration: 33.56s\n",
      "Train Loss: 0.9560, Train Precision: 0.7705, Train Recall: 0.7672\n",
      "Valid Loss: 0.5662, Valid Accuracy: 0.8640, Valid F1 Score: 0.8598, Valid Precision: 0.8834, Valid Recall: 0.8640\n"
     ]
    },
    {
     "name": "stderr",
     "output_type": "stream",
     "text": [
      "                                                                        \r"
     ]
    },
    {
     "name": "stdout",
     "output_type": "stream",
     "text": [
      "Epoch 3/20 - Duration: 33.24s\n",
      "Train Loss: 0.5938, Train Precision: 0.8491, Train Recall: 0.8475\n",
      "Valid Loss: 0.4140, Valid Accuracy: 0.9060, Valid F1 Score: 0.9020, Valid Precision: 0.9209, Valid Recall: 0.9060\n"
     ]
    },
    {
     "name": "stderr",
     "output_type": "stream",
     "text": [
      "                                                                        \r"
     ]
    },
    {
     "name": "stdout",
     "output_type": "stream",
     "text": [
      "Epoch 4/20 - Duration: 32.96s\n",
      "Train Loss: 0.4508, Train Precision: 0.8817, Train Recall: 0.8802\n",
      "Valid Loss: 0.3486, Valid Accuracy: 0.9060, Valid F1 Score: 0.9032, Valid Precision: 0.9234, Valid Recall: 0.9060\n"
     ]
    },
    {
     "name": "stderr",
     "output_type": "stream",
     "text": [
      "                                                                        \r"
     ]
    },
    {
     "name": "stdout",
     "output_type": "stream",
     "text": [
      "Epoch 5/20 - Duration: 33.14s\n",
      "Train Loss: 0.3541, Train Precision: 0.9040, Train Recall: 0.9033\n",
      "Valid Loss: 0.3473, Valid Accuracy: 0.9080, Valid F1 Score: 0.9032, Valid Precision: 0.9237, Valid Recall: 0.9080\n"
     ]
    },
    {
     "name": "stderr",
     "output_type": "stream",
     "text": [
      "                                                                        \r"
     ]
    },
    {
     "name": "stdout",
     "output_type": "stream",
     "text": [
      "Epoch 6/20 - Duration: 31.60s\n",
      "Train Loss: 0.2886, Train Precision: 0.9197, Train Recall: 0.9192\n",
      "Valid Loss: 0.3369, Valid Accuracy: 0.9160, Valid F1 Score: 0.9134, Valid Precision: 0.9250, Valid Recall: 0.9160\n"
     ]
    },
    {
     "name": "stderr",
     "output_type": "stream",
     "text": [
      "                                                                        \r"
     ]
    },
    {
     "name": "stdout",
     "output_type": "stream",
     "text": [
      "Epoch 7/20 - Duration: 31.57s\n",
      "Train Loss: 0.2432, Train Precision: 0.9334, Train Recall: 0.9327\n",
      "Valid Loss: 0.3310, Valid Accuracy: 0.9240, Valid F1 Score: 0.9220, Valid Precision: 0.9328, Valid Recall: 0.9240\n"
     ]
    },
    {
     "name": "stderr",
     "output_type": "stream",
     "text": [
      "                                                                        \r"
     ]
    },
    {
     "name": "stdout",
     "output_type": "stream",
     "text": [
      "Epoch 8/20 - Duration: 31.22s\n",
      "Train Loss: 0.2086, Train Precision: 0.9410, Train Recall: 0.9403\n",
      "Valid Loss: 0.3068, Valid Accuracy: 0.9220, Valid F1 Score: 0.9203, Valid Precision: 0.9310, Valid Recall: 0.9220\n"
     ]
    },
    {
     "name": "stderr",
     "output_type": "stream",
     "text": [
      "                                                                        \r"
     ]
    },
    {
     "name": "stdout",
     "output_type": "stream",
     "text": [
      "Epoch 9/20 - Duration: 31.41s\n",
      "Train Loss: 0.1814, Train Precision: 0.9489, Train Recall: 0.9486\n",
      "Valid Loss: 0.3326, Valid Accuracy: 0.9140, Valid F1 Score: 0.9112, Valid Precision: 0.9282, Valid Recall: 0.9140\n"
     ]
    },
    {
     "name": "stderr",
     "output_type": "stream",
     "text": [
      "                                                                         \r"
     ]
    },
    {
     "name": "stdout",
     "output_type": "stream",
     "text": [
      "Epoch 10/20 - Duration: 31.24s\n",
      "Train Loss: 0.1595, Train Precision: 0.9538, Train Recall: 0.9537\n",
      "Valid Loss: 0.2935, Valid Accuracy: 0.9120, Valid F1 Score: 0.9098, Valid Precision: 0.9230, Valid Recall: 0.9120\n"
     ]
    },
    {
     "name": "stderr",
     "output_type": "stream",
     "text": [
      "                                                                         \r"
     ]
    },
    {
     "name": "stdout",
     "output_type": "stream",
     "text": [
      "Epoch 11/20 - Duration: 31.32s\n",
      "Train Loss: 0.1357, Train Precision: 0.9602, Train Recall: 0.9599\n",
      "Valid Loss: 0.3421, Valid Accuracy: 0.9160, Valid F1 Score: 0.9142, Valid Precision: 0.9286, Valid Recall: 0.9160\n"
     ]
    },
    {
     "name": "stderr",
     "output_type": "stream",
     "text": [
      "                                                                         \r"
     ]
    },
    {
     "name": "stdout",
     "output_type": "stream",
     "text": [
      "Epoch 12/20 - Duration: 31.41s\n",
      "Train Loss: 0.1222, Train Precision: 0.9645, Train Recall: 0.9644\n",
      "Valid Loss: 0.3390, Valid Accuracy: 0.9240, Valid F1 Score: 0.9207, Valid Precision: 0.9367, Valid Recall: 0.9240\n"
     ]
    },
    {
     "name": "stderr",
     "output_type": "stream",
     "text": [
      "                                                                         \r"
     ]
    },
    {
     "name": "stdout",
     "output_type": "stream",
     "text": [
      "Epoch 13/20 - Duration: 32.73s\n",
      "Train Loss: 0.1073, Train Precision: 0.9682, Train Recall: 0.9683\n",
      "Valid Loss: 0.3700, Valid Accuracy: 0.9160, Valid F1 Score: 0.9147, Valid Precision: 0.9285, Valid Recall: 0.9160\n"
     ]
    },
    {
     "name": "stderr",
     "output_type": "stream",
     "text": [
      "                                                                         \r"
     ]
    },
    {
     "name": "stdout",
     "output_type": "stream",
     "text": [
      "Epoch 14/20 - Duration: 31.33s\n",
      "Train Loss: 0.1008, Train Precision: 0.9709, Train Recall: 0.9705\n",
      "Valid Loss: 0.3511, Valid Accuracy: 0.9160, Valid F1 Score: 0.9130, Valid Precision: 0.9289, Valid Recall: 0.9160\n"
     ]
    },
    {
     "name": "stderr",
     "output_type": "stream",
     "text": [
      "                                                                         \r"
     ]
    },
    {
     "name": "stdout",
     "output_type": "stream",
     "text": [
      "Epoch 15/20 - Duration: 31.63s\n",
      "Train Loss: 0.0960, Train Precision: 0.9711, Train Recall: 0.9711\n",
      "Valid Loss: 0.4049, Valid Accuracy: 0.9080, Valid F1 Score: 0.9038, Valid Precision: 0.9272, Valid Recall: 0.9080\n"
     ]
    },
    {
     "name": "stderr",
     "output_type": "stream",
     "text": [
      "                                                                         \r"
     ]
    },
    {
     "name": "stdout",
     "output_type": "stream",
     "text": [
      "Epoch 16/20 - Duration: 31.51s\n",
      "Train Loss: 0.0953, Train Precision: 0.9728, Train Recall: 0.9729\n",
      "Valid Loss: 0.3503, Valid Accuracy: 0.9140, Valid F1 Score: 0.9113, Valid Precision: 0.9285, Valid Recall: 0.9140\n"
     ]
    },
    {
     "name": "stderr",
     "output_type": "stream",
     "text": [
      "                                                                         \r"
     ]
    },
    {
     "name": "stdout",
     "output_type": "stream",
     "text": [
      "Epoch 17/20 - Duration: 31.34s\n",
      "Train Loss: 0.0758, Train Precision: 0.9789, Train Recall: 0.9789\n",
      "Valid Loss: 0.3292, Valid Accuracy: 0.9180, Valid F1 Score: 0.9153, Valid Precision: 0.9279, Valid Recall: 0.9180\n"
     ]
    },
    {
     "name": "stderr",
     "output_type": "stream",
     "text": [
      "                                                                         \r"
     ]
    },
    {
     "name": "stdout",
     "output_type": "stream",
     "text": [
      "Epoch 18/20 - Duration: 31.33s\n",
      "Train Loss: 0.0778, Train Precision: 0.9771, Train Recall: 0.9769\n",
      "Valid Loss: 0.3538, Valid Accuracy: 0.9300, Valid F1 Score: 0.9277, Valid Precision: 0.9403, Valid Recall: 0.9300\n"
     ]
    },
    {
     "name": "stderr",
     "output_type": "stream",
     "text": [
      "                                                                         \r"
     ]
    },
    {
     "name": "stdout",
     "output_type": "stream",
     "text": [
      "Epoch 19/20 - Duration: 31.14s\n",
      "Train Loss: 0.0690, Train Precision: 0.9785, Train Recall: 0.9785\n",
      "Valid Loss: 0.3589, Valid Accuracy: 0.9260, Valid F1 Score: 0.9236, Valid Precision: 0.9333, Valid Recall: 0.9260\n"
     ]
    },
    {
     "name": "stderr",
     "output_type": "stream",
     "text": [
      "                                                                         "
     ]
    },
    {
     "name": "stdout",
     "output_type": "stream",
     "text": [
      "Epoch 20/20 - Duration: 32.15s\n",
      "Train Loss: 0.0763, Train Precision: 0.9782, Train Recall: 0.9780\n",
      "Valid Loss: 0.3530, Valid Accuracy: 0.9220, Valid F1 Score: 0.9190, Valid Precision: 0.9340, Valid Recall: 0.9220\n"
     ]
    },
    {
     "name": "stderr",
     "output_type": "stream",
     "text": [
      "\r"
     ]
    }
   ],
   "source": [
    "train_dataset, valid_dataset, test_dataset, train_loader, valid_loader, test_loader = loadTrainingData(64,64);\n",
    "num_classes = len(train_dataset.classes)\n",
    "model = models.resnet18(pretrained=True)\n",
    "model.fc = torch.nn.Linear(model.fc.in_features, len(train_dataset.classes))\n",
    "model_resnet18, history_resnet, best_wts_resnet = trainingModel(model, train_loader, valid_loader, learning_rate=0.0001, num_epoch=20)"
   ]
  },
  {
   "cell_type": "markdown",
   "metadata": {},
   "source": [
    "### Final EfficientNet Model\n",
    "Compared with the baseline parameters:\n",
    "- All the other grouops give similar and good results\n",
    "- Using smaller learning rate, the accuracy is somehow lower, but still above 0.9. The running time is also good.\n",
    "- The other two groups consume much longer time. We decide not to continue on them at this time.\n",
    "\n",
    "We assume the group with smaller learning rate can have better performance.\n",
    "<br>\n",
    "Final EfficientNet Model parameters:<br>\n",
    "input size 64 x 64, batch_size = 64, learning rate = 0.0001, original training set, num_epoch = 20"
   ]
  },
  {
   "cell_type": "code",
   "execution_count": 24,
   "metadata": {},
   "outputs": [
    {
     "name": "stderr",
     "output_type": "stream",
     "text": [
      "/Library/Frameworks/Python.framework/Versions/3.11/lib/python3.11/site-packages/torchvision/models/_utils.py:208: UserWarning: The parameter 'pretrained' is deprecated since 0.13 and may be removed in the future, please use 'weights' instead.\n",
      "  warnings.warn(\n",
      "/Library/Frameworks/Python.framework/Versions/3.11/lib/python3.11/site-packages/torchvision/models/_utils.py:223: UserWarning: Arguments other than a weight enum or `None` for 'weights' are deprecated since 0.13 and may be removed in the future. The current behavior is equivalent to passing `weights=EfficientNet_B0_Weights.IMAGENET1K_V1`. You can also use `weights=EfficientNet_B0_Weights.DEFAULT` to get the most up-to-date weights.\n",
      "  warnings.warn(msg)\n"
     ]
    },
    {
     "name": "stdout",
     "output_type": "stream",
     "text": [
      "Training set size: 12594\n",
      "Validation set size: 500\n",
      "Test set size: 500\n"
     ]
    },
    {
     "name": "stderr",
     "output_type": "stream",
     "text": [
      "                                                                        \r"
     ]
    },
    {
     "name": "stdout",
     "output_type": "stream",
     "text": [
      "Epoch 1/20 - Duration: 64.16s\n",
      "Train Loss: 4.2753, Train Precision: 0.0861, Train Recall: 0.0926\n",
      "Valid Loss: 3.6556, Valid Accuracy: 0.2600, Valid F1 Score: 0.2176, Valid Precision: 0.3476, Valid Recall: 0.2600\n"
     ]
    },
    {
     "name": "stderr",
     "output_type": "stream",
     "text": [
      "                                                                        \r"
     ]
    },
    {
     "name": "stdout",
     "output_type": "stream",
     "text": [
      "Epoch 2/20 - Duration: 49.98s\n",
      "Train Loss: 2.9813, Train Precision: 0.3772, Train Recall: 0.3854\n",
      "Valid Loss: 2.2391, Valid Accuracy: 0.5300, Valid F1 Score: 0.4995, Valid Precision: 0.6187, Valid Recall: 0.5300\n"
     ]
    },
    {
     "name": "stderr",
     "output_type": "stream",
     "text": [
      "                                                                        \r"
     ]
    },
    {
     "name": "stdout",
     "output_type": "stream",
     "text": [
      "Epoch 3/20 - Duration: 49.70s\n",
      "Train Loss: 1.8239, Train Precision: 0.6099, Train Recall: 0.5955\n",
      "Valid Loss: 1.3200, Valid Accuracy: 0.7080, Valid F1 Score: 0.6882, Valid Precision: 0.7750, Valid Recall: 0.7080\n"
     ]
    },
    {
     "name": "stderr",
     "output_type": "stream",
     "text": [
      "                                                                        \r"
     ]
    },
    {
     "name": "stdout",
     "output_type": "stream",
     "text": [
      "Epoch 4/20 - Duration: 49.14s\n",
      "Train Loss: 1.1835, Train Precision: 0.7132, Train Recall: 0.7079\n",
      "Valid Loss: 0.8882, Valid Accuracy: 0.8040, Valid F1 Score: 0.7968, Valid Precision: 0.8423, Valid Recall: 0.8040\n"
     ]
    },
    {
     "name": "stderr",
     "output_type": "stream",
     "text": [
      "                                                                        \r"
     ]
    },
    {
     "name": "stdout",
     "output_type": "stream",
     "text": [
      "Epoch 5/20 - Duration: 46.45s\n",
      "Train Loss: 0.8756, Train Precision: 0.7747, Train Recall: 0.7717\n",
      "Valid Loss: 0.6662, Valid Accuracy: 0.8220, Valid F1 Score: 0.8136, Valid Precision: 0.8552, Valid Recall: 0.8220\n"
     ]
    },
    {
     "name": "stderr",
     "output_type": "stream",
     "text": [
      "                                                                        \r"
     ]
    },
    {
     "name": "stdout",
     "output_type": "stream",
     "text": [
      "Epoch 6/20 - Duration: 45.79s\n",
      "Train Loss: 0.7023, Train Precision: 0.8100, Train Recall: 0.8082\n",
      "Valid Loss: 0.5566, Valid Accuracy: 0.8520, Valid F1 Score: 0.8466, Valid Precision: 0.8707, Valid Recall: 0.8520\n"
     ]
    },
    {
     "name": "stderr",
     "output_type": "stream",
     "text": [
      "                                                                        \r"
     ]
    },
    {
     "name": "stdout",
     "output_type": "stream",
     "text": [
      "Epoch 7/20 - Duration: 45.48s\n",
      "Train Loss: 0.5841, Train Precision: 0.8359, Train Recall: 0.8356\n",
      "Valid Loss: 0.4750, Valid Accuracy: 0.8800, Valid F1 Score: 0.8776, Valid Precision: 0.8974, Valid Recall: 0.8800\n"
     ]
    },
    {
     "name": "stderr",
     "output_type": "stream",
     "text": [
      "                                                                        \r"
     ]
    },
    {
     "name": "stdout",
     "output_type": "stream",
     "text": [
      "Epoch 8/20 - Duration: 45.10s\n",
      "Train Loss: 0.5073, Train Precision: 0.8602, Train Recall: 0.8593\n",
      "Valid Loss: 0.4252, Valid Accuracy: 0.8920, Valid F1 Score: 0.8877, Valid Precision: 0.9064, Valid Recall: 0.8920\n"
     ]
    },
    {
     "name": "stderr",
     "output_type": "stream",
     "text": [
      "                                                                        \r"
     ]
    },
    {
     "name": "stdout",
     "output_type": "stream",
     "text": [
      "Epoch 9/20 - Duration: 44.93s\n",
      "Train Loss: 0.4381, Train Precision: 0.8761, Train Recall: 0.8749\n",
      "Valid Loss: 0.3948, Valid Accuracy: 0.8980, Valid F1 Score: 0.8946, Valid Precision: 0.9121, Valid Recall: 0.8980\n"
     ]
    },
    {
     "name": "stderr",
     "output_type": "stream",
     "text": [
      "                                                                         \r"
     ]
    },
    {
     "name": "stdout",
     "output_type": "stream",
     "text": [
      "Epoch 10/20 - Duration: 45.38s\n",
      "Train Loss: 0.3913, Train Precision: 0.8877, Train Recall: 0.8874\n",
      "Valid Loss: 0.3749, Valid Accuracy: 0.8920, Valid F1 Score: 0.8886, Valid Precision: 0.9059, Valid Recall: 0.8920\n"
     ]
    },
    {
     "name": "stderr",
     "output_type": "stream",
     "text": [
      "                                                                         \r"
     ]
    },
    {
     "name": "stdout",
     "output_type": "stream",
     "text": [
      "Epoch 11/20 - Duration: 44.90s\n",
      "Train Loss: 0.3523, Train Precision: 0.8990, Train Recall: 0.8981\n",
      "Valid Loss: 0.3726, Valid Accuracy: 0.8980, Valid F1 Score: 0.8951, Valid Precision: 0.9090, Valid Recall: 0.8980\n"
     ]
    },
    {
     "name": "stderr",
     "output_type": "stream",
     "text": [
      "                                                                         \r"
     ]
    },
    {
     "name": "stdout",
     "output_type": "stream",
     "text": [
      "Epoch 12/20 - Duration: 44.81s\n",
      "Train Loss: 0.3063, Train Precision: 0.9105, Train Recall: 0.9103\n",
      "Valid Loss: 0.3560, Valid Accuracy: 0.9060, Valid F1 Score: 0.9032, Valid Precision: 0.9141, Valid Recall: 0.9060\n"
     ]
    },
    {
     "name": "stderr",
     "output_type": "stream",
     "text": [
      "                                                                         \r"
     ]
    },
    {
     "name": "stdout",
     "output_type": "stream",
     "text": [
      "Epoch 13/20 - Duration: 47.62s\n",
      "Train Loss: 0.2736, Train Precision: 0.9175, Train Recall: 0.9168\n",
      "Valid Loss: 0.3362, Valid Accuracy: 0.9160, Valid F1 Score: 0.9134, Valid Precision: 0.9228, Valid Recall: 0.9160\n"
     ]
    },
    {
     "name": "stderr",
     "output_type": "stream",
     "text": [
      "                                                                         \r"
     ]
    },
    {
     "name": "stdout",
     "output_type": "stream",
     "text": [
      "Epoch 14/20 - Duration: 44.95s\n",
      "Train Loss: 0.2492, Train Precision: 0.9248, Train Recall: 0.9242\n",
      "Valid Loss: 0.3407, Valid Accuracy: 0.9120, Valid F1 Score: 0.9097, Valid Precision: 0.9221, Valid Recall: 0.9120\n"
     ]
    },
    {
     "name": "stderr",
     "output_type": "stream",
     "text": [
      "                                                                         \r"
     ]
    },
    {
     "name": "stdout",
     "output_type": "stream",
     "text": [
      "Epoch 15/20 - Duration: 44.90s\n",
      "Train Loss: 0.2241, Train Precision: 0.9324, Train Recall: 0.9319\n",
      "Valid Loss: 0.3266, Valid Accuracy: 0.9200, Valid F1 Score: 0.9184, Valid Precision: 0.9300, Valid Recall: 0.9200\n"
     ]
    },
    {
     "name": "stderr",
     "output_type": "stream",
     "text": [
      "                                                                         \r"
     ]
    },
    {
     "name": "stdout",
     "output_type": "stream",
     "text": [
      "Epoch 16/20 - Duration: 44.97s\n",
      "Train Loss: 0.2078, Train Precision: 0.9392, Train Recall: 0.9385\n",
      "Valid Loss: 0.3126, Valid Accuracy: 0.9260, Valid F1 Score: 0.9243, Valid Precision: 0.9358, Valid Recall: 0.9260\n"
     ]
    },
    {
     "name": "stderr",
     "output_type": "stream",
     "text": [
      "                                                                         \r"
     ]
    },
    {
     "name": "stdout",
     "output_type": "stream",
     "text": [
      "Epoch 17/20 - Duration: 45.06s\n",
      "Train Loss: 0.1907, Train Precision: 0.9438, Train Recall: 0.9435\n",
      "Valid Loss: 0.3140, Valid Accuracy: 0.9180, Valid F1 Score: 0.9166, Valid Precision: 0.9258, Valid Recall: 0.9180\n"
     ]
    },
    {
     "name": "stderr",
     "output_type": "stream",
     "text": [
      "                                                                         \r"
     ]
    },
    {
     "name": "stdout",
     "output_type": "stream",
     "text": [
      "Epoch 18/20 - Duration: 45.18s\n",
      "Train Loss: 0.1699, Train Precision: 0.9468, Train Recall: 0.9465\n",
      "Valid Loss: 0.2873, Valid Accuracy: 0.9240, Valid F1 Score: 0.9230, Valid Precision: 0.9350, Valid Recall: 0.9240\n"
     ]
    },
    {
     "name": "stderr",
     "output_type": "stream",
     "text": [
      "                                                                         \r"
     ]
    },
    {
     "name": "stdout",
     "output_type": "stream",
     "text": [
      "Epoch 19/20 - Duration: 45.32s\n",
      "Train Loss: 0.1488, Train Precision: 0.9551, Train Recall: 0.9548\n",
      "Valid Loss: 0.2865, Valid Accuracy: 0.9220, Valid F1 Score: 0.9202, Valid Precision: 0.9291, Valid Recall: 0.9220\n"
     ]
    },
    {
     "name": "stderr",
     "output_type": "stream",
     "text": [
      "                                                                         "
     ]
    },
    {
     "name": "stdout",
     "output_type": "stream",
     "text": [
      "Epoch 20/20 - Duration: 44.96s\n",
      "Train Loss: 0.1387, Train Precision: 0.9590, Train Recall: 0.9584\n",
      "Valid Loss: 0.2886, Valid Accuracy: 0.9320, Valid F1 Score: 0.9307, Valid Precision: 0.9410, Valid Recall: 0.9320\n"
     ]
    },
    {
     "name": "stderr",
     "output_type": "stream",
     "text": [
      "\r"
     ]
    }
   ],
   "source": [
    "train_dataset, valid_dataset, test_dataset, train_loader, valid_loader, test_loader = loadTrainingData(64,64);\n",
    "num_classes = len(train_dataset.classes)\n",
    "model = models.efficientnet_b0(pretrained=True)\n",
    "model.classifier[1] = nn.Linear(model.classifier[1].in_features, num_classes)\n",
    "model_efficientnet, history_effiNet, best_wts_effiNet = trainingModel(model, train_loader, valid_loader, learning_rate=0.0001, num_epoch=20)"
   ]
  },
  {
   "cell_type": "markdown",
   "metadata": {},
   "source": [
    "===================================================================================================="
   ]
  },
  {
   "cell_type": "markdown",
   "metadata": {},
   "source": [
    "### Evaluation"
   ]
  },
  {
   "cell_type": "code",
   "execution_count": null,
   "metadata": {},
   "outputs": [],
   "source": [
    "models_list = [(\"SimpleCNN\", model_cnn), (\"ResNet18\", model_resnet18), (\"EfficientNet\", model_efficientnet)]\n",
    "models_histories = [(\"SimpleCNN\", history_cnn), (\"ResNet18\", history_resnet), (\"EfficientNet\", history_effiNet)]"
   ]
  },
  {
   "cell_type": "code",
   "execution_count": 30,
   "metadata": {},
   "outputs": [
    {
     "data": {
      "image/png": "[encoded data removed]",
      "text/plain": [
       "<Figure size 800x500 with 1 Axes>"
      ]
     },
     "metadata": {},
     "output_type": "display_data"
    },
    {
     "data": {
      "image/png": "[encoded data removed]",
      "text/plain": [
       "<Figure size 800x500 with 1 Axes>"
      ]
     },
     "metadata": {},
     "output_type": "display_data"
    },
    {
     "data": {
      "image/png": "[encoded data removed]",
      "text/plain": [
       "<Figure size 800x500 with 1 Axes>"
      ]
     },
     "metadata": {},
     "output_type": "display_data"
    }
   ],
   "source": [
    "# Plot Training Loss\n",
    "plt.figure(figsize=(8, 5))\n",
    "for name, history in models_histories:\n",
    "    plt.plot(range(1, 21), history[\"train_loss\"], label=name)\n",
    "plt.title(\"Training Loss over Epochs\")\n",
    "plt.xlabel(\"Epochs\")\n",
    "plt.ylabel(\"Loss\")\n",
    "plt.legend()\n",
    "plt.grid(True)\n",
    "plt.show()\n",
    "\n",
    "# Plot Validation Loss\n",
    "plt.figure(figsize=(8, 5))\n",
    "for name, history in models_histories:\n",
    "    plt.plot(range(1, 21), history[\"valid_loss\"], label=name)\n",
    "plt.title(\"Validation Loss over Epochs\")\n",
    "plt.xlabel(\"Epochs\")\n",
    "plt.ylabel(\"Loss\")\n",
    "plt.legend()\n",
    "plt.grid(True)\n",
    "plt.show()\n",
    "\n",
    "# Plot Validation Accuracy\n",
    "plt.figure(figsize=(8, 5))\n",
    "for name, history in models_histories:\n",
    "    plt.plot(range(1, 21), history[\"valid_accuracy\"], label=name)\n",
    "plt.title(\"Validation Accuracy over Epochs\")\n",
    "plt.xlabel(\"Epochs\")\n",
    "plt.ylabel(\"Accuracy\")\n",
    "plt.legend()\n",
    "plt.grid(True)\n",
    "plt.show()\n"
   ]
  },
  {
   "cell_type": "markdown",
   "metadata": {},
   "source": [
    "====================================================================================================\n",
    "### other evaluation"
   ]
  },
  {
   "cell_type": "code",
   "execution_count": 38,
   "metadata": {},
   "outputs": [],
   "source": [
    "device = torch.device(\"mps\" if torch.backends.mps.is_available() else \"cpu\")\n",
    "criterion = nn.CrossEntropyLoss()\n",
    "\n",
    "def evaluate_model(model, data_loader, criterion):\n",
    "    model.eval()\n",
    "    total_loss = 0\n",
    "    all_labels = []\n",
    "    all_preds = []\n",
    "\n",
    "    with torch.no_grad():\n",
    "        for images, labels in data_loader:\n",
    "            images, labels = images.to(device), labels.to(device)\n",
    "\n",
    "            # Forward pass\n",
    "            outputs = model(images)\n",
    "            loss = criterion(outputs, labels)\n",
    "            total_loss += loss.item()\n",
    "\n",
    "            # Predictions\n",
    "            _, preds = torch.max(outputs, 1)\n",
    "            all_labels.extend(labels.cpu().numpy())\n",
    "            all_preds.extend(preds.cpu().numpy())\n",
    "\n",
    "    # Calculate metrics\n",
    "    avg_loss = total_loss / len(data_loader)\n",
    "    accuracy = (torch.tensor(all_preds) == torch.tensor(all_labels)).float().mean().item()\n",
    "    f1 = f1_score(all_labels, all_preds, average='macro')\n",
    "\n",
    "    return avg_loss, accuracy, f1, all_labels, all_preds\n"
   ]
  },
  {
   "cell_type": "markdown",
   "metadata": {},
   "source": [
    "CNN"
   ]
  },
  {
   "cell_type": "code",
   "execution_count": 40,
   "metadata": {},
   "outputs": [
    {
     "name": "stdout",
     "output_type": "stream",
     "text": [
      "Validation Loss: 0.7780\n",
      "Validation Accuracy: 0.7920\n",
      "Validation F1 Score: 0.7785\n",
      "                           precision    recall  f1-score   support\n",
      "\n",
      "                   ADONIS       1.00      0.60      0.75         5\n",
      "AFRICAN GIANT SWALLOWTAIL       0.83      1.00      0.91         5\n",
      "           AMERICAN SNOOT       1.00      0.60      0.75         5\n",
      "                    AN 88       0.83      1.00      0.91         5\n",
      "                  APPOLLO       0.83      1.00      0.91         5\n",
      "     ARCIGERA FLOWER MOTH       0.83      1.00      0.91         5\n",
      "                    ATALA       0.83      1.00      0.91         5\n",
      "               ATLAS MOTH       1.00      1.00      1.00         5\n",
      " BANDED ORANGE HELICONIAN       1.00      0.80      0.89         5\n",
      "           BANDED PEACOCK       0.83      1.00      0.91         5\n",
      "        BANDED TIGER MOTH       1.00      0.80      0.89         5\n",
      "            BECKERS WHITE       0.75      0.60      0.67         5\n",
      "  BIRD CHERRY ERMINE MOTH       1.00      0.80      0.89         5\n",
      "         BLACK HAIRSTREAK       0.83      1.00      0.91         5\n",
      "              BLUE MORPHO       1.00      0.20      0.33         5\n",
      "        BLUE SPOTTED CROW       0.00      0.00      0.00         5\n",
      "         BROOKES BIRDWING       0.67      0.80      0.73         5\n",
      "              BROWN ARGUS       0.83      1.00      0.91         5\n",
      "           BROWN SIPROETA       0.83      1.00      0.91         5\n",
      "            CABBAGE WHITE       0.62      1.00      0.77         5\n",
      "          CAIRNS BIRDWING       1.00      0.40      0.57         5\n",
      "          CHALK HILL BLUE       0.83      1.00      0.91         5\n",
      "       CHECQUERED SKIPPER       0.50      0.40      0.44         5\n",
      "                 CHESTNUT       1.00      1.00      1.00         5\n",
      "            CINNABAR MOTH       1.00      1.00      1.00         5\n",
      "           CLEARWING MOTH       0.83      1.00      0.91         5\n",
      "                CLEOPATRA       0.80      0.80      0.80         5\n",
      "       CLODIUS PARNASSIAN       1.00      0.40      0.57         5\n",
      "          CLOUDED SULPHUR       1.00      0.80      0.89         5\n",
      "               COMET MOTH       0.80      0.80      0.80         5\n",
      "        COMMON BANDED AWL       0.71      1.00      0.83         5\n",
      "        COMMON WOOD-NYMPH       0.42      1.00      0.59         5\n",
      "              COPPER TAIL       0.50      0.40      0.44         5\n",
      "                  CRECENT       0.80      0.80      0.80         5\n",
      "            CRIMSON PATCH       0.83      1.00      0.91         5\n",
      "            DANAID EGGFLY       1.00      0.60      0.75         5\n",
      "             EASTERN COMA       0.33      0.40      0.36         5\n",
      "     EASTERN DAPPLE WHITE       1.00      0.60      0.75         5\n",
      "       EASTERN PINE ELFIN       0.44      0.80      0.57         5\n",
      "          ELBOWED PIERROT       1.00      1.00      1.00         5\n",
      "         EMPEROR GUM MOTH       0.62      1.00      0.77         5\n",
      "        GARDEN TIGER MOTH       0.83      1.00      0.91         5\n",
      "       GIANT LEOPARD MOTH       0.67      0.80      0.73         5\n",
      "      GLITTERING SAPPHIRE       0.71      1.00      0.83         5\n",
      "              GOLD BANDED       1.00      0.80      0.89         5\n",
      "             GREAT EGGFLY       0.75      0.60      0.67         5\n",
      "                GREAT JAY       0.62      1.00      0.77         5\n",
      " GREEN CELLED CATTLEHEART       0.80      0.80      0.80         5\n",
      "         GREEN HAIRSTREAK       1.00      0.80      0.89         5\n",
      "          GREY HAIRSTREAK       1.00      1.00      1.00         5\n",
      "            HERCULES MOTH       0.75      0.60      0.67         5\n",
      "   HUMMING BIRD HAWK MOTH       0.71      1.00      0.83         5\n",
      "            INDRA SWALLOW       1.00      0.80      0.89         5\n",
      "                  IO MOTH       0.83      1.00      0.91         5\n",
      "          Iphiclus sister       1.00      1.00      1.00         5\n",
      "                    JULIA       0.67      0.40      0.50         5\n",
      "             LARGE MARBLE       0.43      0.60      0.50         5\n",
      "                LUNA MOTH       1.00      0.80      0.89         5\n",
      "   MADAGASCAN SUNSET MOTH       1.00      1.00      1.00         5\n",
      "                MALACHITE       0.80      0.80      0.80         5\n",
      "         MANGROVE SKIPPER       0.56      1.00      0.71         5\n",
      "                   MESTRA       1.00      0.60      0.75         5\n",
      "                METALMARK       1.00      0.80      0.89         5\n",
      "   MILBERTS TORTOISESHELL       1.00      0.80      0.89         5\n",
      "                  MONARCH       0.50      0.20      0.29         5\n",
      "           MOURNING CLOAK       0.80      0.80      0.80         5\n",
      "       OLEANDER HAWK MOTH       0.71      1.00      0.83         5\n",
      "           ORANGE OAKLEAF       1.00      0.60      0.75         5\n",
      "               ORANGE TIP       1.00      1.00      1.00         5\n",
      "          ORCHARD SWALLOW       1.00      0.80      0.89         5\n",
      "             PAINTED LADY       0.83      1.00      0.91         5\n",
      "               PAPER KITE       0.80      0.80      0.80         5\n",
      "                  PEACOCK       1.00      1.00      1.00         5\n",
      "               PINE WHITE       1.00      0.60      0.75         5\n",
      "         PIPEVINE SWALLOW       1.00      0.80      0.89         5\n",
      "          POLYPHEMUS MOTH       1.00      0.40      0.57         5\n",
      "                 POPINJAY       0.83      1.00      0.91         5\n",
      "        PURPLE HAIRSTREAK       1.00      0.40      0.57         5\n",
      "          PURPLISH COPPER       0.50      0.80      0.62         5\n",
      "            QUESTION MARK       0.00      0.00      0.00         5\n",
      "              RED ADMIRAL       0.83      1.00      0.91         5\n",
      "              RED CRACKER       1.00      1.00      1.00         5\n",
      "              RED POSTMAN       1.00      1.00      1.00         5\n",
      "       RED SPOTTED PURPLE       1.00      0.80      0.89         5\n",
      "          ROSY MAPLE MOTH       0.67      0.80      0.73         5\n",
      "           SCARCE SWALLOW       1.00      0.80      0.89         5\n",
      "      SILVER SPOT SKIPPER       1.00      0.60      0.75         5\n",
      "      SIXSPOT BURNET MOTH       0.83      1.00      0.91         5\n",
      "            SLEEPY ORANGE       0.83      1.00      0.91         5\n",
      "                SOOTYWING       0.60      0.60      0.60         5\n",
      "         SOUTHERN DOGFACE       1.00      0.40      0.57         5\n",
      "           STRAITED QUEEN       0.83      1.00      0.91         5\n",
      "        TROPICAL LEAFWING       0.60      0.60      0.60         5\n",
      "       TWO BARRED FLASHER       1.00      1.00      1.00         5\n",
      "                   ULYSES       0.56      1.00      0.71         5\n",
      "                  VICEROY       0.56      1.00      0.71         5\n",
      "  WHITE LINED SPHINX MOTH       0.80      0.80      0.80         5\n",
      "               WOOD SATYR       0.62      1.00      0.77         5\n",
      "      YELLOW SWALLOW TAIL       0.67      0.40      0.50         5\n",
      "          ZEBRA LONG WING       1.00      0.80      0.89         5\n",
      "\n",
      "                 accuracy                           0.79       500\n",
      "                macro avg       0.81      0.79      0.78       500\n",
      "             weighted avg       0.81      0.79      0.78       500\n",
      "\n"
     ]
    },
    {
     "name": "stderr",
     "output_type": "stream",
     "text": [
      "/Library/Frameworks/Python.framework/Versions/3.11/lib/python3.11/site-packages/sklearn/metrics/_classification.py:1531: UndefinedMetricWarning: Precision is ill-defined and being set to 0.0 in labels with no predicted samples. Use `zero_division` parameter to control this behavior.\n",
      "  _warn_prf(average, modifier, f\"{metric.capitalize()} is\", len(result))\n",
      "/Library/Frameworks/Python.framework/Versions/3.11/lib/python3.11/site-packages/sklearn/metrics/_classification.py:1531: UndefinedMetricWarning: Precision is ill-defined and being set to 0.0 in labels with no predicted samples. Use `zero_division` parameter to control this behavior.\n",
      "  _warn_prf(average, modifier, f\"{metric.capitalize()} is\", len(result))\n",
      "/Library/Frameworks/Python.framework/Versions/3.11/lib/python3.11/site-packages/sklearn/metrics/_classification.py:1531: UndefinedMetricWarning: Precision is ill-defined and being set to 0.0 in labels with no predicted samples. Use `zero_division` parameter to control this behavior.\n",
      "  _warn_prf(average, modifier, f\"{metric.capitalize()} is\", len(result))\n"
     ]
    }
   ],
   "source": [
    "valid_loss, valid_accuracy, valid_f1, all_labels, all_preds = evaluate_model(model_cnn, valid_loader, criterion)\n",
    "\n",
    "# Print results\n",
    "print(f\"Validation Loss: {valid_loss:.4f}\")\n",
    "print(f\"Validation Accuracy: {valid_accuracy:.4f}\")\n",
    "print(f\"Validation F1 Score: {valid_f1:.4f}\")\n",
    "\n",
    "# Print the classification report\n",
    "report = classification_report(all_labels, all_preds, target_names=train_dataset.classes)\n",
    "print(report)"
   ]
  },
  {
   "cell_type": "markdown",
   "metadata": {},
   "source": [
    "ResNet18"
   ]
  },
  {
   "cell_type": "code",
   "execution_count": 43,
   "metadata": {},
   "outputs": [
    {
     "name": "stdout",
     "output_type": "stream",
     "text": [
      "Validation Loss: 0.3530\n",
      "Validation Accuracy: 0.9220\n",
      "Validation F1 Score: 0.9190\n",
      "                           precision    recall  f1-score   support\n",
      "\n",
      "                   ADONIS       1.00      1.00      1.00         5\n",
      "AFRICAN GIANT SWALLOWTAIL       1.00      1.00      1.00         5\n",
      "           AMERICAN SNOOT       1.00      1.00      1.00         5\n",
      "                    AN 88       1.00      1.00      1.00         5\n",
      "                  APPOLLO       1.00      1.00      1.00         5\n",
      "     ARCIGERA FLOWER MOTH       1.00      1.00      1.00         5\n",
      "                    ATALA       1.00      1.00      1.00         5\n",
      "               ATLAS MOTH       1.00      0.80      0.89         5\n",
      " BANDED ORANGE HELICONIAN       1.00      1.00      1.00         5\n",
      "           BANDED PEACOCK       1.00      1.00      1.00         5\n",
      "        BANDED TIGER MOTH       1.00      0.80      0.89         5\n",
      "            BECKERS WHITE       1.00      0.80      0.89         5\n",
      "  BIRD CHERRY ERMINE MOTH       1.00      0.60      0.75         5\n",
      "         BLACK HAIRSTREAK       0.83      1.00      0.91         5\n",
      "              BLUE MORPHO       1.00      0.60      0.75         5\n",
      "        BLUE SPOTTED CROW       0.67      0.40      0.50         5\n",
      "         BROOKES BIRDWING       0.71      1.00      0.83         5\n",
      "              BROWN ARGUS       1.00      1.00      1.00         5\n",
      "           BROWN SIPROETA       1.00      1.00      1.00         5\n",
      "            CABBAGE WHITE       1.00      1.00      1.00         5\n",
      "          CAIRNS BIRDWING       1.00      0.80      0.89         5\n",
      "          CHALK HILL BLUE       1.00      1.00      1.00         5\n",
      "       CHECQUERED SKIPPER       1.00      1.00      1.00         5\n",
      "                 CHESTNUT       1.00      1.00      1.00         5\n",
      "            CINNABAR MOTH       0.83      1.00      0.91         5\n",
      "           CLEARWING MOTH       1.00      1.00      1.00         5\n",
      "                CLEOPATRA       0.83      1.00      0.91         5\n",
      "       CLODIUS PARNASSIAN       1.00      1.00      1.00         5\n",
      "          CLOUDED SULPHUR       1.00      0.60      0.75         5\n",
      "               COMET MOTH       0.83      1.00      0.91         5\n",
      "        COMMON BANDED AWL       1.00      0.80      0.89         5\n",
      "        COMMON WOOD-NYMPH       0.83      1.00      0.91         5\n",
      "              COPPER TAIL       1.00      0.40      0.57         5\n",
      "                  CRECENT       1.00      0.60      0.75         5\n",
      "            CRIMSON PATCH       1.00      1.00      1.00         5\n",
      "            DANAID EGGFLY       1.00      0.60      0.75         5\n",
      "             EASTERN COMA       0.75      0.60      0.67         5\n",
      "     EASTERN DAPPLE WHITE       0.83      1.00      0.91         5\n",
      "       EASTERN PINE ELFIN       1.00      1.00      1.00         5\n",
      "          ELBOWED PIERROT       1.00      1.00      1.00         5\n",
      "         EMPEROR GUM MOTH       0.83      1.00      0.91         5\n",
      "        GARDEN TIGER MOTH       0.83      1.00      0.91         5\n",
      "       GIANT LEOPARD MOTH       0.71      1.00      0.83         5\n",
      "      GLITTERING SAPPHIRE       1.00      1.00      1.00         5\n",
      "              GOLD BANDED       1.00      1.00      1.00         5\n",
      "             GREAT EGGFLY       0.80      0.80      0.80         5\n",
      "                GREAT JAY       0.83      1.00      0.91         5\n",
      " GREEN CELLED CATTLEHEART       0.83      1.00      0.91         5\n",
      "         GREEN HAIRSTREAK       1.00      1.00      1.00         5\n",
      "          GREY HAIRSTREAK       1.00      1.00      1.00         5\n",
      "            HERCULES MOTH       0.83      1.00      0.91         5\n",
      "   HUMMING BIRD HAWK MOTH       1.00      1.00      1.00         5\n",
      "            INDRA SWALLOW       0.80      0.80      0.80         5\n",
      "                  IO MOTH       0.83      1.00      0.91         5\n",
      "          Iphiclus sister       0.83      1.00      0.91         5\n",
      "                    JULIA       1.00      1.00      1.00         5\n",
      "             LARGE MARBLE       0.80      0.80      0.80         5\n",
      "                LUNA MOTH       1.00      0.80      0.89         5\n",
      "   MADAGASCAN SUNSET MOTH       1.00      1.00      1.00         5\n",
      "                MALACHITE       1.00      1.00      1.00         5\n",
      "         MANGROVE SKIPPER       0.83      1.00      0.91         5\n",
      "                   MESTRA       1.00      1.00      1.00         5\n",
      "                METALMARK       1.00      1.00      1.00         5\n",
      "   MILBERTS TORTOISESHELL       1.00      1.00      1.00         5\n",
      "                  MONARCH       1.00      1.00      1.00         5\n",
      "           MOURNING CLOAK       1.00      1.00      1.00         5\n",
      "       OLEANDER HAWK MOTH       1.00      1.00      1.00         5\n",
      "           ORANGE OAKLEAF       1.00      0.80      0.89         5\n",
      "               ORANGE TIP       1.00      1.00      1.00         5\n",
      "          ORCHARD SWALLOW       1.00      1.00      1.00         5\n",
      "             PAINTED LADY       0.83      1.00      0.91         5\n",
      "               PAPER KITE       1.00      1.00      1.00         5\n",
      "                  PEACOCK       1.00      1.00      1.00         5\n",
      "               PINE WHITE       1.00      0.80      0.89         5\n",
      "         PIPEVINE SWALLOW       1.00      1.00      1.00         5\n",
      "          POLYPHEMUS MOTH       1.00      0.60      0.75         5\n",
      "                 POPINJAY       0.83      1.00      0.91         5\n",
      "        PURPLE HAIRSTREAK       1.00      0.80      0.89         5\n",
      "          PURPLISH COPPER       0.62      1.00      0.77         5\n",
      "            QUESTION MARK       0.80      0.80      0.80         5\n",
      "              RED ADMIRAL       0.83      1.00      0.91         5\n",
      "              RED CRACKER       1.00      1.00      1.00         5\n",
      "              RED POSTMAN       1.00      1.00      1.00         5\n",
      "       RED SPOTTED PURPLE       1.00      1.00      1.00         5\n",
      "          ROSY MAPLE MOTH       0.83      1.00      0.91         5\n",
      "           SCARCE SWALLOW       1.00      1.00      1.00         5\n",
      "      SILVER SPOT SKIPPER       1.00      1.00      1.00         5\n",
      "      SIXSPOT BURNET MOTH       1.00      0.80      0.89         5\n",
      "            SLEEPY ORANGE       1.00      0.80      0.89         5\n",
      "                SOOTYWING       1.00      0.80      0.89         5\n",
      "         SOUTHERN DOGFACE       0.67      0.80      0.73         5\n",
      "           STRAITED QUEEN       1.00      1.00      1.00         5\n",
      "        TROPICAL LEAFWING       1.00      0.80      0.89         5\n",
      "       TWO BARRED FLASHER       1.00      1.00      1.00         5\n",
      "                   ULYSES       0.71      1.00      0.83         5\n",
      "                  VICEROY       0.83      1.00      0.91         5\n",
      "  WHITE LINED SPHINX MOTH       1.00      1.00      1.00         5\n",
      "               WOOD SATYR       1.00      1.00      1.00         5\n",
      "      YELLOW SWALLOW TAIL       0.80      0.80      0.80         5\n",
      "          ZEBRA LONG WING       0.71      1.00      0.83         5\n",
      "\n",
      "                 accuracy                           0.92       500\n",
      "                macro avg       0.93      0.92      0.92       500\n",
      "             weighted avg       0.93      0.92      0.92       500\n",
      "\n"
     ]
    }
   ],
   "source": [
    "valid_loss, valid_accuracy, valid_f1, all_labels, all_preds = evaluate_model(model_resnet18, valid_loader, criterion)\n",
    "\n",
    "# Print results\n",
    "print(f\"Validation Loss: {valid_loss:.4f}\")\n",
    "print(f\"Validation Accuracy: {valid_accuracy:.4f}\")\n",
    "print(f\"Validation F1 Score: {valid_f1:.4f}\")\n",
    "\n",
    "# Print the classification report\n",
    "report = classification_report(all_labels, all_preds, target_names=train_dataset.classes)\n",
    "print(report)"
   ]
  },
  {
   "cell_type": "markdown",
   "metadata": {},
   "source": [
    "EfficientNet"
   ]
  },
  {
   "cell_type": "code",
   "execution_count": 44,
   "metadata": {},
   "outputs": [
    {
     "name": "stdout",
     "output_type": "stream",
     "text": [
      "Validation Loss: 0.2886\n",
      "Validation Accuracy: 0.9320\n",
      "Validation F1 Score: 0.9307\n",
      "                           precision    recall  f1-score   support\n",
      "\n",
      "                   ADONIS       1.00      1.00      1.00         5\n",
      "AFRICAN GIANT SWALLOWTAIL       1.00      1.00      1.00         5\n",
      "           AMERICAN SNOOT       1.00      1.00      1.00         5\n",
      "                    AN 88       1.00      1.00      1.00         5\n",
      "                  APPOLLO       1.00      1.00      1.00         5\n",
      "     ARCIGERA FLOWER MOTH       1.00      1.00      1.00         5\n",
      "                    ATALA       1.00      1.00      1.00         5\n",
      "               ATLAS MOTH       1.00      1.00      1.00         5\n",
      " BANDED ORANGE HELICONIAN       0.83      1.00      0.91         5\n",
      "           BANDED PEACOCK       1.00      1.00      1.00         5\n",
      "        BANDED TIGER MOTH       0.80      0.80      0.80         5\n",
      "            BECKERS WHITE       0.83      1.00      0.91         5\n",
      "  BIRD CHERRY ERMINE MOTH       0.80      0.80      0.80         5\n",
      "         BLACK HAIRSTREAK       1.00      1.00      1.00         5\n",
      "              BLUE MORPHO       0.80      0.80      0.80         5\n",
      "        BLUE SPOTTED CROW       1.00      0.60      0.75         5\n",
      "         BROOKES BIRDWING       1.00      1.00      1.00         5\n",
      "              BROWN ARGUS       1.00      1.00      1.00         5\n",
      "           BROWN SIPROETA       1.00      1.00      1.00         5\n",
      "            CABBAGE WHITE       1.00      1.00      1.00         5\n",
      "          CAIRNS BIRDWING       1.00      1.00      1.00         5\n",
      "          CHALK HILL BLUE       1.00      1.00      1.00         5\n",
      "       CHECQUERED SKIPPER       0.83      1.00      0.91         5\n",
      "                 CHESTNUT       1.00      1.00      1.00         5\n",
      "            CINNABAR MOTH       1.00      1.00      1.00         5\n",
      "           CLEARWING MOTH       1.00      1.00      1.00         5\n",
      "                CLEOPATRA       0.83      1.00      0.91         5\n",
      "       CLODIUS PARNASSIAN       1.00      0.80      0.89         5\n",
      "          CLOUDED SULPHUR       0.67      0.80      0.73         5\n",
      "               COMET MOTH       0.83      1.00      0.91         5\n",
      "        COMMON BANDED AWL       0.71      1.00      0.83         5\n",
      "        COMMON WOOD-NYMPH       1.00      1.00      1.00         5\n",
      "              COPPER TAIL       0.83      1.00      0.91         5\n",
      "                  CRECENT       1.00      1.00      1.00         5\n",
      "            CRIMSON PATCH       1.00      1.00      1.00         5\n",
      "            DANAID EGGFLY       1.00      0.60      0.75         5\n",
      "             EASTERN COMA       0.50      0.40      0.44         5\n",
      "     EASTERN DAPPLE WHITE       1.00      0.60      0.75         5\n",
      "       EASTERN PINE ELFIN       1.00      0.80      0.89         5\n",
      "          ELBOWED PIERROT       1.00      1.00      1.00         5\n",
      "         EMPEROR GUM MOTH       0.83      1.00      0.91         5\n",
      "        GARDEN TIGER MOTH       0.67      0.80      0.73         5\n",
      "       GIANT LEOPARD MOTH       0.83      1.00      0.91         5\n",
      "      GLITTERING SAPPHIRE       1.00      1.00      1.00         5\n",
      "              GOLD BANDED       1.00      1.00      1.00         5\n",
      "             GREAT EGGFLY       0.83      1.00      0.91         5\n",
      "                GREAT JAY       1.00      1.00      1.00         5\n",
      " GREEN CELLED CATTLEHEART       1.00      1.00      1.00         5\n",
      "         GREEN HAIRSTREAK       1.00      1.00      1.00         5\n",
      "          GREY HAIRSTREAK       1.00      1.00      1.00         5\n",
      "            HERCULES MOTH       1.00      1.00      1.00         5\n",
      "   HUMMING BIRD HAWK MOTH       1.00      1.00      1.00         5\n",
      "            INDRA SWALLOW       1.00      0.60      0.75         5\n",
      "                  IO MOTH       1.00      1.00      1.00         5\n",
      "          Iphiclus sister       1.00      1.00      1.00         5\n",
      "                    JULIA       1.00      0.80      0.89         5\n",
      "             LARGE MARBLE       0.67      0.80      0.73         5\n",
      "                LUNA MOTH       1.00      0.80      0.89         5\n",
      "   MADAGASCAN SUNSET MOTH       1.00      1.00      1.00         5\n",
      "                MALACHITE       1.00      1.00      1.00         5\n",
      "         MANGROVE SKIPPER       1.00      1.00      1.00         5\n",
      "                   MESTRA       1.00      1.00      1.00         5\n",
      "                METALMARK       0.83      1.00      0.91         5\n",
      "   MILBERTS TORTOISESHELL       1.00      1.00      1.00         5\n",
      "                  MONARCH       1.00      1.00      1.00         5\n",
      "           MOURNING CLOAK       1.00      1.00      1.00         5\n",
      "       OLEANDER HAWK MOTH       1.00      1.00      1.00         5\n",
      "           ORANGE OAKLEAF       0.83      1.00      0.91         5\n",
      "               ORANGE TIP       1.00      1.00      1.00         5\n",
      "          ORCHARD SWALLOW       0.83      1.00      0.91         5\n",
      "             PAINTED LADY       1.00      1.00      1.00         5\n",
      "               PAPER KITE       1.00      1.00      1.00         5\n",
      "                  PEACOCK       1.00      1.00      1.00         5\n",
      "               PINE WHITE       1.00      1.00      1.00         5\n",
      "         PIPEVINE SWALLOW       1.00      1.00      1.00         5\n",
      "          POLYPHEMUS MOTH       1.00      0.80      0.89         5\n",
      "                 POPINJAY       1.00      1.00      1.00         5\n",
      "        PURPLE HAIRSTREAK       1.00      0.80      0.89         5\n",
      "          PURPLISH COPPER       1.00      0.80      0.89         5\n",
      "            QUESTION MARK       0.67      0.80      0.73         5\n",
      "              RED ADMIRAL       0.80      0.80      0.80         5\n",
      "              RED CRACKER       1.00      1.00      1.00         5\n",
      "              RED POSTMAN       1.00      1.00      1.00         5\n",
      "       RED SPOTTED PURPLE       0.83      1.00      0.91         5\n",
      "          ROSY MAPLE MOTH       0.83      1.00      0.91         5\n",
      "           SCARCE SWALLOW       0.71      1.00      0.83         5\n",
      "      SILVER SPOT SKIPPER       1.00      0.80      0.89         5\n",
      "      SIXSPOT BURNET MOTH       1.00      1.00      1.00         5\n",
      "            SLEEPY ORANGE       1.00      0.80      0.89         5\n",
      "                SOOTYWING       1.00      1.00      1.00         5\n",
      "         SOUTHERN DOGFACE       1.00      0.60      0.75         5\n",
      "           STRAITED QUEEN       1.00      1.00      1.00         5\n",
      "        TROPICAL LEAFWING       1.00      0.80      0.89         5\n",
      "       TWO BARRED FLASHER       1.00      0.80      0.89         5\n",
      "                   ULYSES       0.80      0.80      0.80         5\n",
      "                  VICEROY       1.00      1.00      1.00         5\n",
      "  WHITE LINED SPHINX MOTH       1.00      0.80      0.89         5\n",
      "               WOOD SATYR       1.00      1.00      1.00         5\n",
      "      YELLOW SWALLOW TAIL       0.83      1.00      0.91         5\n",
      "          ZEBRA LONG WING       1.00      1.00      1.00         5\n",
      "\n",
      "                 accuracy                           0.93       500\n",
      "                macro avg       0.94      0.93      0.93       500\n",
      "             weighted avg       0.94      0.93      0.93       500\n",
      "\n"
     ]
    }
   ],
   "source": [
    "valid_loss, valid_accuracy, valid_f1, all_labels, all_preds = evaluate_model(model_efficientnet, valid_loader, criterion)\n",
    "\n",
    "# Print results\n",
    "print(f\"Validation Loss: {valid_loss:.4f}\")\n",
    "print(f\"Validation Accuracy: {valid_accuracy:.4f}\")\n",
    "print(f\"Validation F1 Score: {valid_f1:.4f}\")\n",
    "\n",
    "# Print the classification report\n",
    "report = classification_report(all_labels, all_preds, target_names=train_dataset.classes)\n",
    "print(report)"
   ]
  },
  {
   "cell_type": "markdown",
   "metadata": {},
   "source": [
    "====================================================================================================\n",
    "### Performance on Test set"
   ]
  },
  {
   "cell_type": "markdown",
   "metadata": {},
   "source": [
    "Evaluation matrix"
   ]
  },
  {
   "cell_type": "code",
   "execution_count": 107,
   "metadata": {},
   "outputs": [
    {
     "name": "stdout",
     "output_type": "stream",
     "text": [
      "Test Loss: 0.1893\n",
      "Test Accuracy: 0.9520\n",
      "Test F1 Score: 0.9508\n",
      "Test Precison: 0.9587\n",
      "Test Recall: 0.9520\n"
     ]
    }
   ],
   "source": [
    "model.to(device)\n",
    "model.eval()\n",
    "all_labels = []\n",
    "all_preds = []\n",
    "all_probs = []\n",
    "\n",
    "# Perform on test set\n",
    "test_loss = 0.0\n",
    "with torch.no_grad():\n",
    "    # Use tqdm for validation progress\n",
    "    for images, labels in test_loader:\n",
    "        images, labels = images.to(device), labels.to(device)\n",
    "        outputs = model(images)\n",
    "        loss = criterion(outputs, labels)\n",
    "\n",
    "        test_loss += loss.item()\n",
    "\n",
    "        _, preds = torch.max(outputs, 1)\n",
    "        probs = torch.softmax(outputs, dim=1)\n",
    "\n",
    "        all_labels.extend(labels.cpu().numpy())\n",
    "        all_preds.extend(preds.cpu().numpy())\n",
    "        all_probs.extend(probs.cpu().numpy())\n",
    "\n",
    "test_loss /= len(test_loader)\n",
    "test_accuracy = accuracy_score(all_labels, all_preds)\n",
    "test_precision = precision_score(all_labels, all_preds, average='macro', zero_division=1)\n",
    "test_recall = recall_score(all_labels, all_preds, average='macro', zero_division=1)\n",
    "test_f1 = f1_score(all_labels, all_preds, average='macro')\n",
    "\n",
    "# Print results\n",
    "print(f\"Test Loss: {test_loss:.4f}\")\n",
    "print(f\"Test Accuracy: {test_accuracy:.4f}\")\n",
    "print(f\"Test F1 Score: {test_f1:.4f}\")\n",
    "print(f\"Test Precison: {test_precision:.4f}\")\n",
    "print(f\"Test Recall: {test_recall:.4f}\")\n"
   ]
  },
  {
   "cell_type": "markdown",
   "metadata": {},
   "source": [
    "ROC and AUC"
   ]
  },
  {
   "cell_type": "code",
   "execution_count": 108,
   "metadata": {},
   "outputs": [
    {
     "name": "stdout",
     "output_type": "stream",
     "text": [
      "Average AUC: 0.9983\n"
     ]
    },
    {
     "data": {
      "image/png": "[encoded data removed]",
      "text/plain": [
       "<Figure size 1000x800 with 1 Axes>"
      ]
     },
     "metadata": {},
     "output_type": "display_data"
    }
   ],
   "source": [
    "# Compute ROC curve and AUC\n",
    "all_labels = np.array(all_labels)\n",
    "all_probs = np.array(all_probs)\n",
    "all_labels_bin = label_binarize(all_labels, classes=range(100))\n",
    "fpr, tpr, roc_auc = {}, {}, {}\n",
    "\n",
    "for i in range(num_classes):  # Loop over each class\n",
    "    fpr[i], tpr[i], _ = roc_curve(all_labels_bin[:, i], all_probs[:, i])\n",
    "    roc_auc[i] = auc(fpr[i], tpr[i])\n",
    "\n",
    "# average AUC across all classes\n",
    "average_auc = np.mean(list(roc_auc.values()))\n",
    "print(f'Average AUC: {average_auc:.4f}')\n",
    "\n",
    "# Plot ROC curve for some of the classes\n",
    "plt.figure(figsize=(10, 8))\n",
    "\n",
    "for i in range(15,35):\n",
    "    plt.plot(fpr[i], tpr[i], lw=1, label=f'Class {i} (AUC = {roc_auc[i]:0.2f})')\n",
    "\n",
    "plt.plot([0, 1], [0, 1], color='navy', lw=2, linestyle='--')\n",
    "plt.xlim([0.0, 1.0])\n",
    "plt.ylim([0.0, 1.05])\n",
    "plt.xlabel('False Positive Rate')\n",
    "plt.ylabel('True Positive Rate')\n",
    "plt.title('ROC Curves for All Classes')\n",
    "plt.legend(loc='lower right', fontsize=6)\n",
    "plt.show()\n"
   ]
  },
  {
   "cell_type": "markdown",
   "metadata": {},
   "source": [
    "Confusion Matrix on selected class"
   ]
  },
  {
   "cell_type": "code",
   "execution_count": 97,
   "metadata": {},
   "outputs": [
    {
     "name": "stdout",
     "output_type": "stream",
     "text": [
      "Confusion Matrix for Class 'ADONIS':\n",
      "TN: 494, FP: 1, FN: 0, TP: 5\n"
     ]
    },
    {
     "data": {
      "image/png": "[encoded data removed]",
      "text/plain": [
       "<Figure size 500x400 with 2 Axes>"
      ]
     },
     "metadata": {},
     "output_type": "display_data"
    }
   ],
   "source": [
    "target_class_idx = 0 # Plot the Confusion Matrix for this class\n",
    "target_class_name = train_dataset.classes[target_class_idx]\n",
    "\n",
    "# Convert labels and predictions to binary for the target class (0 or 1)\n",
    "binary_labels = [1 if label == target_class_idx else 0 for label in all_labels]\n",
    "binary_preds = [1 if pred == target_class_idx else 0 for pred in all_preds]\n",
    "\n",
    "# Calculate the confusion matrix (2x2)\n",
    "cm = confusion_matrix(binary_labels, binary_preds)\n",
    "\n",
    "# Confusion Matrix on dataset 2 (expanded training)\n",
    "TN, FP, FN, TP = cm.ravel()\n",
    "print(f\"Confusion Matrix for Class '{train_dataset.classes[target_class_idx]}':\")\n",
    "print(f\"TN: {TN}, FP: {FP}, FN: {FN}, TP: {TP}\")\n",
    "\n",
    "plt.figure(figsize=(5, 4))\n",
    "sns.heatmap(cm, annot=True, fmt='d', cmap='Blues', xticklabels=['Not ' + target_class_name, target_class_name],\n",
    "            yticklabels=['Not ' + target_class_name, target_class_name])\n",
    "plt.xlabel('Predicted')\n",
    "plt.ylabel('True')\n",
    "plt.title(f'Confusion Matrix for class {target_class_name}')\n",
    "plt.show()"
   ]
  },
  {
   "cell_type": "markdown",
   "metadata": {},
   "source": []
  }
 ],
 "metadata": {
  "kernelspec": {
   "display_name": "Python 3",
   "language": "python",
   "name": "python3"
  },
  "language_info": {
   "codemirror_mode": {
    "name": "ipython",
    "version": 3
   },
   "file_extension": ".py",
   "mimetype": "text/x-python",
   "name": "python",
   "nbconvert_exporter": "python",
   "pygments_lexer": "ipython3",
   "version": "3.11.9"
  }
 },
 "nbformat": 4,
 "nbformat_minor": 2
}

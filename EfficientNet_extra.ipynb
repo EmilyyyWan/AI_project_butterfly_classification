{
 "cells": [
  {
   "cell_type": "markdown",
   "metadata": {},
   "source": [
    "## Extra EfficientNet Model"
   ]
  },
  {
   "cell_type": "code",
   "execution_count": 1,
   "metadata": {},
   "outputs": [],
   "source": [
    "import numpy as np\n",
    "import matplotlib.pyplot as plt\n",
    "import seaborn as sns\n",
    "import torch\n",
    "import torch.nn as nn\n",
    "import torch.optim as optim\n",
    "from torch.utils.data import DataLoader\n",
    "from torch.utils.data import ConcatDataset\n",
    "from torchvision import datasets, transforms, models\n",
    "from tqdm import tqdm\n",
    "import time\n",
    "from sklearn.metrics import roc_curve, auc\n",
    "from sklearn.metrics import classification_report\n",
    "from sklearn.metrics import confusion_matrix\n",
    "from sklearn.metrics import precision_score, recall_score, f1_score, accuracy_score\n",
    "from sklearn.preprocessing import label_binarize\n"
   ]
  },
  {
   "cell_type": "code",
   "execution_count": 2,
   "metadata": {},
   "outputs": [],
   "source": [
    "def trainingModel(model, tr_loader, va_loader,learning_rate, num_epoch=10):\n",
    "    device = torch.device(\"mps\" if torch.backends.mps.is_available() else \"cpu\")\n",
    "    model = model.to(device)\n",
    "\n",
    "    # Optimizer and Loss Function\n",
    "    optimizer = optim.Adam(model.parameters(), lr=learning_rate)\n",
    "    criterion = nn.CrossEntropyLoss()\n",
    "\n",
    "    # History\n",
    "    history = {\"train_loss\": [], \"valid_loss\": [], \"valid_accuracy\": []}\n",
    "\n",
    "    # Track the best model\n",
    "    best_valid_loss = float('inf')  # Initialize to infinity\n",
    "    best_model_wts = None\n",
    "\n",
    "    # Training and Validation Loop with Progress Updates\n",
    "    epochs = num_epoch\n",
    "    for epoch in range(epochs):\n",
    "        start_time = time.time()\n",
    "        \n",
    "        # Training Phase\n",
    "        model.train()\n",
    "        train_loss = 0\n",
    "        train_preds = []\n",
    "        train_labels = []\n",
    "        \n",
    "        # Use tqdm for batch-level progress\n",
    "        for images, labels in tqdm(tr_loader, desc=f\"Epoch {epoch+1}/{epochs} - Training\", leave=False):\n",
    "            images, labels = images.to(device), labels.to(device)\n",
    "\n",
    "            # Forward pass\n",
    "            outputs = model(images)\n",
    "            loss = criterion(outputs, labels)\n",
    "\n",
    "            # Backward pass and optimization\n",
    "            optimizer.zero_grad()\n",
    "            loss.backward()\n",
    "            optimizer.step()\n",
    "\n",
    "            train_loss += loss.item()\n",
    "            _, preds = torch.max(outputs, 1)\n",
    "            train_preds.extend(preds.cpu().numpy())\n",
    "            train_labels.extend(labels.cpu().numpy())\n",
    "\n",
    "        train_loss /= len(tr_loader)\n",
    "        train_precision = precision_score(train_labels, train_preds, average='macro', zero_division=1)\n",
    "        train_recall = recall_score(train_labels, train_preds, average='macro', zero_division=1)\n",
    "        \n",
    "        # Validation Phase\n",
    "        model.eval()\n",
    "        valid_loss = 0\n",
    "        all_labels = []\n",
    "        all_preds = []\n",
    "        \n",
    "        with torch.no_grad():\n",
    "            # Use tqdm for validation progress\n",
    "            for images, labels in tqdm(va_loader, desc=f\"Epoch {epoch+1}/{epochs} - Validation\", leave=False):\n",
    "                images, labels = images.to(device), labels.to(device)\n",
    "                outputs = model(images)\n",
    "                loss = criterion(outputs, labels)\n",
    "\n",
    "                valid_loss += loss.item()\n",
    "\n",
    "                _, preds = torch.max(outputs, 1)\n",
    "                all_labels.extend(labels.cpu().numpy())\n",
    "                all_preds.extend(preds.cpu().numpy())\n",
    "\n",
    "        valid_loss /= len(va_loader)\n",
    "        valid_accuracy = (torch.tensor(all_preds) == torch.tensor(all_labels)).float().mean().item()\n",
    "        valid_f1 = f1_score(all_labels, all_preds, average='macro')\n",
    "        valid_precision = precision_score(all_labels, all_preds, average='macro', zero_division=1)\n",
    "        valid_recall = recall_score(all_labels, all_preds, average='macro', zero_division=1)\n",
    "\n",
    "        epoch_duration = time.time() - start_time\n",
    "\n",
    "        # Store in history\n",
    "        history[\"train_loss\"].append(train_loss)\n",
    "        history[\"valid_loss\"].append(valid_loss)\n",
    "        history[\"valid_accuracy\"].append(valid_accuracy)\n",
    "\n",
    "        # Print the progress with more metrics and time per epoch\n",
    "        print(f\"Epoch {epoch+1}/{epochs} - Duration: {epoch_duration:.2f}s\")\n",
    "        print(f\"Train Loss: {train_loss:.4f}, Train Precision: {train_precision:.4f}, Train Recall: {train_recall:.4f}\")\n",
    "        print(f\"Valid Loss: {valid_loss:.4f}, Valid Accuracy: {valid_accuracy:.4f}, Valid F1 Score: {valid_f1:.4f}, Valid Precision: {valid_precision:.4f}, Valid Recall: {valid_recall:.4f}\")\n",
    "\n",
    "        # Save the best model weights\n",
    "        if valid_loss < best_valid_loss:\n",
    "            best_valid_loss = valid_loss\n",
    "            best_model_wts = model.state_dict()\n",
    "\n",
    "    return model, history, best_model_wts"
   ]
  },
  {
   "cell_type": "markdown",
   "metadata": {},
   "source": [
    "### Define training Dataloader"
   ]
  },
  {
   "cell_type": "code",
   "execution_count": 3,
   "metadata": {},
   "outputs": [],
   "source": [
    "def loadTrainingData(i_size, b_size, original=True):\n",
    "    # Data transformations with augmentation\n",
    "    train_transforms = transforms.Compose([\n",
    "        transforms.Resize((i_size, i_size)),\n",
    "        transforms.RandomHorizontalFlip(),\n",
    "        transforms.RandomRotation(45),\n",
    "        transforms.ToTensor(),\n",
    "        transforms.Normalize(mean=[0.485, 0.456, 0.406], std=[0.229, 0.224, 0.225])  # Normalize\n",
    "    ])\n",
    "\n",
    "    valid_test_transforms = transforms.Compose([\n",
    "        transforms.Resize((i_size, i_size)),\n",
    "        transforms.ToTensor(),\n",
    "        transforms.Normalize(mean=[0.485, 0.456, 0.406], std=[0.229, 0.224, 0.225])  # Normalize\n",
    "    ])\n",
    "\n",
    "    # Datasets\n",
    "    train_dataset = datasets.ImageFolder(\"butterfly_and_moth_classification/train\", transform=train_transforms)\n",
    "    valid_dataset = datasets.ImageFolder(\"butterfly_and_moth_classification/valid\", transform=valid_test_transforms)\n",
    "    test_dataset = datasets.ImageFolder(\"butterfly_and_moth_classification/test\", transform=valid_test_transforms)\n",
    "\n",
    "    # DataLoaders\n",
    "    batch_size = b_size\n",
    "    train_loader = DataLoader(train_dataset, batch_size=batch_size, shuffle=True)\n",
    "    valid_loader = DataLoader(valid_dataset, batch_size=batch_size, shuffle=False)\n",
    "    test_loader = DataLoader(test_dataset, batch_size=batch_size, shuffle=False)\n",
    "\n",
    "    if(original == False):\n",
    "        train_original = datasets.ImageFolder(\"butterfly_and_moth_classification/train\", transform=valid_test_transforms) # original training set\n",
    "        augmented_dataset = datasets.ImageFolder(\"butterfly_and_moth_classification/train\", transform=train_transforms) # trainsformed training set\n",
    "        train_combined = ConcatDataset([train_original, augmented_dataset])\n",
    "        train_loader = DataLoader(train_combined, batch_size=batch_size, shuffle=True)\n",
    "\n",
    "    print(f\"Training set size: {len(train_loader.dataset)}\")\n",
    "    print(f\"Validation set size: {len(valid_loader.dataset)}\")\n",
    "    print(f\"Test set size: {len(test_loader.dataset)}\")\n",
    "    \n",
    "    return train_dataset, valid_dataset, test_dataset, train_loader, valid_loader, test_loader"
   ]
  },
  {
   "cell_type": "code",
   "execution_count": 4,
   "metadata": {},
   "outputs": [],
   "source": [
    "# Set seed for reproducibility\n",
    "torch.manual_seed(42)\n",
    "np.random.seed(42)\n",
    "\n",
    "# Set CUDA seed (if using GPU)\n",
    "if torch.cuda.is_available():\n",
    "    torch.cuda.manual_seed_all(42)  # for all GPUs\n",
    "\n",
    "# Ensure deterministic behavior\n",
    "torch.backends.cudnn.deterministic = True\n",
    "torch.backends.cudnn.benchmark = False"
   ]
  },
  {
   "cell_type": "markdown",
   "metadata": {},
   "source": [
    "input size 128 x 128, batch_size = 64, learning rate = 0.0001, original training set, num_epoch = 20"
   ]
  },
  {
   "cell_type": "code",
   "execution_count": 6,
   "metadata": {},
   "outputs": [
    {
     "name": "stdout",
     "output_type": "stream",
     "text": [
      "Training set size: 12594\n",
      "Validation set size: 500\n",
      "Test set size: 500\n"
     ]
    },
    {
     "name": "stderr",
     "output_type": "stream",
     "text": [
      "/Library/Frameworks/Python.framework/Versions/3.11/lib/python3.11/site-packages/torchvision/models/_utils.py:208: UserWarning: The parameter 'pretrained' is deprecated since 0.13 and may be removed in the future, please use 'weights' instead.\n",
      "  warnings.warn(\n",
      "/Library/Frameworks/Python.framework/Versions/3.11/lib/python3.11/site-packages/torchvision/models/_utils.py:223: UserWarning: Arguments other than a weight enum or `None` for 'weights' are deprecated since 0.13 and may be removed in the future. The current behavior is equivalent to passing `weights=EfficientNet_B0_Weights.IMAGENET1K_V1`. You can also use `weights=EfficientNet_B0_Weights.DEFAULT` to get the most up-to-date weights.\n",
      "  warnings.warn(msg)\n",
      "                                                                        \r"
     ]
    },
    {
     "name": "stdout",
     "output_type": "stream",
     "text": [
      "Epoch 1/20 - Duration: 126.56s\n",
      "Train Loss: 3.4628, Train Precision: 0.3972, Train Recall: 0.3745\n",
      "Valid Loss: 1.6896, Valid Accuracy: 0.7720, Valid F1 Score: 0.7493, Valid Precision: 0.8338, Valid Recall: 0.7720\n"
     ]
    },
    {
     "name": "stderr",
     "output_type": "stream",
     "text": [
      "                                                                        \r"
     ]
    },
    {
     "name": "stdout",
     "output_type": "stream",
     "text": [
      "Epoch 2/20 - Duration: 124.95s\n",
      "Train Loss: 1.1280, Train Precision: 0.8099, Train Recall: 0.8010\n",
      "Valid Loss: 0.5633, Valid Accuracy: 0.8880, Valid F1 Score: 0.8825, Valid Precision: 0.9105, Valid Recall: 0.8880\n"
     ]
    },
    {
     "name": "stderr",
     "output_type": "stream",
     "text": [
      "                                                                        \r"
     ]
    },
    {
     "name": "stdout",
     "output_type": "stream",
     "text": [
      "Epoch 3/20 - Duration: 126.23s\n",
      "Train Loss: 0.5346, Train Precision: 0.8811, Train Recall: 0.8797\n",
      "Valid Loss: 0.3343, Valid Accuracy: 0.9240, Valid F1 Score: 0.9219, Valid Precision: 0.9342, Valid Recall: 0.9240\n"
     ]
    },
    {
     "name": "stderr",
     "output_type": "stream",
     "text": [
      "                                                                        \r"
     ]
    },
    {
     "name": "stdout",
     "output_type": "stream",
     "text": [
      "Epoch 4/20 - Duration: 125.61s\n",
      "Train Loss: 0.3698, Train Precision: 0.9110, Train Recall: 0.9096\n",
      "Valid Loss: 0.2536, Valid Accuracy: 0.9320, Valid F1 Score: 0.9299, Valid Precision: 0.9401, Valid Recall: 0.9320\n"
     ]
    },
    {
     "name": "stderr",
     "output_type": "stream",
     "text": [
      "                                                                        \r"
     ]
    },
    {
     "name": "stdout",
     "output_type": "stream",
     "text": [
      "Epoch 5/20 - Duration: 125.13s\n",
      "Train Loss: 0.2761, Train Precision: 0.9311, Train Recall: 0.9308\n",
      "Valid Loss: 0.2169, Valid Accuracy: 0.9440, Valid F1 Score: 0.9431, Valid Precision: 0.9508, Valid Recall: 0.9440\n"
     ]
    },
    {
     "name": "stderr",
     "output_type": "stream",
     "text": [
      "                                                                        \r"
     ]
    },
    {
     "name": "stdout",
     "output_type": "stream",
     "text": [
      "Epoch 6/20 - Duration: 125.47s\n",
      "Train Loss: 0.2162, Train Precision: 0.9443, Train Recall: 0.9438\n",
      "Valid Loss: 0.1928, Valid Accuracy: 0.9520, Valid F1 Score: 0.9519, Valid Precision: 0.9588, Valid Recall: 0.9520\n"
     ]
    },
    {
     "name": "stderr",
     "output_type": "stream",
     "text": [
      "                                                                        \r"
     ]
    },
    {
     "name": "stdout",
     "output_type": "stream",
     "text": [
      "Epoch 7/20 - Duration: 128.03s\n",
      "Train Loss: 0.1810, Train Precision: 0.9520, Train Recall: 0.9513\n",
      "Valid Loss: 0.1838, Valid Accuracy: 0.9460, Valid F1 Score: 0.9450, Valid Precision: 0.9535, Valid Recall: 0.9460\n"
     ]
    },
    {
     "name": "stderr",
     "output_type": "stream",
     "text": [
      "                                                                        \r"
     ]
    },
    {
     "name": "stdout",
     "output_type": "stream",
     "text": [
      "Epoch 8/20 - Duration: 120.04s\n",
      "Train Loss: 0.1528, Train Precision: 0.9581, Train Recall: 0.9581\n",
      "Valid Loss: 0.1791, Valid Accuracy: 0.9500, Valid F1 Score: 0.9493, Valid Precision: 0.9573, Valid Recall: 0.9500\n"
     ]
    },
    {
     "name": "stderr",
     "output_type": "stream",
     "text": [
      "                                                                        \r"
     ]
    },
    {
     "name": "stdout",
     "output_type": "stream",
     "text": [
      "Epoch 9/20 - Duration: 123.31s\n",
      "Train Loss: 0.1306, Train Precision: 0.9652, Train Recall: 0.9650\n",
      "Valid Loss: 0.1770, Valid Accuracy: 0.9580, Valid F1 Score: 0.9574, Valid Precision: 0.9633, Valid Recall: 0.9580\n"
     ]
    },
    {
     "name": "stderr",
     "output_type": "stream",
     "text": [
      "                                                                         \r"
     ]
    },
    {
     "name": "stdout",
     "output_type": "stream",
     "text": [
      "Epoch 10/20 - Duration: 135.16s\n",
      "Train Loss: 0.1094, Train Precision: 0.9695, Train Recall: 0.9695\n",
      "Valid Loss: 0.1725, Valid Accuracy: 0.9540, Valid F1 Score: 0.9537, Valid Precision: 0.9608, Valid Recall: 0.9540\n"
     ]
    },
    {
     "name": "stderr",
     "output_type": "stream",
     "text": [
      "                                                                         \r"
     ]
    },
    {
     "name": "stdout",
     "output_type": "stream",
     "text": [
      "Epoch 11/20 - Duration: 127.35s\n",
      "Train Loss: 0.0932, Train Precision: 0.9760, Train Recall: 0.9758\n",
      "Valid Loss: 0.1695, Valid Accuracy: 0.9560, Valid F1 Score: 0.9553, Valid Precision: 0.9621, Valid Recall: 0.9560\n"
     ]
    },
    {
     "name": "stderr",
     "output_type": "stream",
     "text": [
      "                                                                         \r"
     ]
    },
    {
     "name": "stdout",
     "output_type": "stream",
     "text": [
      "Epoch 12/20 - Duration: 125.47s\n",
      "Train Loss: 0.0851, Train Precision: 0.9762, Train Recall: 0.9761\n",
      "Valid Loss: 0.1770, Valid Accuracy: 0.9600, Valid F1 Score: 0.9595, Valid Precision: 0.9653, Valid Recall: 0.9600\n"
     ]
    },
    {
     "name": "stderr",
     "output_type": "stream",
     "text": [
      "                                                                         \r"
     ]
    },
    {
     "name": "stdout",
     "output_type": "stream",
     "text": [
      "Epoch 13/20 - Duration: 125.28s\n",
      "Train Loss: 0.0696, Train Precision: 0.9806, Train Recall: 0.9803\n",
      "Valid Loss: 0.1903, Valid Accuracy: 0.9540, Valid F1 Score: 0.9536, Valid Precision: 0.9608, Valid Recall: 0.9540\n"
     ]
    },
    {
     "name": "stderr",
     "output_type": "stream",
     "text": [
      "                                                                         \r"
     ]
    },
    {
     "name": "stdout",
     "output_type": "stream",
     "text": [
      "Epoch 14/20 - Duration: 126.42s\n",
      "Train Loss: 0.0631, Train Precision: 0.9829, Train Recall: 0.9828\n",
      "Valid Loss: 0.1822, Valid Accuracy: 0.9600, Valid F1 Score: 0.9597, Valid Precision: 0.9660, Valid Recall: 0.9600\n"
     ]
    },
    {
     "name": "stderr",
     "output_type": "stream",
     "text": [
      "                                                                         \r"
     ]
    },
    {
     "name": "stdout",
     "output_type": "stream",
     "text": [
      "Epoch 15/20 - Duration: 129.31s\n",
      "Train Loss: 0.0566, Train Precision: 0.9850, Train Recall: 0.9849\n",
      "Valid Loss: 0.1869, Valid Accuracy: 0.9500, Valid F1 Score: 0.9498, Valid Precision: 0.9568, Valid Recall: 0.9500\n"
     ]
    },
    {
     "name": "stderr",
     "output_type": "stream",
     "text": [
      "                                                                         \r"
     ]
    },
    {
     "name": "stdout",
     "output_type": "stream",
     "text": [
      "Epoch 16/20 - Duration: 132.31s\n",
      "Train Loss: 0.0498, Train Precision: 0.9863, Train Recall: 0.9863\n",
      "Valid Loss: 0.1959, Valid Accuracy: 0.9560, Valid F1 Score: 0.9555, Valid Precision: 0.9613, Valid Recall: 0.9560\n"
     ]
    },
    {
     "name": "stderr",
     "output_type": "stream",
     "text": [
      "                                                                         \r"
     ]
    },
    {
     "name": "stdout",
     "output_type": "stream",
     "text": [
      "Epoch 17/20 - Duration: 135.32s\n",
      "Train Loss: 0.0442, Train Precision: 0.9882, Train Recall: 0.9879\n",
      "Valid Loss: 0.2047, Valid Accuracy: 0.9560, Valid F1 Score: 0.9546, Valid Precision: 0.9616, Valid Recall: 0.9560\n"
     ]
    },
    {
     "name": "stderr",
     "output_type": "stream",
     "text": [
      "                                                                         \r"
     ]
    },
    {
     "name": "stdout",
     "output_type": "stream",
     "text": [
      "Epoch 18/20 - Duration: 136.03s\n",
      "Train Loss: 0.0418, Train Precision: 0.9888, Train Recall: 0.9889\n",
      "Valid Loss: 0.1894, Valid Accuracy: 0.9580, Valid F1 Score: 0.9574, Valid Precision: 0.9653, Valid Recall: 0.9580\n"
     ]
    },
    {
     "name": "stderr",
     "output_type": "stream",
     "text": [
      "                                                                         \r"
     ]
    },
    {
     "name": "stdout",
     "output_type": "stream",
     "text": [
      "Epoch 19/20 - Duration: 136.74s\n",
      "Train Loss: 0.0388, Train Precision: 0.9896, Train Recall: 0.9895\n",
      "Valid Loss: 0.2110, Valid Accuracy: 0.9580, Valid F1 Score: 0.9574, Valid Precision: 0.9645, Valid Recall: 0.9580\n"
     ]
    },
    {
     "name": "stderr",
     "output_type": "stream",
     "text": [
      "                                                                         "
     ]
    },
    {
     "name": "stdout",
     "output_type": "stream",
     "text": [
      "Epoch 20/20 - Duration: 133.88s\n",
      "Train Loss: 0.0358, Train Precision: 0.9900, Train Recall: 0.9899\n",
      "Valid Loss: 0.2227, Valid Accuracy: 0.9540, Valid F1 Score: 0.9535, Valid Precision: 0.9608, Valid Recall: 0.9540\n"
     ]
    },
    {
     "name": "stderr",
     "output_type": "stream",
     "text": [
      "\r"
     ]
    }
   ],
   "source": [
    "train_dataset, valid_dataset, test_dataset, train_loader, valid_loader, test_loader = loadTrainingData(128,64);\n",
    "num_classes = len(train_dataset.classes)\n",
    "model = models.efficientnet_b0(pretrained=True)\n",
    "model.classifier[1] = nn.Linear(model.classifier[1].in_features, num_classes)\n",
    "model_efficientnet, history_effiNet, best_wts_effiNet = trainingModel(model, train_loader, valid_loader, learning_rate=0.0001, num_epoch=20)"
   ]
  },
  {
   "cell_type": "markdown",
   "metadata": {},
   "source": [
    "Evaluation"
   ]
  },
  {
   "cell_type": "code",
   "execution_count": 9,
   "metadata": {},
   "outputs": [
    {
     "data": {
      "image/png": "[encoded data removed]",
      "text/plain": [
       "<Figure size 800x500 with 1 Axes>"
      ]
     },
     "metadata": {},
     "output_type": "display_data"
    },
    {
     "data": {
      "image/png": "[encoded data removed]",
      "text/plain": [
       "<Figure size 800x500 with 1 Axes>"
      ]
     },
     "metadata": {},
     "output_type": "display_data"
    }
   ],
   "source": [
    "# Plot Training and Valid Loss\n",
    "plt.figure(figsize=(8, 5))\n",
    "plt.plot(history_effiNet[\"train_loss\"], label=\"train loss\")\n",
    "plt.plot(history_effiNet[\"valid_loss\"], label=\"validation loss\")\n",
    "plt.title(\"Training Results over Epochs\")\n",
    "plt.xlabel(\"Epochs\")\n",
    "plt.ylabel(\"Evaluations\")\n",
    "plt.legend()\n",
    "plt.grid(True)\n",
    "plt.show()\n",
    "\n",
    "\n",
    "# Plot Validation Accuracy\n",
    "plt.figure(figsize=(8, 5))\n",
    "plt.plot(history_effiNet[\"valid_accuracy\"], label=\"validation accuracy\")\n",
    "plt.title(\"Training Results over Epochs\")\n",
    "plt.xlabel(\"Epochs\")\n",
    "plt.ylabel(\"Evaluations\")\n",
    "plt.legend()\n",
    "plt.grid(True)\n",
    "plt.show()"
   ]
  },
  {
   "cell_type": "code",
   "execution_count": 11,
   "metadata": {},
   "outputs": [
    {
     "name": "stdout",
     "output_type": "stream",
     "text": [
      "Test Loss: 0.1115\n",
      "Test Accuracy: 0.9680\n",
      "Test F1 Score: 0.9677\n",
      "Test Precison: 0.9735\n",
      "Test Recall: 0.9680\n"
     ]
    }
   ],
   "source": [
    "device = torch.device(\"mps\" if torch.backends.mps.is_available() else \"cpu\")\n",
    "criterion = nn.CrossEntropyLoss()\n",
    "model_efficientnet.load_state_dict(best_wts_effiNet)\n",
    "model_efficientnet.to(device)\n",
    "model_efficientnet.eval()\n",
    "all_labels = []\n",
    "all_preds = []\n",
    "all_probs = []\n",
    "\n",
    "# Perform on test set\n",
    "test_loss = 0.0\n",
    "with torch.no_grad():\n",
    "    # Use tqdm for validation progress\n",
    "    for images, labels in test_loader:\n",
    "        images, labels = images.to(device), labels.to(device)\n",
    "        outputs = model(images)\n",
    "        loss = criterion(outputs, labels)\n",
    "\n",
    "        test_loss += loss.item()\n",
    "\n",
    "        _, preds = torch.max(outputs, 1)\n",
    "        probs = torch.softmax(outputs, dim=1)\n",
    "\n",
    "        all_labels.extend(labels.cpu().numpy())\n",
    "        all_preds.extend(preds.cpu().numpy())\n",
    "        all_probs.extend(probs.cpu().numpy())\n",
    "\n",
    "test_loss /= len(test_loader)\n",
    "test_accuracy = accuracy_score(all_labels, all_preds)\n",
    "test_precision = precision_score(all_labels, all_preds, average='macro', zero_division=1)\n",
    "test_recall = recall_score(all_labels, all_preds, average='macro', zero_division=1)\n",
    "test_f1 = f1_score(all_labels, all_preds, average='macro')\n",
    "\n",
    "# Print results\n",
    "print(f\"Test Loss: {test_loss:.4f}\")\n",
    "print(f\"Test Accuracy: {test_accuracy:.4f}\")\n",
    "print(f\"Test F1 Score: {test_f1:.4f}\")\n",
    "print(f\"Test Precison: {test_precision:.4f}\")\n",
    "print(f\"Test Recall: {test_recall:.4f}\")\n"
   ]
  }
 ],
 "metadata": {
  "kernelspec": {
   "display_name": "Python 3",
   "language": "python",
   "name": "python3"
  },
  "language_info": {
   "codemirror_mode": {
    "name": "ipython",
    "version": 3
   },
   "file_extension": ".py",
   "mimetype": "text/x-python",
   "name": "python",
   "nbconvert_exporter": "python",
   "pygments_lexer": "ipython3",
   "version": "3.11.9"
  }
 },
 "nbformat": 4,
 "nbformat_minor": 2
}
